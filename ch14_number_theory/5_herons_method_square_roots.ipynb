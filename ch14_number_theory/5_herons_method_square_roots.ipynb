{
 "cells": [
  {
   "attachments": {},
   "cell_type": "markdown",
   "metadata": {},
   "source": [
    "#### __Heron's method of Square Roots__\n",
    "\n",
    "Computers compute square roots, irrational numbers as approximation. There's also a symbolic wayt to deal with this, as we know (using sympy e.g.)"
   ]
  },
  {
   "cell_type": "code",
   "execution_count": 1,
   "metadata": {},
   "outputs": [],
   "source": [
    "import numpy as np\n",
    "import matplotlib.pyplot as plt\n",
    "import sympy as sym\n",
    "from IPython.display import display, Math\n"
   ]
  },
  {
   "attachments": {},
   "cell_type": "markdown",
   "metadata": {},
   "source": [
    "$$ \n",
    "\\sqrt{Y}=X \\qquad Y = X^2\\newline\n",
    "Y = (x + \\epsilon)^2 \\newline\n",
    "Y = x^2 + 2x\\epsilon + \\epsilon^2\\newline\n",
    "\n",
    "\\epsilon \\approx \\frac{Y-x^2}{2x}\\newline\n",
    "\n",
    "X \\approx x + \\frac{Y-x^2}{2x}\\newline\n",
    "\n",
    "X \\approx \\frac{x + \\frac{Y}{x}}{2} \\hspace{30mm}\n",
    "$$\n",
    "\n",
    "<br>\n",
    "\n",
    "So we __iteratively__ are going to be closer and closer while increasing epsilon which is relatively small compared to Y"
   ]
  },
  {
   "attachments": {},
   "cell_type": "markdown",
   "metadata": {},
   "source": [
    "EXERCISE"
   ]
  },
  {
   "cell_type": "code",
   "execution_count": 112,
   "metadata": {},
   "outputs": [
    {
     "name": "stderr",
     "output_type": "stream",
     "text": [
      "/var/folders/0r/r1g3n1k91rj2y9473jt0d9sh0000gn/T/ipykernel_22139/108793849.py:22: RuntimeWarning: divide by zero encountered in log\n",
      "  error = -np.log(np.abs(x_approx-np.sqrt(Y)))\n"
     ]
    },
    {
     "data": {
      "image/png": "[encoded data removed]",
      "text/plain": [
       "<Figure size 1300x600 with 1 Axes>"
      ]
     },
     "metadata": {},
     "output_type": "display_data"
    }
   ],
   "source": [
    "Y_steps_num = 50\n",
    "Ys = np.linspace(2, 101, Y_steps_num)\n",
    "\n",
    "heron_iterations_num = 8\n",
    "\n",
    "A = np.zeros([heron_iterations_num, Y_steps_num])\n",
    "B = np.zeros([heron_iterations_num, Y_steps_num])\n",
    "\n",
    "for Y_idx, Y in enumerate(Ys):\n",
    "    x_approx = 0\n",
    "\n",
    "    while x_approx**2 < Y:\n",
    "        x_approx+=1\n",
    "\n",
    "    x_approx -= 1 # we've found the number that is squared higher, so we need to go backward once\n",
    "    # print(f'Zeroeth approx: {x_approx}')\n",
    "\n",
    "    x_approx_col = []\n",
    "    error_col = []\n",
    "    for iter in range(1, heron_iterations_num+1):\n",
    "        x_approx = (x_approx + Y/x_approx) / 2\n",
    "        error = -np.log(np.abs(x_approx-np.sqrt(Y)))\n",
    "    \n",
    "        # print(f'{iter}. Best approximation: {np.round(x_approx, 3)}. Error: {np.round(error, 3)}. Numpy result: {np.round(np.sqrt(Y), 3)}')\n",
    "        x_approx_col.append(x_approx)\n",
    "        error_col.append(error)\n",
    "    \n",
    "    # print(f\"Y={Y}. {x_approx_col}\")\n",
    "    A[:, Y_idx] = np.array(x_approx_col)\n",
    "    B[:, Y_idx] = np.array(error_col)\n",
    "\n",
    "# display(Math(sym.latex(sym.sympify(np.round(A, 3)))))\n",
    "# display(Math(sym.latex(sym.sympify(np.round(B, 3)))))\n",
    "\n",
    "plt.pcolormesh(Ys, np.arange(1, heron_iterations_num+1), B[:])\n",
    "\n",
    "plt.xlabel('Number')\n",
    "plt.ylabel('Iterations')\n",
    "plt.title('-log(error)')\n",
    "plt.gca().invert_yaxis()\n",
    "\n",
    "plt.gcf().set_size_inches(13, 6)\n",
    "plt.show()\n",
    "    \n",
    "\n"
   ]
  },
  {
   "cell_type": "code",
   "execution_count": 20,
   "metadata": {},
   "outputs": [
    {
     "name": "stdout",
     "output_type": "stream",
     "text": [
      "Zeroeth approx: 1111\n",
      "1. Best approximation: 1111.665. Error: 0.0. Numpy result: 1111.665\n",
      "2. Best approximation: 1111.665. Error: 0.0. Numpy result: 1111.665\n",
      "3. Best approximation: 1111.665. Error: 0.0. Numpy result: 1111.665\n",
      "4. Best approximation: 1111.665. Error: 0.0. Numpy result: 1111.665\n",
      "5. Best approximation: 1111.665. Error: 0.0. Numpy result: 1111.665\n",
      "6. Best approximation: 1111.665. Error: 0.0. Numpy result: 1111.665\n",
      "7. Best approximation: 1111.665. Error: 0.0. Numpy result: 1111.665\n",
      "8. Best approximation: 1111.665. Error: 0.0. Numpy result: 1111.665\n"
     ]
    }
   ],
   "source": [
    "# Let's say we want to find an approximation of 10^0.5\n",
    "# 1) Let's find the integer that squared is smaller than 10 (=3)\n",
    "# 2) Let's use herons formula to find the first approximation\n",
    "# 3) Let's do some more iterations\n",
    "\n",
    "Y = 1235799.57789\n",
    "\n",
    "# squares_tries = np.arange(1000) # max limit= 1M\n",
    "\n",
    "x_approx = 0\n",
    "\n",
    "while x_approx**2 < Y:\n",
    "    x_approx+=1\n",
    "\n",
    "x_approx -= 1 # we've found the number that is squared higher, so we need to go backward once\n",
    "print(f'Zeroeth approx: {x_approx}')\n",
    "\n",
    "for iter in range(1, 9):\n",
    "    x_approx = (x_approx + Y/x_approx) / 2\n",
    "    error = np.abs(x_approx-np.sqrt(Y))\n",
    "    print(f'{iter}. Best approximation: {np.round(x_approx, 3)}. Error: {np.round(error, 3)}. Numpy result: {np.round(np.sqrt(Y), 3)}')\n",
    "\n",
    "\n"
   ]
  },
  {
   "attachments": {},
   "cell_type": "markdown",
   "metadata": {},
   "source": [
    "__Now the master's explanation__ "
   ]
  },
  {
   "cell_type": "code",
   "execution_count": 116,
   "metadata": {},
   "outputs": [
    {
     "data": {
      "text/plain": [
       "10.0"
      ]
     },
     "execution_count": 116,
     "metadata": {},
     "output_type": "execute_result"
    }
   ],
   "source": [
    "Y = 100\n",
    "\n",
    "x = 1\n",
    "for n in range(8):\n",
    "    x = (x + Y/x) / 2\n",
    "\n",
    "x"
   ]
  }
 ],
 "metadata": {
  "kernelspec": {
   "display_name": "env",
   "language": "python",
   "name": "python3"
  },
  "language_info": {
   "codemirror_mode": {
    "name": "ipython",
    "version": 3
   },
   "file_extension": ".py",
   "mimetype": "text/x-python",
   "name": "python",
   "nbconvert_exporter": "python",
   "pygments_lexer": "ipython3",
   "version": "3.11.1"
  },
  "orig_nbformat": 4,
  "vscode": {
   "interpreter": {
    "hash": "2a651e4ef1d612eb4226e3395ce5a6e47bf1a7ebb25c7e937bccdf31253ebbad"
   }
  }
 },
 "nbformat": 4,
 "nbformat_minor": 2
}
