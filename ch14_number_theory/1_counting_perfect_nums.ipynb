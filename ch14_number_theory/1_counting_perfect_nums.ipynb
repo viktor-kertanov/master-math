{
 "cells": [
  {
   "attachments": {},
   "cell_type": "markdown",
   "metadata": {},
   "source": [
    "### __Number Theory and perfect numbers__ \n",
    "\n",
    "- Number theory studies the properties of numbers. Numbers are interesting and they have a lot of \"wacky\", unexpected and beautiful properties.\n",
    "-  Gauss said: \"Mathmatic is the queen of sciences. And number theory is the queen of mathmatics\"\n",
    "-  Previously there was a belief that number theory is not importan practically - just some academic pursuit, but currently number theory is important for:\n",
    "   -  Geometry\n",
    "   -  Computer algorithms (you can take advantages of prime numbers or powers of 2 to make algorithms even faster; Fast Fourier transform  )\n",
    "   -  Cryptography\n",
    "   -  Data Encryption\n",
    "   -  Credit Card Numbers (how companies know that a credit card number is valid or not)\n",
    "\n",
    "__Perfect numbers__\n",
    "These are integers such that the sum of it positive divisors (exculding the number itself) is equal to the number:\n",
    "<br>\n",
    "\n",
    "$$6 = 1 + 2 + 3$$\n",
    "$$8 \\neq 1 + 2 + 4$$\n",
    "\n",
    "<br>\n",
    "\n",
    "The next perfect number is __28__. Perfect numbers are quite rare.\n",
    "\n",
    "$$28 = 1 + 2 + 4 + 7 + 14$$\n",
    "\n",
    "\n",
    "\n",
    " "
   ]
  },
  {
   "attachments": {},
   "cell_type": "markdown",
   "metadata": {},
   "source": [
    "### __Exercise__\n",
    "Our goal is to write an algorithm to test if a number is perfect or not. If the number is perfect we return __True__, else: __False__<br>\n",
    "Find all the perfect numbers between 2 and 10000."
   ]
  },
  {
   "cell_type": "code",
   "execution_count": 11,
   "metadata": {},
   "outputs": [],
   "source": [
    "import numpy as np"
   ]
  },
  {
   "cell_type": "code",
   "execution_count": 13,
   "metadata": {},
   "outputs": [
    {
     "name": "stdout",
     "output_type": "stream",
     "text": [
      "1. We have found a perfect number: 6.\n",
      "2. We have found a perfect number: 28.\n",
      "3. We have found a perfect number: 496.\n",
      "4. We have found a perfect number: 8128.\n"
     ]
    }
   ],
   "source": [
    "def perfect_or_not(num: int):\n",
    "    if type(num) != int:\n",
    "        raise ValueError('Please provide an integer to the function')\n",
    "    \n",
    "    divisors = [el for el in range(1, num) if num % el == 0]\n",
    "    \n",
    "    return sum(divisors) == num\n",
    "\n",
    "perfect_nums = []\n",
    "for i in range(2, 100001):\n",
    "    if perfect_or_not(i):\n",
    "        perfect_nums.append(i)\n",
    "        print(f\"{len(perfect_nums)}. We have found a perfect number: {i}.\")"
   ]
  }
 ],
 "metadata": {
  "kernelspec": {
   "display_name": "env",
   "language": "python",
   "name": "python3"
  },
  "language_info": {
   "codemirror_mode": {
    "name": "ipython",
    "version": 3
   },
   "file_extension": ".py",
   "mimetype": "text/x-python",
   "name": "python",
   "nbconvert_exporter": "python",
   "pygments_lexer": "ipython3",
   "version": "3.11.1"
  },
  "orig_nbformat": 4,
  "vscode": {
   "interpreter": {
    "hash": "2a651e4ef1d612eb4226e3395ce5a6e47bf1a7ebb25c7e937bccdf31253ebbad"
   }
  }
 },
 "nbformat": 4,
 "nbformat_minor": 2
}
