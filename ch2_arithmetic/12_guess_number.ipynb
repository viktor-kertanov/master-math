{
 "cells": [
  {
   "cell_type": "code",
   "execution_count": 4,
   "metadata": {},
   "outputs": [],
   "source": [
    "from random import randint"
   ]
  },
  {
   "cell_type": "code",
   "execution_count": 8,
   "metadata": {},
   "outputs": [],
   "source": [
    "def guess_number():\n",
    "    final_ans = randint(1, 101)\n",
    "    \n",
    "    user_guess = None\n",
    "    while not user_guess or user_guess != final_ans:\n",
    "        try:\n",
    "            user_guess = int(input('Hey dear friend, make your number guess. We need a number!\\n'))\n",
    "        except (TypeError, ValueError):\n",
    "            print(f\"Your input is not ok: {user_guess}. Type: {type(user_guess)}\")\n",
    "            continue\n",
    "        if user_guess > final_ans:\n",
    "            print(\"Guess lower. Your number is TOO BIG.\\n\")\n",
    "        elif user_guess < final_ans:\n",
    "            print(\"Guess higher! You number is SO LOW compared to mine.\\n\")\n",
    "        else:\n",
    "            print(f\"Here's the winner! You guess the correct number: {final_ans}. 🔥\\n\")\n",
    "    \n",
    "    print(\"End of the game. You won. You are the best!\\n\")\n",
    "        "
   ]
  },
  {
   "cell_type": "code",
   "execution_count": 11,
   "metadata": {},
   "outputs": [
    {
     "name": "stdout",
     "output_type": "stream",
     "text": [
      "Hey dear friend, make your number guess. We need a number!\n",
      "50\n",
      "Guess lower. Your number is TOO BIG.\n",
      "\n",
      "Hey dear friend, make your number guess. We need a number!\n",
      "25\n",
      "Guess higher! You number is SO LOW compared to mine.\n",
      "\n",
      "Hey dear friend, make your number guess. We need a number!\n",
      "12\n",
      "Guess higher! You number is SO LOW compared to mine.\n",
      "\n",
      "Hey dear friend, make your number guess. We need a number!\n",
      "18\n",
      "Guess higher! You number is SO LOW compared to mine.\n",
      "\n",
      "Hey dear friend, make your number guess. We need a number!\n",
      "22\n",
      "Guess higher! You number is SO LOW compared to mine.\n",
      "\n",
      "Hey dear friend, make your number guess. We need a number!\n",
      "23\n",
      "Guess higher! You number is SO LOW compared to mine.\n",
      "\n",
      "Hey dear friend, make your number guess. We need a number!\n",
      "24\n",
      "Guess higher! You number is SO LOW compared to mine.\n",
      "\n",
      "Hey dear friend, make your number guess. We need a number!\n",
      "25\n",
      "Guess higher! You number is SO LOW compared to mine.\n",
      "\n",
      "Hey dear friend, make your number guess. We need a number!\n",
      "26\n",
      "Guess higher! You number is SO LOW compared to mine.\n",
      "\n",
      "Hey dear friend, make your number guess. We need a number!\n",
      "38\n",
      "Guess higher! You number is SO LOW compared to mine.\n",
      "\n",
      "Hey dear friend, make your number guess. We need a number!\n",
      "44\n",
      "Guess higher! You number is SO LOW compared to mine.\n",
      "\n",
      "Hey dear friend, make your number guess. We need a number!\n",
      "47\n",
      "Guess higher! You number is SO LOW compared to mine.\n",
      "\n",
      "Hey dear friend, make your number guess. We need a number!\n",
      "48\n",
      "Here's the winner! You guess the correct number: 48. 🔥\n",
      "\n",
      "End of the game. You won. You are the best!\n",
      "\n"
     ]
    }
   ],
   "source": [
    "guess_number()"
   ]
  },
  {
   "cell_type": "code",
   "execution_count": 34,
   "metadata": {},
   "outputs": [
    {
     "data": {
      "text/plain": [
       "99"
      ]
     },
     "execution_count": 34,
     "metadata": {},
     "output_type": "execute_result"
    }
   ],
   "source": [
    "import numpy as np\n",
    "\n",
    "np.random.randint(1,100)"
   ]
  }
 ],
 "metadata": {
  "kernelspec": {
   "display_name": "Python 3 (ipykernel)",
   "language": "python",
   "name": "python3"
  },
  "language_info": {
   "codemirror_mode": {
    "name": "ipython",
    "version": 3
   },
   "file_extension": ".py",
   "mimetype": "text/x-python",
   "name": "python",
   "nbconvert_exporter": "python",
   "pygments_lexer": "ipython3",
   "version": "3.11.1 (v3.11.1:a7a450f84a, Dec  6 2022, 15:24:06) [Clang 13.0.0 (clang-1300.0.29.30)]"
  },
  "vscode": {
   "interpreter": {
    "hash": "2a651e4ef1d612eb4226e3395ce5a6e47bf1a7ebb25c7e937bccdf31253ebbad"
   }
  }
 },
 "nbformat": 4,
 "nbformat_minor": 2
}
