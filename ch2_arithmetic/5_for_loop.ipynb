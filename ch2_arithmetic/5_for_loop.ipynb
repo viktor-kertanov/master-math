{
 "cells": [
  {
   "cell_type": "code",
   "execution_count": 4,
   "metadata": {},
   "outputs": [
    {
     "name": "stdout",
     "output_type": "stream",
     "text": [
      "4 to the power of 0 is 1.\n",
      "4 to the power of 1 is 4.\n",
      "4 to the power of 2 is 16.\n",
      "4 to the power of 3 is 64.\n",
      "4 to the power of 4 is 256.\n",
      "4 to the power of 5 is 1024.\n",
      "4 to the power of 6 is 4096.\n",
      "4 to the power of 7 is 16384.\n",
      "4 to the power of 8 is 65536.\n",
      "4 to the power of 9 is 262144.\n"
     ]
    }
   ],
   "source": [
    "base = 4\n",
    "for power in range(10):\n",
    "    print(f'{base} to the power of {power} is {base**power}.')"
   ]
  }
 ],
 "metadata": {
  "kernelspec": {
   "display_name": "env",
   "language": "python",
   "name": "python3"
  },
  "language_info": {
   "codemirror_mode": {
    "name": "ipython",
    "version": 3
   },
   "file_extension": ".py",
   "mimetype": "text/x-python",
   "name": "python",
   "nbconvert_exporter": "python",
   "pygments_lexer": "ipython3",
   "version": "3.11.1 (v3.11.1:a7a450f84a, Dec  6 2022, 15:24:06) [Clang 13.0.0 (clang-1300.0.29.30)]"
  },
  "orig_nbformat": 4,
  "vscode": {
   "interpreter": {
    "hash": "2a651e4ef1d612eb4226e3395ce5a6e47bf1a7ebb25c7e937bccdf31253ebbad"
   }
  }
 },
 "nbformat": 4,
 "nbformat_minor": 2
}
