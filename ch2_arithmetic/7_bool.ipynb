{
 "cells": [
  {
   "cell_type": "code",
   "execution_count": 3,
   "metadata": {},
   "outputs": [
    {
     "name": "stdout",
     "output_type": "stream",
     "text": [
      "Example 1: x=2 works fine!\n",
      "Example 2: x=2 works cool.\n",
      "Example 2: x=3 works cool.\n"
     ]
    }
   ],
   "source": [
    "x = [2, 3, 4]\n",
    "\n",
    "for el in x:\n",
    "    my_bool_1 = 4*el+3 < 17-el**2\n",
    "    if my_bool_1:\n",
    "        print(f'Example 1: x={el} works fine!')\n",
    "    my_bool_2 = 8*el-2 < -3*el + 42\n",
    "    if my_bool_2:\n",
    "        print(f'Example 2: x={el} works cool.')"
   ]
  },
  {
   "cell_type": "code",
   "execution_count": null,
   "metadata": {},
   "outputs": [],
   "source": []
  }
 ],
 "metadata": {
  "kernelspec": {
   "display_name": "env",
   "language": "python",
   "name": "python3"
  },
  "language_info": {
   "codemirror_mode": {
    "name": "ipython",
    "version": 3
   },
   "file_extension": ".py",
   "mimetype": "text/x-python",
   "name": "python",
   "nbconvert_exporter": "python",
   "pygments_lexer": "ipython3",
   "version": "3.11.1 (v3.11.1:a7a450f84a, Dec  6 2022, 15:24:06) [Clang 13.0.0 (clang-1300.0.29.30)]"
  },
  "orig_nbformat": 4,
  "vscode": {
   "interpreter": {
    "hash": "2a651e4ef1d612eb4226e3395ce5a6e47bf1a7ebb25c7e937bccdf31253ebbad"
   }
  }
 },
 "nbformat": 4,
 "nbformat_minor": 2
}
