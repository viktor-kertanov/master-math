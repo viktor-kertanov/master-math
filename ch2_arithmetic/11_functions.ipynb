{
 "cells": [
  {
   "cell_type": "code",
   "execution_count": 9,
   "metadata": {},
   "outputs": [],
   "source": [
    "from IPython.display import display, Math\n",
    "\n",
    "def my_power(x, y):\n",
    "    'calculates x**y'\n",
    "    if (type(x) != int and type(x) != float) or (type(y) != int and type(y) != float):\n",
    "        print(f'x & y should be numbers, so please... Forget about this stuff: {x}:: {type(x)}, {y}:: {type(y)}')\n",
    "        return None\n",
    "    return x**y\n",
    "\n",
    "\n",
    "def x_divided_by_y(x, y):\n",
    "    'calculates x/y'\n",
    "    if (type(x) != int and type(x) != float) or (type(y) != int and type(y) != float):\n",
    "        print(f'x & y should be numbers, so please... Forget about this stuff: {x}:: {type(x)}, {y}:: {type(y)}')\n",
    "        return None\n",
    "    return x/y\n",
    "\n",
    "\n",
    "def func_selector(selector, x, y):\n",
    "    if selector == '1':\n",
    "        result = my_power(x,y)\n",
    "    if selector == '2':\n",
    "        result = x_divided_by_y(x,y)\n",
    "    return result\n",
    "\n",
    "\n",
    "def user_input():\n",
    "    x = float(input('Please insert the first number \"x\":\\n'))\n",
    "    y = float(input('Please insert the second number \"y\":\\n'))\n",
    "    \n",
    "    display(Math('\\\\text{Press \"1\" to compute }%g^{%g}\\\\text{ or \"2\" to compute }\\\\frac{%g}{%g}.' % (x,y,x,y)))\n",
    "    selector = input()\n",
    "    if selector == '1':\n",
    "        result = my_power(x,y)\n",
    "        display(Math(('%g^%g=%g' % (x, y, result))))\n",
    "    elif selector == '2':\n",
    "        result = x_divided_by_y(x, y)\n",
    "        display(Math('\\\\frac{%g}{%g}=%g' %(x, y, result)))\n",
    "    else:\n",
    "        print('Invalid selection!')"
   ]
  },
  {
   "cell_type": "code",
   "execution_count": 10,
   "metadata": {},
   "outputs": [
    {
     "data": {
      "text/latex": [
       "$\\displaystyle \\text{Press \"1\" to compute }3.1^{4.2}\\text{ or \"2\" to compute }\\frac{3.1}{4.2}.$"
      ],
      "text/plain": [
       "<IPython.core.display.Math object>"
      ]
     },
     "metadata": {},
     "output_type": "display_data"
    },
    {
     "data": {
      "text/latex": [
       "$\\displaystyle 3.1^4.2=115.803$"
      ],
      "text/plain": [
       "<IPython.core.display.Math object>"
      ]
     },
     "metadata": {},
     "output_type": "display_data"
    }
   ],
   "source": [
    "user_input()"
   ]
  },
  {
   "cell_type": "code",
   "execution_count": null,
   "metadata": {},
   "outputs": [],
   "source": []
  }
 ],
 "metadata": {
  "kernelspec": {
   "display_name": "Python 3 (ipykernel)",
   "language": "python",
   "name": "python3"
  },
  "language_info": {
   "codemirror_mode": {
    "name": "ipython",
    "version": 3
   },
   "file_extension": ".py",
   "mimetype": "text/x-python",
   "name": "python",
   "nbconvert_exporter": "python",
   "pygments_lexer": "ipython3",
   "version": "3.11.1"
  },
  "vscode": {
   "interpreter": {
    "hash": "2a651e4ef1d612eb4226e3395ce5a6e47bf1a7ebb25c7e937bccdf31253ebbad"
   }
  }
 },
 "nbformat": 4,
 "nbformat_minor": 2
}
