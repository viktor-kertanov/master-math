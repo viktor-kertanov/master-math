{
 "cells": [
  {
   "cell_type": "code",
   "execution_count": 1,
   "metadata": {},
   "outputs": [],
   "source": [
    "import numpy as np\n",
    "import matplotlib.pyplot as plt\n"
   ]
  },
  {
   "cell_type": "code",
   "execution_count": 21,
   "metadata": {},
   "outputs": [
    {
     "ename": "TypeError",
     "evalue": "slice indices must be integers or None or have an __index__ method",
     "output_type": "error",
     "traceback": [
      "\u001b[0;31m---------------------------------------------------------------------------\u001b[0m",
      "\u001b[0;31mTypeError\u001b[0m                                 Traceback (most recent call last)",
      "Cell \u001b[0;32mIn[21], line 5\u001b[0m\n\u001b[1;32m      3\u001b[0m \u001b[39mfor\u001b[39;00m y_delta \u001b[39min\u001b[39;00m y_deltas:\n\u001b[1;32m      4\u001b[0m     \u001b[39mfor\u001b[39;00m phase \u001b[39min\u001b[39;00m np\u001b[39m.\u001b[39mlinspace(\u001b[39m1\u001b[39m,\u001b[39m3\u001b[39m,\u001b[39m3\u001b[39m):\n\u001b[0;32m----> 5\u001b[0m         plt\u001b[39m.\u001b[39mplot(x[phase\u001b[39m*\u001b[39;49m\u001b[39m100\u001b[39;49m:(phase\u001b[39m+\u001b[39;49m\u001b[39m1\u001b[39;49m)\u001b[39m*\u001b[39;49m\u001b[39m100\u001b[39;49m], np\u001b[39m.\u001b[39msin(x)\u001b[39m*\u001b[39mphase\u001b[39m*\u001b[39m\u001b[39m0.1\u001b[39m\u001b[39m+\u001b[39my_delta, \u001b[39m'\u001b[39m\u001b[39mk\u001b[39m\u001b[39m'\u001b[39m, linewidth\u001b[39m=\u001b[39m\u001b[39m0.5\u001b[39m)\n\u001b[1;32m      7\u001b[0m \u001b[39m# plt.gca().set_aspect('equal')\u001b[39;00m\n\u001b[1;32m      8\u001b[0m plt\u001b[39m.\u001b[39maxis(\u001b[39m'\u001b[39m\u001b[39moff\u001b[39m\u001b[39m'\u001b[39m)\n",
      "\u001b[0;31mTypeError\u001b[0m: slice indices must be integers or None or have an __index__ method"
     ]
    }
   ],
   "source": [
    "y_deltas = np.linspace(-10, 10, 100)\n",
    "x = np.linspace(-10*np.pi, 10*np.pi, 10000)\n",
    "for y_delta in y_deltas:\n",
    "    for phase in np.linspace(1,3,3):\n",
    "        plt.plot(x, np.sin(x)*phase*0.1+y_delta, 'k', linewidth=0.5)\n",
    "\n",
    "# plt.gca().set_aspect('equal')\n",
    "plt.axis('off')\n",
    "plt.show()"
   ]
  },
  {
   "cell_type": "code",
   "execution_count": null,
   "metadata": {},
   "outputs": [],
   "source": [
    "y_deltas = np.linspace(-10, 10, 100)\n",
    "x = np.linspace(-10*np.pi, 10*np.pi, 10000)\n",
    "for y_delta in y_deltas:\n",
    "    plt.plot(x, np.sin(x)*0.2+y_delta, 'k', linewidth=0.5)\n",
    "\n",
    "# plt.gca().set_aspect('equal')\n",
    "plt.axis('off')\n",
    "plt.show()"
   ]
  }
 ],
 "metadata": {
  "kernelspec": {
   "display_name": "env",
   "language": "python",
   "name": "python3"
  },
  "language_info": {
   "codemirror_mode": {
    "name": "ipython",
    "version": 3
   },
   "file_extension": ".py",
   "mimetype": "text/x-python",
   "name": "python",
   "nbconvert_exporter": "python",
   "pygments_lexer": "ipython3",
   "version": "3.11.1"
  },
  "orig_nbformat": 4,
  "vscode": {
   "interpreter": {
    "hash": "2a651e4ef1d612eb4226e3395ce5a6e47bf1a7ebb25c7e937bccdf31253ebbad"
   }
  }
 },
 "nbformat": 4,
 "nbformat_minor": 2
}
