{
 "cells": [
  {
   "attachments": {},
   "cell_type": "markdown",
   "metadata": {},
   "source": [
    "### __Exercise__"
   ]
  },
  {
   "cell_type": "code",
   "execution_count": 15,
   "metadata": {},
   "outputs": [],
   "source": [
    "import numpy as np\n",
    "import matplotlib.pyplot as plt\n",
    "import scipy as sp"
   ]
  },
  {
   "attachments": {},
   "cell_type": "markdown",
   "metadata": {},
   "source": [
    "### __How to normalize any random distribution to a Gaussian?__\n",
    "\n",
    "1. Rank-transform the data (convert to integers)\n",
    "2. Normalize to [-1 1]\n",
    "3. Take inverse hyperbolic tangent\n"
   ]
  },
  {
   "cell_type": "code",
   "execution_count": 50,
   "metadata": {},
   "outputs": [
    {
     "name": "stderr",
     "output_type": "stream",
     "text": [
      "/var/folders/0r/r1g3n1k91rj2y9473jt0d9sh0000gn/T/ipykernel_81993/2901044762.py:14: RuntimeWarning: divide by zero encountered in divide\n",
      "  a = 0.5*np.log(nom/denom)\n"
     ]
    },
    {
     "ename": "ValueError",
     "evalue": "supplied range of [-3.4533773893242765, inf] is not finite",
     "output_type": "error",
     "traceback": [
      "\u001b[0;31m---------------------------------------------------------------------------\u001b[0m",
      "\u001b[0;31mValueError\u001b[0m                                Traceback (most recent call last)",
      "Cell \u001b[0;32mIn[50], line 15\u001b[0m\n\u001b[1;32m     12\u001b[0m denom \u001b[39m=\u001b[39m \u001b[39m1\u001b[39m \u001b[39m-\u001b[39m y_normalized\n\u001b[1;32m     14\u001b[0m a \u001b[39m=\u001b[39m \u001b[39m0.5\u001b[39m\u001b[39m*\u001b[39mnp\u001b[39m.\u001b[39mlog(nom\u001b[39m/\u001b[39mdenom)\n\u001b[0;32m---> 15\u001b[0m plt\u001b[39m.\u001b[39;49mhist(a, first_edge\u001b[39m=\u001b[39;49m\u001b[39m0\u001b[39;49m, last_edge\u001b[39m=\u001b[39;49m\u001b[39m1\u001b[39;49m)\n\u001b[1;32m     16\u001b[0m \u001b[39m# y_inv = 0.5 * np.log((1 + y_normalized)/(1 - y_normalized))\u001b[39;00m\n\u001b[1;32m     17\u001b[0m \n\u001b[1;32m     18\u001b[0m \u001b[39m# print(y_inv)\u001b[39;00m\n\u001b[0;32m   (...)\u001b[0m\n\u001b[1;32m     25\u001b[0m \u001b[39m# plt.gcf().set_size_inches(13, 7)\u001b[39;00m\n\u001b[1;32m     26\u001b[0m \u001b[39m# plt.show()\u001b[39;00m\n",
      "File \u001b[0;32m~/projects/master_math/env/lib/python3.11/site-packages/matplotlib/pyplot.py:2573\u001b[0m, in \u001b[0;36mhist\u001b[0;34m(x, bins, range, density, weights, cumulative, bottom, histtype, align, orientation, rwidth, log, color, label, stacked, data, **kwargs)\u001b[0m\n\u001b[1;32m   2567\u001b[0m \u001b[39m@_copy_docstring_and_deprecators\u001b[39m(Axes\u001b[39m.\u001b[39mhist)\n\u001b[1;32m   2568\u001b[0m \u001b[39mdef\u001b[39;00m \u001b[39mhist\u001b[39m(\n\u001b[1;32m   2569\u001b[0m         x, bins\u001b[39m=\u001b[39m\u001b[39mNone\u001b[39;00m, \u001b[39mrange\u001b[39m\u001b[39m=\u001b[39m\u001b[39mNone\u001b[39;00m, density\u001b[39m=\u001b[39m\u001b[39mFalse\u001b[39;00m, weights\u001b[39m=\u001b[39m\u001b[39mNone\u001b[39;00m,\n\u001b[1;32m   2570\u001b[0m         cumulative\u001b[39m=\u001b[39m\u001b[39mFalse\u001b[39;00m, bottom\u001b[39m=\u001b[39m\u001b[39mNone\u001b[39;00m, histtype\u001b[39m=\u001b[39m\u001b[39m'\u001b[39m\u001b[39mbar\u001b[39m\u001b[39m'\u001b[39m, align\u001b[39m=\u001b[39m\u001b[39m'\u001b[39m\u001b[39mmid\u001b[39m\u001b[39m'\u001b[39m,\n\u001b[1;32m   2571\u001b[0m         orientation\u001b[39m=\u001b[39m\u001b[39m'\u001b[39m\u001b[39mvertical\u001b[39m\u001b[39m'\u001b[39m, rwidth\u001b[39m=\u001b[39m\u001b[39mNone\u001b[39;00m, log\u001b[39m=\u001b[39m\u001b[39mFalse\u001b[39;00m, color\u001b[39m=\u001b[39m\u001b[39mNone\u001b[39;00m,\n\u001b[1;32m   2572\u001b[0m         label\u001b[39m=\u001b[39m\u001b[39mNone\u001b[39;00m, stacked\u001b[39m=\u001b[39m\u001b[39mFalse\u001b[39;00m, \u001b[39m*\u001b[39m, data\u001b[39m=\u001b[39m\u001b[39mNone\u001b[39;00m, \u001b[39m*\u001b[39m\u001b[39m*\u001b[39mkwargs):\n\u001b[0;32m-> 2573\u001b[0m     \u001b[39mreturn\u001b[39;00m gca()\u001b[39m.\u001b[39;49mhist(\n\u001b[1;32m   2574\u001b[0m         x, bins\u001b[39m=\u001b[39;49mbins, \u001b[39mrange\u001b[39;49m\u001b[39m=\u001b[39;49m\u001b[39mrange\u001b[39;49m, density\u001b[39m=\u001b[39;49mdensity, weights\u001b[39m=\u001b[39;49mweights,\n\u001b[1;32m   2575\u001b[0m         cumulative\u001b[39m=\u001b[39;49mcumulative, bottom\u001b[39m=\u001b[39;49mbottom, histtype\u001b[39m=\u001b[39;49mhisttype,\n\u001b[1;32m   2576\u001b[0m         align\u001b[39m=\u001b[39;49malign, orientation\u001b[39m=\u001b[39;49morientation, rwidth\u001b[39m=\u001b[39;49mrwidth, log\u001b[39m=\u001b[39;49mlog,\n\u001b[1;32m   2577\u001b[0m         color\u001b[39m=\u001b[39;49mcolor, label\u001b[39m=\u001b[39;49mlabel, stacked\u001b[39m=\u001b[39;49mstacked,\n\u001b[1;32m   2578\u001b[0m         \u001b[39m*\u001b[39;49m\u001b[39m*\u001b[39;49m({\u001b[39m\"\u001b[39;49m\u001b[39mdata\u001b[39;49m\u001b[39m\"\u001b[39;49m: data} \u001b[39mif\u001b[39;49;00m data \u001b[39mis\u001b[39;49;00m \u001b[39mnot\u001b[39;49;00m \u001b[39mNone\u001b[39;49;00m \u001b[39melse\u001b[39;49;00m {}), \u001b[39m*\u001b[39;49m\u001b[39m*\u001b[39;49mkwargs)\n",
      "File \u001b[0;32m~/projects/master_math/env/lib/python3.11/site-packages/matplotlib/__init__.py:1423\u001b[0m, in \u001b[0;36m_preprocess_data.<locals>.inner\u001b[0;34m(ax, data, *args, **kwargs)\u001b[0m\n\u001b[1;32m   1420\u001b[0m \u001b[39m@functools\u001b[39m\u001b[39m.\u001b[39mwraps(func)\n\u001b[1;32m   1421\u001b[0m \u001b[39mdef\u001b[39;00m \u001b[39minner\u001b[39m(ax, \u001b[39m*\u001b[39margs, data\u001b[39m=\u001b[39m\u001b[39mNone\u001b[39;00m, \u001b[39m*\u001b[39m\u001b[39m*\u001b[39mkwargs):\n\u001b[1;32m   1422\u001b[0m     \u001b[39mif\u001b[39;00m data \u001b[39mis\u001b[39;00m \u001b[39mNone\u001b[39;00m:\n\u001b[0;32m-> 1423\u001b[0m         \u001b[39mreturn\u001b[39;00m func(ax, \u001b[39m*\u001b[39;49m\u001b[39mmap\u001b[39;49m(sanitize_sequence, args), \u001b[39m*\u001b[39;49m\u001b[39m*\u001b[39;49mkwargs)\n\u001b[1;32m   1425\u001b[0m     bound \u001b[39m=\u001b[39m new_sig\u001b[39m.\u001b[39mbind(ax, \u001b[39m*\u001b[39margs, \u001b[39m*\u001b[39m\u001b[39m*\u001b[39mkwargs)\n\u001b[1;32m   1426\u001b[0m     auto_label \u001b[39m=\u001b[39m (bound\u001b[39m.\u001b[39marguments\u001b[39m.\u001b[39mget(label_namer)\n\u001b[1;32m   1427\u001b[0m                   \u001b[39mor\u001b[39;00m bound\u001b[39m.\u001b[39mkwargs\u001b[39m.\u001b[39mget(label_namer))\n",
      "File \u001b[0;32m~/projects/master_math/env/lib/python3.11/site-packages/matplotlib/axes/_axes.py:6737\u001b[0m, in \u001b[0;36mAxes.hist\u001b[0;34m(self, x, bins, range, density, weights, cumulative, bottom, histtype, align, orientation, rwidth, log, color, label, stacked, **kwargs)\u001b[0m\n\u001b[1;32m   6733\u001b[0m \u001b[39m# Loop through datasets\u001b[39;00m\n\u001b[1;32m   6734\u001b[0m \u001b[39mfor\u001b[39;00m i \u001b[39min\u001b[39;00m \u001b[39mrange\u001b[39m(nx):\n\u001b[1;32m   6735\u001b[0m     \u001b[39m# this will automatically overwrite bins,\u001b[39;00m\n\u001b[1;32m   6736\u001b[0m     \u001b[39m# so that each histogram uses the same bins\u001b[39;00m\n\u001b[0;32m-> 6737\u001b[0m     m, bins \u001b[39m=\u001b[39m np\u001b[39m.\u001b[39;49mhistogram(x[i], bins, weights\u001b[39m=\u001b[39;49mw[i], \u001b[39m*\u001b[39;49m\u001b[39m*\u001b[39;49mhist_kwargs)\n\u001b[1;32m   6738\u001b[0m     tops\u001b[39m.\u001b[39mappend(m)\n\u001b[1;32m   6739\u001b[0m tops \u001b[39m=\u001b[39m np\u001b[39m.\u001b[39marray(tops, \u001b[39mfloat\u001b[39m)  \u001b[39m# causes problems later if it's an int\u001b[39;00m\n",
      "File \u001b[0;32m<__array_function__ internals>:200\u001b[0m, in \u001b[0;36mhistogram\u001b[0;34m(*args, **kwargs)\u001b[0m\n",
      "File \u001b[0;32m~/projects/master_math/env/lib/python3.11/site-packages/numpy/lib/histograms.py:780\u001b[0m, in \u001b[0;36mhistogram\u001b[0;34m(a, bins, range, density, weights)\u001b[0m\n\u001b[1;32m    680\u001b[0m \u001b[39mr\u001b[39m\u001b[39m\"\"\"\u001b[39;00m\n\u001b[1;32m    681\u001b[0m \u001b[39mCompute the histogram of a dataset.\u001b[39;00m\n\u001b[1;32m    682\u001b[0m \n\u001b[0;32m   (...)\u001b[0m\n\u001b[1;32m    776\u001b[0m \n\u001b[1;32m    777\u001b[0m \u001b[39m\"\"\"\u001b[39;00m\n\u001b[1;32m    778\u001b[0m a, weights \u001b[39m=\u001b[39m _ravel_and_check_weights(a, weights)\n\u001b[0;32m--> 780\u001b[0m bin_edges, uniform_bins \u001b[39m=\u001b[39m _get_bin_edges(a, bins, \u001b[39mrange\u001b[39;49m, weights)\n\u001b[1;32m    782\u001b[0m \u001b[39m# Histogram is an integer or a float array depending on the weights.\u001b[39;00m\n\u001b[1;32m    783\u001b[0m \u001b[39mif\u001b[39;00m weights \u001b[39mis\u001b[39;00m \u001b[39mNone\u001b[39;00m:\n",
      "File \u001b[0;32m~/projects/master_math/env/lib/python3.11/site-packages/numpy/lib/histograms.py:426\u001b[0m, in \u001b[0;36m_get_bin_edges\u001b[0;34m(a, bins, range, weights)\u001b[0m\n\u001b[1;32m    423\u001b[0m     \u001b[39mif\u001b[39;00m n_equal_bins \u001b[39m<\u001b[39m \u001b[39m1\u001b[39m:\n\u001b[1;32m    424\u001b[0m         \u001b[39mraise\u001b[39;00m \u001b[39mValueError\u001b[39;00m(\u001b[39m'\u001b[39m\u001b[39m`bins` must be positive, when an integer\u001b[39m\u001b[39m'\u001b[39m)\n\u001b[0;32m--> 426\u001b[0m     first_edge, last_edge \u001b[39m=\u001b[39m _get_outer_edges(a, \u001b[39mrange\u001b[39;49m)\n\u001b[1;32m    428\u001b[0m \u001b[39melif\u001b[39;00m np\u001b[39m.\u001b[39mndim(bins) \u001b[39m==\u001b[39m \u001b[39m1\u001b[39m:\n\u001b[1;32m    429\u001b[0m     bin_edges \u001b[39m=\u001b[39m np\u001b[39m.\u001b[39masarray(bins)\n",
      "File \u001b[0;32m~/projects/master_math/env/lib/python3.11/site-packages/numpy/lib/histograms.py:315\u001b[0m, in \u001b[0;36m_get_outer_edges\u001b[0;34m(a, range)\u001b[0m\n\u001b[1;32m    312\u001b[0m         \u001b[39mraise\u001b[39;00m \u001b[39mValueError\u001b[39;00m(\n\u001b[1;32m    313\u001b[0m             \u001b[39m'\u001b[39m\u001b[39mmax must be larger than min in range parameter.\u001b[39m\u001b[39m'\u001b[39m)\n\u001b[1;32m    314\u001b[0m     \u001b[39mif\u001b[39;00m \u001b[39mnot\u001b[39;00m (np\u001b[39m.\u001b[39misfinite(first_edge) \u001b[39mand\u001b[39;00m np\u001b[39m.\u001b[39misfinite(last_edge)):\n\u001b[0;32m--> 315\u001b[0m         \u001b[39mraise\u001b[39;00m \u001b[39mValueError\u001b[39;00m(\n\u001b[1;32m    316\u001b[0m             \u001b[39m\"\u001b[39m\u001b[39msupplied range of [\u001b[39m\u001b[39m{}\u001b[39;00m\u001b[39m, \u001b[39m\u001b[39m{}\u001b[39;00m\u001b[39m] is not finite\u001b[39m\u001b[39m\"\u001b[39m\u001b[39m.\u001b[39mformat(first_edge, last_edge))\n\u001b[1;32m    317\u001b[0m \u001b[39melif\u001b[39;00m a\u001b[39m.\u001b[39msize \u001b[39m==\u001b[39m \u001b[39m0\u001b[39m:\n\u001b[1;32m    318\u001b[0m     \u001b[39m# handle empty arrays. Can't determine range, so use 0-1.\u001b[39;00m\n\u001b[1;32m    319\u001b[0m     first_edge, last_edge \u001b[39m=\u001b[39m \u001b[39m0\u001b[39m, \u001b[39m1\u001b[39m\n",
      "\u001b[0;31mValueError\u001b[0m: supplied range of [-3.4533773893242765, inf] is not finite"
     ]
    },
    {
     "data": {
      "image/png": "[encoded data removed]",
      "text/plain": [
       "<Figure size 640x480 with 1 Axes>"
      ]
     },
     "metadata": {},
     "output_type": "display_data"
    }
   ],
   "source": [
    "num = 1000\n",
    "x = np.random.randn(num)\n",
    "y = 2**x\n",
    "\n",
    "# rank the data\n",
    "y_rank = sp.stats.rankdata(y)\n",
    "\n",
    "# normalize to [-1, 1]\n",
    "y_normalized = (y_rank/np.max(y_rank) - 0.5)*2\n",
    "# print(np.min(y_normalized))\n",
    "nom = 1 + y_normalized\n",
    "denom = 1 - y_normalized\n",
    "\n",
    "a = 0.5*np.log(nom/denom)\n",
    "plt.hist(a)\n",
    "# y_inv = 0.5 * np.log((1 + y_normalized)/(1 - y_normalized))\n",
    "\n",
    "# print(y_inv)\n",
    "# print(y_normalized)\n",
    "\n",
    "# fig, ax = plt.subplots(1, 2)\n",
    "# ax[0].hist(y, bins=20)\n",
    "# ax[1].hist(y_inv)\n",
    "\n",
    "# plt.gcf().set_size_inches(13, 7)\n",
    "# plt.show()"
   ]
  }
 ],
 "metadata": {
  "kernelspec": {
   "display_name": "env",
   "language": "python",
   "name": "python3"
  },
  "language_info": {
   "codemirror_mode": {
    "name": "ipython",
    "version": 3
   },
   "file_extension": ".py",
   "mimetype": "text/x-python",
   "name": "python",
   "nbconvert_exporter": "python",
   "pygments_lexer": "ipython3",
   "version": "3.11.1"
  },
  "orig_nbformat": 4,
  "vscode": {
   "interpreter": {
    "hash": "2a651e4ef1d612eb4226e3395ce5a6e47bf1a7ebb25c7e937bccdf31253ebbad"
   }
  }
 },
 "nbformat": 4,
 "nbformat_minor": 2
}
