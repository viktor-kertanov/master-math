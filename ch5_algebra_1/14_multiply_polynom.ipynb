{
 "cells": [
  {
   "cell_type": "code",
   "execution_count": 1,
   "metadata": {},
   "outputs": [],
   "source": [
    "import sympy as sym\n",
    "from IPython.display import display, Math"
   ]
  },
  {
   "cell_type": "code",
   "execution_count": 2,
   "metadata": {},
   "outputs": [],
   "source": [
    "x = sym.symbols('x')"
   ]
  },
  {
   "cell_type": "code",
   "execution_count": 3,
   "metadata": {},
   "outputs": [],
   "source": [
    "p1 = 4*x**2 - 2*x\n",
    "p2 = x**3 - 1"
   ]
  },
  {
   "cell_type": "code",
   "execution_count": 5,
   "metadata": {},
   "outputs": [
    {
     "data": {
      "text/latex": [
       "$\\displaystyle 4 x^{5} - 2 x^{4} - 4 x^{2} + 2 x$"
      ],
      "text/plain": [
       "<IPython.core.display.Math object>"
      ]
     },
     "metadata": {},
     "output_type": "display_data"
    }
   ],
   "source": [
    "display(Math(sym.latex(sym.expand(p1*p2))))"
   ]
  },
  {
   "cell_type": "code",
   "execution_count": 8,
   "metadata": {},
   "outputs": [],
   "source": [
    "# Exercise\n",
    "x, y = sym.symbols('x,y')\n",
    "f_xy = sym.Poly(4*x**4 - 3*x**2 + x*y**2 - 9*y**3)\n",
    "g_xy = sym.Poly(-x**3 + 6*x**2*y + .8*y**3)"
   ]
  },
  {
   "cell_type": "code",
   "execution_count": 11,
   "metadata": {},
   "outputs": [
    {
     "data": {
      "text/latex": [
       "$\\displaystyle - 4.0 x^{7} + 24.0 x^{6} y + 3.0 x^{5} + 3.2 x^{4} y^{3} - 1.0 x^{4} y^{2} - 18.0 x^{4} y + 15.0 x^{3} y^{3} - 54.0 x^{2} y^{4} - 2.4 x^{2} y^{3} + 0.8 x y^{5} - 7.2 y^{6}$"
      ],
      "text/plain": [
       "<IPython.core.display.Math object>"
      ]
     },
     "metadata": {},
     "output_type": "display_data"
    }
   ],
   "source": [
    "p_multiplied = f_xy * g_xy\n",
    "display(Math(sym.latex(p_multiplied.as_expr())))"
   ]
  },
  {
   "cell_type": "code",
   "execution_count": 14,
   "metadata": {},
   "outputs": [
    {
     "name": "stdout",
     "output_type": "stream",
     "text": [
      "The result of product separately: 2517 * -431.4 = -1085833.8\n"
     ]
    }
   ],
   "source": [
    "f_xy_calc = f_xy.eval({x:5 , y: -2})\n",
    "g_xy_calc = g_xy.eval({x:5, y: -2})\n",
    "print(f\"The result of product separately: {f_xy_calc} * {g_xy_calc: .1f} = {f_xy_calc*g_xy_calc: .1f}\")"
   ]
  },
  {
   "cell_type": "code",
   "execution_count": 16,
   "metadata": {},
   "outputs": [
    {
     "name": "stdout",
     "output_type": "stream",
     "text": [
      "If we do it on th multiplied polynomial, the result is: -1085833.8\n"
     ]
    }
   ],
   "source": [
    "overall = p_multiplied.eval({x:5, y:-2})\n",
    "print(f\"If we do it on th multiplied polynomial, the result is: {overall: .1f}\")"
   ]
  },
  {
   "cell_type": "code",
   "execution_count": null,
   "metadata": {},
   "outputs": [],
   "source": []
  }
 ],
 "metadata": {
  "kernelspec": {
   "display_name": "env",
   "language": "python",
   "name": "python3"
  },
  "language_info": {
   "codemirror_mode": {
    "name": "ipython",
    "version": 3
   },
   "file_extension": ".py",
   "mimetype": "text/x-python",
   "name": "python",
   "nbconvert_exporter": "python",
   "pygments_lexer": "ipython3",
   "version": "3.11.1"
  },
  "orig_nbformat": 4,
  "vscode": {
   "interpreter": {
    "hash": "2a651e4ef1d612eb4226e3395ce5a6e47bf1a7ebb25c7e937bccdf31253ebbad"
   }
  }
 },
 "nbformat": 4,
 "nbformat_minor": 2
}
