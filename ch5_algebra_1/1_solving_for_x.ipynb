{
 "cells": [
  {
   "cell_type": "code",
   "execution_count": 8,
   "metadata": {},
   "outputs": [],
   "source": [
    "import sympy as sym\n",
    "from IPython.display import Math, display\n",
    "sym.init_printing()"
   ]
  },
  {
   "cell_type": "code",
   "execution_count": 3,
   "metadata": {},
   "outputs": [],
   "source": [
    "x = sym.symbols('x')\n",
    "expr = 2*x + 4 - 9 # homogenous form (implicit) 2x + 4 - 9 = 0\n"
   ]
  },
  {
   "cell_type": "code",
   "execution_count": 18,
   "metadata": {},
   "outputs": [],
   "source": [
    "ans = sym.solve(expr) # solution to expr(!), the ans is stored as list --> we can have not only one solution"
   ]
  },
  {
   "cell_type": "code",
   "execution_count": 17,
   "metadata": {},
   "outputs": [
    {
     "data": {
      "text/latex": [
       "$\\displaystyle \\text{The solution to }2 x - 5 \\text{ is x = }\\frac{5}{2}$"
      ],
      "text/plain": [
       "<IPython.core.display.Math object>"
      ]
     },
     "metadata": {},
     "output_type": "display_data"
    }
   ],
   "source": [
    "display(Math(\"\\\\text{The solution to }%s \\\\text{ is x = }%s\" % (sym.latex(expr), sym.latex(ans[0]))))"
   ]
  },
  {
   "cell_type": "code",
   "execution_count": 19,
   "metadata": {},
   "outputs": [],
   "source": [
    "expr_2 = x**4 - 9*x**3 + 15*x**2 - 8*x + 10"
   ]
  },
  {
   "cell_type": "code",
   "execution_count": 21,
   "metadata": {},
   "outputs": [
    {
     "data": {
      "image/png": "[encoded data removed]",
      "text/latex": [
       "$\\displaystyle \\left[ - \\frac{\\sqrt{\\frac{43}{6 \\sqrt[3]{\\frac{\\sqrt{2444523}}{72} + \\frac{91}{4}}} + 2 \\sqrt[3]{\\frac{\\sqrt{2444523}}{72} + \\frac{91}{4}} + \\frac{41}{4}}}{2} + \\frac{9}{4} - \\frac{\\sqrt{- \\frac{253}{4 \\sqrt{\\frac{43}{6 \\sqrt[3]{\\frac{\\sqrt{2444523}}{72} + \\frac{91}{4}}} + 2 \\sqrt[3]{\\frac{\\sqrt{2444523}}{72} + \\frac{91}{4}} + \\frac{41}{4}}} - 2 \\sqrt[3]{\\frac{\\sqrt{2444523}}{72} + \\frac{91}{4}} - \\frac{43}{6 \\sqrt[3]{\\frac{\\sqrt{2444523}}{72} + \\frac{91}{4}}} + \\frac{41}{2}}}{2}, \\  - \\frac{\\sqrt{\\frac{43}{6 \\sqrt[3]{\\frac{\\sqrt{2444523}}{72} + \\frac{91}{4}}} + 2 \\sqrt[3]{\\frac{\\sqrt{2444523}}{72} + \\frac{91}{4}} + \\frac{41}{4}}}{2} + \\frac{9}{4} + \\frac{\\sqrt{- \\frac{253}{4 \\sqrt{\\frac{43}{6 \\sqrt[3]{\\frac{\\sqrt{2444523}}{72} + \\frac{91}{4}}} + 2 \\sqrt[3]{\\frac{\\sqrt{2444523}}{72} + \\frac{91}{4}} + \\frac{41}{4}}} - 2 \\sqrt[3]{\\frac{\\sqrt{2444523}}{72} + \\frac{91}{4}} - \\frac{43}{6 \\sqrt[3]{\\frac{\\sqrt{2444523}}{72} + \\frac{91}{4}}} + \\frac{41}{2}}}{2}, \\  \\frac{\\sqrt{\\frac{43}{6 \\sqrt[3]{\\frac{\\sqrt{2444523}}{72} + \\frac{91}{4}}} + 2 \\sqrt[3]{\\frac{\\sqrt{2444523}}{72} + \\frac{91}{4}} + \\frac{41}{4}}}{2} + \\frac{9}{4} + \\frac{\\sqrt{- 2 \\sqrt[3]{\\frac{\\sqrt{2444523}}{72} + \\frac{91}{4}} - \\frac{43}{6 \\sqrt[3]{\\frac{\\sqrt{2444523}}{72} + \\frac{91}{4}}} + \\frac{253}{4 \\sqrt{\\frac{43}{6 \\sqrt[3]{\\frac{\\sqrt{2444523}}{72} + \\frac{91}{4}}} + 2 \\sqrt[3]{\\frac{\\sqrt{2444523}}{72} + \\frac{91}{4}} + \\frac{41}{4}}} + \\frac{41}{2}}}{2}, \\  - \\frac{\\sqrt{- 2 \\sqrt[3]{\\frac{\\sqrt{2444523}}{72} + \\frac{91}{4}} - \\frac{43}{6 \\sqrt[3]{\\frac{\\sqrt{2444523}}{72} + \\frac{91}{4}}} + \\frac{253}{4 \\sqrt{\\frac{43}{6 \\sqrt[3]{\\frac{\\sqrt{2444523}}{72} + \\frac{91}{4}}} + 2 \\sqrt[3]{\\frac{\\sqrt{2444523}}{72} + \\frac{91}{4}} + \\frac{41}{4}}} + \\frac{41}{2}}}{2} + \\frac{\\sqrt{\\frac{43}{6 \\sqrt[3]{\\frac{\\sqrt{2444523}}{72} + \\frac{91}{4}}} + 2 \\sqrt[3]{\\frac{\\sqrt{2444523}}{72} + \\frac{91}{4}} + \\frac{41}{4}}}{2} + \\frac{9}{4}\\right]$"
      ],
      "text/plain": [
       "⎡                                                                             \n",
       "⎢                                                                             \n",
       "⎢                                                                             \n",
       "⎢                                                                             \n",
       "⎢          ____________________________________________________               \n",
       "⎢         ╱                               _______________                    ╱\n",
       "⎢        ╱            43                 ╱ √2444523   91    41              ╱ \n",
       "⎢       ╱   ───────────────────── + 2⋅3 ╱  ──────── + ──  + ──             ╱  \n",
       "⎢      ╱          _______________     ╲╱      72      4     4             ╱   \n",
       "⎢     ╱          ╱ √2444523   91                                         ╱    \n",
       "⎢    ╱      6⋅3 ╱  ──────── + ──                                        ╱     \n",
       "⎢  ╲╱         ╲╱      72      4                                   9   ╲╱      \n",
       "⎢- ──────────────────────────────────────────────────────────── + ─ - ────────\n",
       "⎣                               2                                 4           \n",
       "\n",
       "    __________________________________________________________________________\n",
       "   ╱                                                                          \n",
       "  ╱                                 253                                      ╱\n",
       " ╱   - ────────────────────────────────────────────────────────────── - 2⋅3 ╱ \n",
       "╱                ____________________________________________________     ╲╱  \n",
       "                ╱                               _______________               \n",
       "               ╱            43                 ╱ √2444523   91    41          \n",
       "       4⋅     ╱   ───────────────────── + 2⋅3 ╱  ──────── + ──  + ──          \n",
       "             ╱          _______________     ╲╱      72      4     4           \n",
       "            ╱          ╱ √2444523   91                                        \n",
       "           ╱      6⋅3 ╱  ──────── + ──                                        \n",
       "         ╲╱         ╲╱      72      4                                         \n",
       "──────────────────────────────────────────────────────────────────────────────\n",
       "                                                         2                    \n",
       "\n",
       "_____________________________________________                                 \n",
       "_______________                                                               \n",
       " √2444523   91              43            41                                  \n",
       " ──────── + ──  - ───────────────────── + ──                                  \n",
       "    72      4           _______________   2              _____________________\n",
       "                       ╱ √2444523   91                  ╱                     \n",
       "                  6⋅3 ╱  ──────── + ──                 ╱            43        \n",
       "                    ╲╱      72      4                 ╱   ────────────────────\n",
       "                                                     ╱          ______________\n",
       "                                                    ╱          ╱ √2444523   91\n",
       "                                                   ╱      6⋅3 ╱  ──────── + ──\n",
       "                                                 ╲╱         ╲╱      72      4 \n",
       "─────────────────────────────────────────────, - ─────────────────────────────\n",
       "                                                                              \n",
       "\n",
       "                                                  ____________________________\n",
       "                                                 ╱                            \n",
       "                                                ╱                             \n",
       "                                               ╱   - ─────────────────────────\n",
       "_______________________________               ╱                _______________\n",
       "          _______________                    ╱                ╱               \n",
       "         ╱ √2444523   91    41              ╱                ╱            43  \n",
       "─ + 2⋅3 ╱  ──────── + ──  + ──             ╱         4⋅     ╱   ──────────────\n",
       "_     ╲╱      72      4     4             ╱                ╱          ________\n",
       "                                         ╱                ╱          ╱ √244452\n",
       "                                        ╱                ╱      6⋅3 ╱  ───────\n",
       "                                  9   ╲╱               ╲╱         ╲╱      72  \n",
       "─────────────────────────────── + ─ + ────────────────────────────────────────\n",
       "2                                 4                                           \n",
       "\n",
       "______________________________________________________________________________\n",
       "                                              _______________                 \n",
       "    253                                      ╱ √2444523   91              43  \n",
       "───────────────────────────────────── - 2⋅3 ╱  ──────── + ──  - ──────────────\n",
       "_____________________________________     ╲╱      72      4           ________\n",
       "                _______________                                      ╱ √244452\n",
       "               ╱ √2444523   91    41                            6⋅3 ╱  ───────\n",
       "─────── + 2⋅3 ╱  ──────── + ──  + ──                              ╲╱      72  \n",
       "_______     ╲╱      72      4     4                                           \n",
       "3   91                                                                        \n",
       "─ + ──                                                                        \n",
       "    4                                                                         \n",
       "──────────────────────────────────────────────────────────────────────────────\n",
       "                         2                                                    \n",
       "\n",
       "_____________                                                                 \n",
       "                                                                              \n",
       "          41                                                                  \n",
       "─────── + ──                                                                  \n",
       "_______   2            ____________________________________________________   \n",
       "3   91                ╱                               _______________         \n",
       "─ + ──               ╱            43                 ╱ √2444523   91    41    \n",
       "    4               ╱   ───────────────────── + 2⋅3 ╱  ──────── + ──  + ──    \n",
       "                   ╱          _______________     ╲╱      72      4     4     \n",
       "                  ╱          ╱ √2444523   91                                  \n",
       "                 ╱      6⋅3 ╱  ──────── + ──                                  \n",
       "               ╲╱         ╲╱      72      4                                   \n",
       "─────────────, ──────────────────────────────────────────────────────────── + \n",
       "                                            2                                 \n",
       "\n",
       "                ______________________________________________________________\n",
       "               ╱         _______________                                      \n",
       "              ╱         ╱ √2444523   91              43                       \n",
       "             ╱   - 2⋅3 ╱  ──────── + ──  - ───────────────────── + ───────────\n",
       "            ╱        ╲╱      72      4           _______________             _\n",
       "           ╱                                    ╱ √2444523   91             ╱ \n",
       "          ╱                                6⋅3 ╱  ──────── + ──            ╱  \n",
       "         ╱                                   ╲╱      72      4     4⋅     ╱   \n",
       "        ╱                                                                ╱    \n",
       "       ╱                                                                ╱     \n",
       "      ╱                                                                ╱      \n",
       "9   ╲╱                                                               ╲╱       \n",
       "─ + ──────────────────────────────────────────────────────────────────────────\n",
       "4                                                                    2        \n",
       "\n",
       "_________________________________________________________                _____\n",
       "                                                                        ╱     \n",
       "                  253                                 41               ╱      \n",
       "─────────────────────────────────────────────────── + ──              ╱   - 2⋅\n",
       "___________________________________________________   2              ╱        \n",
       "                              _______________                       ╱         \n",
       "          43                 ╱ √2444523   91    41                 ╱          \n",
       "───────────────────── + 2⋅3 ╱  ──────── + ──  + ──                ╱           \n",
       "      _______________     ╲╱      72      4     4                ╱            \n",
       "     ╱ √2444523   91                                            ╱             \n",
       "6⋅3 ╱  ──────── + ──                                           ╱              \n",
       "  ╲╱      72      4                                          ╲╱               \n",
       "─────────────────────────────────────────────────────────, - ─────────────────\n",
       "                                                                              \n",
       "\n",
       "______________________________________________________________________________\n",
       "    _______________                                                           \n",
       "   ╱ √2444523   91              43                                         253\n",
       "3 ╱  ──────── + ──  - ───────────────────── + ────────────────────────────────\n",
       "╲╱      72      4           _______________             ______________________\n",
       "                           ╱ √2444523   91             ╱                      \n",
       "                      6⋅3 ╱  ──────── + ──            ╱            43         \n",
       "                        ╲╱      72      4     4⋅     ╱   ─────────────────────\n",
       "                                                    ╱          _______________\n",
       "                                                   ╱          ╱ √2444523   91 \n",
       "                                                  ╱      6⋅3 ╱  ──────── + ── \n",
       "                                                ╲╱         ╲╱      72      4  \n",
       "──────────────────────────────────────────────────────────────────────────────\n",
       "                                                2                             \n",
       "\n",
       "____________________________________                                          \n",
       "                                                                              \n",
       "                                 41                                           \n",
       "────────────────────────────── + ──                                           \n",
       "______________________________   2             _______________________________\n",
       "         _______________                      ╱                               \n",
       "        ╱ √2444523   91    41                ╱            43                 ╱\n",
       " + 2⋅3 ╱  ──────── + ──  + ──               ╱   ───────────────────── + 2⋅3 ╱ \n",
       "     ╲╱      72      4     4               ╱          _______________     ╲╱  \n",
       "                                          ╱          ╱ √2444523   91          \n",
       "                                         ╱      6⋅3 ╱  ──────── + ──          \n",
       "                                       ╲╱         ╲╱      72      4           \n",
       "──────────────────────────────────── + ───────────────────────────────────────\n",
       "                                                                    2         \n",
       "\n",
       "                         ⎤\n",
       "                         ⎥\n",
       "                         ⎥\n",
       "                         ⎥\n",
       "_____________________    ⎥\n",
       "_______________          ⎥\n",
       " √2444523   91    41     ⎥\n",
       " ──────── + ──  + ──     ⎥\n",
       "    72      4     4      ⎥\n",
       "                         ⎥\n",
       "                         ⎥\n",
       "                        9⎥\n",
       "───────────────────── + ─⎥\n",
       "                        4⎦"
      ]
     },
     "execution_count": 21,
     "metadata": {},
     "output_type": "execute_result"
    }
   ],
   "source": [
    "sol_2 = sym.solve(expr_2)\n",
    "sol_2"
   ]
  },
  {
   "cell_type": "code",
   "execution_count": 23,
   "metadata": {},
   "outputs": [],
   "source": [
    "x, y = sym.symbols('x,y')\n",
    "expr_3 = x/4 - x*y + 5\n"
   ]
  },
  {
   "cell_type": "code",
   "execution_count": 25,
   "metadata": {},
   "outputs": [
    {
     "data": {
      "image/png": "[encoded data removed]",
      "text/latex": [
       "$\\displaystyle \\left[ \\frac{20}{4 y - 1}\\right]$"
      ],
      "text/plain": [
       "⎡   20  ⎤\n",
       "⎢───────⎥\n",
       "⎣4⋅y - 1⎦"
      ]
     },
     "execution_count": 25,
     "metadata": {},
     "output_type": "execute_result"
    }
   ],
   "source": [
    "sym.solve(expr_3, x) # solving for x"
   ]
  },
  {
   "cell_type": "code",
   "execution_count": 26,
   "metadata": {},
   "outputs": [
    {
     "data": {
      "image/png": "[encoded data removed]",
      "text/latex": [
       "$\\displaystyle \\left[ \\frac{x + 20}{4 x}\\right]$"
      ],
      "text/plain": [
       "⎡x + 20⎤\n",
       "⎢──────⎥\n",
       "⎣ 4⋅x  ⎦"
      ]
     },
     "execution_count": 26,
     "metadata": {},
     "output_type": "execute_result"
    }
   ],
   "source": [
    "sym.solve(expr_3, y)"
   ]
  }
 ],
 "metadata": {
  "kernelspec": {
   "display_name": "env",
   "language": "python",
   "name": "python3"
  },
  "language_info": {
   "codemirror_mode": {
    "name": "ipython",
    "version": 3
   },
   "file_extension": ".py",
   "mimetype": "text/x-python",
   "name": "python",
   "nbconvert_exporter": "python",
   "pygments_lexer": "ipython3",
   "version": "3.11.1 (v3.11.1:a7a450f84a, Dec  6 2022, 15:24:06) [Clang 13.0.0 (clang-1300.0.29.30)]"
  },
  "orig_nbformat": 4,
  "vscode": {
   "interpreter": {
    "hash": "2a651e4ef1d612eb4226e3395ce5a6e47bf1a7ebb25c7e937bccdf31253ebbad"
   }
  }
 },
 "nbformat": 4,
 "nbformat_minor": 2
}
