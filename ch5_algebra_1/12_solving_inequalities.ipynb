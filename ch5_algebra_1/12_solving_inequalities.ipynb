{
 "cells": [
  {
   "cell_type": "code",
   "execution_count": 2,
   "metadata": {},
   "outputs": [],
   "source": [
    "import sympy as sym\n",
    "from IPython.display import Math, display"
   ]
  },
  {
   "cell_type": "code",
   "execution_count": 3,
   "metadata": {},
   "outputs": [],
   "source": [
    "x = sym.symbols('x')"
   ]
  },
  {
   "cell_type": "code",
   "execution_count": 4,
   "metadata": {},
   "outputs": [
    {
     "data": {
      "text/latex": [
       "$\\displaystyle 2 < x \\wedge x < \\infty$"
      ],
      "text/plain": [
       "(2 < x) & (x < oo)"
      ]
     },
     "execution_count": 4,
     "metadata": {},
     "output_type": "execute_result"
    }
   ],
   "source": [
    "expr = 4*x > 8\n",
    "sym.solve(expr)"
   ]
  },
  {
   "cell_type": "code",
   "execution_count": 6,
   "metadata": {},
   "outputs": [
    {
     "data": {
      "text/latex": [
       "$\\displaystyle \\text{True}$"
      ],
      "text/plain": [
       "True"
      ]
     },
     "execution_count": 6,
     "metadata": {},
     "output_type": "execute_result"
    }
   ],
   "source": [
    "sym.oo > 9283092837048"
   ]
  },
  {
   "cell_type": "code",
   "execution_count": 7,
   "metadata": {},
   "outputs": [
    {
     "data": {
      "text/latex": [
       "$\\displaystyle \\left(-\\infty < x \\wedge x < -3\\right) \\vee \\left(1 < x \\wedge x < \\infty\\right)$"
      ],
      "text/plain": [
       "((-oo < x) & (x < -3)) | ((1 < x) & (x < oo))"
      ]
     },
     "execution_count": 7,
     "metadata": {},
     "output_type": "execute_result"
    }
   ],
   "source": [
    "expr2 = (x-1)*(x+3) > 0\n",
    "\n",
    "sym.solve(expr2)"
   ]
  },
  {
   "cell_type": "code",
   "execution_count": 9,
   "metadata": {},
   "outputs": [
    {
     "ename": "NotImplementedError",
     "evalue": "\ninequality has more than one symbol of interest.",
     "output_type": "error",
     "traceback": [
      "\u001b[0;31m---------------------------------------------------------------------------\u001b[0m",
      "\u001b[0;31mNotImplementedError\u001b[0m                       Traceback (most recent call last)",
      "Cell \u001b[0;32mIn[9], line 5\u001b[0m\n\u001b[1;32m      1\u001b[0m a, b, c \u001b[39m=\u001b[39m sym\u001b[39m.\u001b[39msymbols(\u001b[39m'\u001b[39m\u001b[39ma, b, c\u001b[39m\u001b[39m'\u001b[39m)\n\u001b[1;32m      3\u001b[0m expr_abc \u001b[39m=\u001b[39m a\u001b[39m*\u001b[39mx \u001b[39m>\u001b[39m b\u001b[39m*\u001b[39m\u001b[39m*\u001b[39m\u001b[39m2\u001b[39m\u001b[39m/\u001b[39mc\n\u001b[0;32m----> 5\u001b[0m sym\u001b[39m.\u001b[39;49msolve(expr_abc) \u001b[39m# not enough info for sympy\u001b[39;00m\n",
      "File \u001b[0;32m~/projects/master_math/env/lib/python3.11/site-packages/sympy/solvers/solvers.py:928\u001b[0m, in \u001b[0;36msolve\u001b[0;34m(f, *symbols, **flags)\u001b[0m\n\u001b[1;32m    925\u001b[0m     f[i] \u001b[39m=\u001b[39m fi\n\u001b[1;32m    927\u001b[0m \u001b[39mif\u001b[39;00m fi\u001b[39m.\u001b[39mis_Relational:\n\u001b[0;32m--> 928\u001b[0m     \u001b[39mreturn\u001b[39;00m reduce_inequalities(f, symbols\u001b[39m=\u001b[39;49msymbols)\n\u001b[1;32m    930\u001b[0m \u001b[39mif\u001b[39;00m \u001b[39misinstance\u001b[39m(fi, Poly):\n\u001b[1;32m    931\u001b[0m     f[i] \u001b[39m=\u001b[39m fi\u001b[39m.\u001b[39mas_expr()\n",
      "File \u001b[0;32m~/projects/master_math/env/lib/python3.11/site-packages/sympy/solvers/inequalities.py:981\u001b[0m, in \u001b[0;36mreduce_inequalities\u001b[0;34m(inequalities, symbols)\u001b[0m\n\u001b[1;32m    978\u001b[0m \u001b[39mdel\u001b[39;00m keep\n\u001b[1;32m    980\u001b[0m \u001b[39m# solve system\u001b[39;00m\n\u001b[0;32m--> 981\u001b[0m rv \u001b[39m=\u001b[39m _reduce_inequalities(inequalities, symbols)\n\u001b[1;32m    983\u001b[0m \u001b[39m# restore original symbols and return\u001b[39;00m\n\u001b[1;32m    984\u001b[0m \u001b[39mreturn\u001b[39;00m rv\u001b[39m.\u001b[39mxreplace({v: k \u001b[39mfor\u001b[39;00m k, v \u001b[39min\u001b[39;00m recast\u001b[39m.\u001b[39mitems()})\n",
      "File \u001b[0;32m~/projects/master_math/env/lib/python3.11/site-packages/sympy/solvers/inequalities.py:906\u001b[0m, in \u001b[0;36m_reduce_inequalities\u001b[0;34m(inequalities, symbols)\u001b[0m\n\u001b[1;32m    904\u001b[0m         \u001b[39mcontinue\u001b[39;00m\n\u001b[1;32m    905\u001b[0m     \u001b[39melse\u001b[39;00m:\n\u001b[0;32m--> 906\u001b[0m         \u001b[39mraise\u001b[39;00m \u001b[39mNotImplementedError\u001b[39;00m(filldedent(\u001b[39m'''\u001b[39m\n\u001b[1;32m    907\u001b[0m \u001b[39m            inequality has more than one symbol of interest.\u001b[39m\n\u001b[1;32m    908\u001b[0m \u001b[39m            \u001b[39m\u001b[39m'''\u001b[39m))\n\u001b[1;32m    910\u001b[0m \u001b[39mif\u001b[39;00m expr\u001b[39m.\u001b[39mis_polynomial(gen):\n\u001b[1;32m    911\u001b[0m     poly_part\u001b[39m.\u001b[39msetdefault(gen, [])\u001b[39m.\u001b[39mappend((expr, rel))\n",
      "\u001b[0;31mNotImplementedError\u001b[0m: \ninequality has more than one symbol of interest."
     ]
    }
   ],
   "source": [
    "a, b, c = sym.symbols('a, b, c')\n",
    "\n",
    "expr_abc = a*x > b**2/c\n",
    "\n",
    "sym.solve(expr_abc) # not enough info for sympy"
   ]
  },
  {
   "cell_type": "code",
   "execution_count": 10,
   "metadata": {},
   "outputs": [
    {
     "data": {
      "text/latex": [
       "$\\displaystyle \\frac{4}{3} - \\frac{x}{6} \\leq \\frac{5 x}{4} - \\frac{1}{2}$"
      ],
      "text/plain": [
       "<IPython.core.display.Math object>"
      ]
     },
     "metadata": {},
     "output_type": "display_data"
    }
   ],
   "source": [
    "# Exercise\n",
    "\n",
    "x = sym.symbols('x')\n",
    "\n",
    "exercise_ineq = (3*x)/2 + (4-5*x)/3 <= 2 - (5*(2-x))/4\n",
    "\n",
    "display(Math(sym.latex(exercise_ineq)))\n",
    "\n"
   ]
  },
  {
   "cell_type": "code",
   "execution_count": 11,
   "metadata": {},
   "outputs": [
    {
     "data": {
      "text/latex": [
       "$\\displaystyle \\frac{22}{17} \\leq x \\wedge x < \\infty$"
      ],
      "text/plain": [
       "(22/17 <= x) & (x < oo)"
      ]
     },
     "execution_count": 11,
     "metadata": {},
     "output_type": "execute_result"
    }
   ],
   "source": [
    "sym.solve(exercise_ineq)"
   ]
  },
  {
   "cell_type": "code",
   "execution_count": null,
   "metadata": {},
   "outputs": [],
   "source": [
    " "
   ]
  }
 ],
 "metadata": {
  "kernelspec": {
   "display_name": "env",
   "language": "python",
   "name": "python3"
  },
  "language_info": {
   "codemirror_mode": {
    "name": "ipython",
    "version": 3
   },
   "file_extension": ".py",
   "mimetype": "text/x-python",
   "name": "python",
   "nbconvert_exporter": "python",
   "pygments_lexer": "ipython3",
   "version": "3.11.1"
  },
  "orig_nbformat": 4,
  "vscode": {
   "interpreter": {
    "hash": "2a651e4ef1d612eb4226e3395ce5a6e47bf1a7ebb25c7e937bccdf31253ebbad"
   }
  }
 },
 "nbformat": 4,
 "nbformat_minor": 2
}
