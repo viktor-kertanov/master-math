{
 "cells": [
  {
   "cell_type": "code",
   "execution_count": 1,
   "metadata": {},
   "outputs": [],
   "source": [
    "import sympy as sym"
   ]
  },
  {
   "cell_type": "code",
   "execution_count": 2,
   "metadata": {},
   "outputs": [],
   "source": [
    "number = 48"
   ]
  },
  {
   "cell_type": "code",
   "execution_count": 3,
   "metadata": {},
   "outputs": [
    {
     "data": {
      "text/plain": [
       "{2: 4, 3: 1}"
      ]
     },
     "execution_count": 3,
     "metadata": {},
     "output_type": "execute_result"
    }
   ],
   "source": [
    "sym.factorint(48)"
   ]
  },
  {
   "cell_type": "code",
   "execution_count": 7,
   "metadata": {},
   "outputs": [
    {
     "name": "stdout",
     "output_type": "stream",
     "text": [
      "2 is a prime number.\n",
      "3 is a prime number.\n",
      "4 is a composite number with prime factors: [2]\n",
      "5 is a prime number.\n",
      "6 is a composite number with prime factors: [2, 3]\n",
      "7 is a prime number.\n",
      "8 is a composite number with prime factors: [2]\n",
      "9 is a composite number with prime factors: [3]\n",
      "10 is a composite number with prime factors: [2, 5]\n",
      "11 is a prime number.\n",
      "12 is a composite number with prime factors: [2, 3]\n",
      "13 is a prime number.\n",
      "14 is a composite number with prime factors: [2, 7]\n",
      "15 is a composite number with prime factors: [3, 5]\n",
      "16 is a composite number with prime factors: [2]\n",
      "17 is a prime number.\n",
      "18 is a composite number with prime factors: [2, 3]\n",
      "19 is a prime number.\n",
      "20 is a composite number with prime factors: [2, 5]\n",
      "21 is a composite number with prime factors: [3, 7]\n",
      "22 is a composite number with prime factors: [2, 11]\n",
      "23 is a prime number.\n",
      "24 is a composite number with prime factors: [2, 3]\n",
      "25 is a composite number with prime factors: [5]\n",
      "26 is a composite number with prime factors: [2, 13]\n",
      "27 is a composite number with prime factors: [3]\n",
      "28 is a composite number with prime factors: [2, 7]\n",
      "29 is a prime number.\n",
      "30 is a composite number with prime factors: [2, 3, 5]\n",
      "31 is a prime number.\n",
      "32 is a composite number with prime factors: [2]\n",
      "33 is a composite number with prime factors: [3, 11]\n",
      "34 is a composite number with prime factors: [2, 17]\n",
      "35 is a composite number with prime factors: [5, 7]\n",
      "36 is a composite number with prime factors: [2, 3]\n",
      "37 is a prime number.\n",
      "38 is a composite number with prime factors: [2, 19]\n",
      "39 is a composite number with prime factors: [3, 13]\n",
      "40 is a composite number with prime factors: [2, 5]\n",
      "41 is a prime number.\n",
      "42 is a composite number with prime factors: [2, 3, 7]\n",
      "43 is a prime number.\n",
      "44 is a composite number with prime factors: [2, 11]\n",
      "45 is a composite number with prime factors: [3, 5]\n",
      "46 is a composite number with prime factors: [2, 23]\n",
      "47 is a prime number.\n",
      "48 is a composite number with prime factors: [2, 3]\n",
      "49 is a composite number with prime factors: [7]\n",
      "50 is a composite number with prime factors: [2, 5]\n"
     ]
    }
   ],
   "source": [
    "start = 2\n",
    "stop = 50\n",
    "\n",
    "for num in range(start, stop+1):\n",
    "    prime_factors = sym.factorint(num)\n",
    "    first_value = list(prime_factors.values())[0]\n",
    "    if len(prime_factors) == 1 and first_value == 1:\n",
    "        print(f'{num} is a prime number.')\n",
    "    else:\n",
    "        print(f'{num} is a composite number with prime factors: {list(prime_factors.keys())}')"
   ]
  },
  {
   "cell_type": "code",
   "execution_count": null,
   "metadata": {},
   "outputs": [],
   "source": []
  }
 ],
 "metadata": {
  "kernelspec": {
   "display_name": "env",
   "language": "python",
   "name": "python3"
  },
  "language_info": {
   "codemirror_mode": {
    "name": "ipython",
    "version": 3
   },
   "file_extension": ".py",
   "mimetype": "text/x-python",
   "name": "python",
   "nbconvert_exporter": "python",
   "pygments_lexer": "ipython3",
   "version": "3.11.1"
  },
  "orig_nbformat": 4,
  "vscode": {
   "interpreter": {
    "hash": "2a651e4ef1d612eb4226e3395ce5a6e47bf1a7ebb25c7e937bccdf31253ebbad"
   }
  }
 },
 "nbformat": 4,
 "nbformat_minor": 2
}
