{
 "cells": [
  {
   "attachments": {},
   "cell_type": "markdown",
   "metadata": {},
   "source": [
    "# Sympy and LaTex: Bug hunt!"
   ]
  },
  {
   "cell_type": "code",
   "execution_count": 1,
   "metadata": {},
   "outputs": [
    {
     "data": {
      "text/latex": [
       "$\\displaystyle 2 e^{\\frac{\\mu^{2}}{\\alpha}}$"
      ],
      "text/plain": [
       "<IPython.core.display.Math object>"
      ]
     },
     "metadata": {},
     "output_type": "display_data"
    }
   ],
   "source": [
    "import sympy as sym\n",
    "from IPython.display import Math, display\n",
    "\n",
    "mu,alpha = sym.symbols('mu,alpha')\n",
    "\n",
    "expr = 2*sym.exp(mu**2/alpha)\n",
    "\n",
    "display(Math('%s' % sym.latex(expr)))"
   ]
  },
  {
   "cell_type": "code",
   "execution_count": 2,
   "metadata": {},
   "outputs": [
    {
     "data": {
      "text/latex": [
       "$\\displaystyle 1234 + \\frac{3x}{\\sin(2\\pi t+\\theta)}$"
      ],
      "text/plain": [
       "<IPython.core.display.Math object>"
      ]
     },
     "metadata": {},
     "output_type": "display_data"
    }
   ],
   "source": [
    "display(Math('1234 + \\\\frac{3x}{\\\\sin(2\\\\pi t+\\\\theta)}'))"
   ]
  },
  {
   "cell_type": "code",
   "execution_count": 6,
   "metadata": {},
   "outputs": [
    {
     "name": "stdout",
     "output_type": "stream",
     "text": [
      "7\n"
     ]
    }
   ],
   "source": [
    "a = '3'\n",
    "b = '4'\n",
    "\n",
    "# answer should be 7\n",
    "print(sym.sympify(int(a)+int(b)))"
   ]
  },
  {
   "cell_type": "code",
   "execution_count": 19,
   "metadata": {},
   "outputs": [
    {
     "data": {
      "image/png": "[encoded data removed]",
      "text/latex": [
       "$\\displaystyle 4 x - 2 = 0$"
      ],
      "text/plain": [
       "4⋅x - 2 = 0"
      ]
     },
     "execution_count": 19,
     "metadata": {},
     "output_type": "execute_result"
    }
   ],
   "source": [
    "x = sym.symbols('x')\n",
    "sym.Eq( 4*x - 2, 0 )"
   ]
  },
  {
   "cell_type": "code",
   "execution_count": 13,
   "metadata": {},
   "outputs": [
    {
     "data": {
      "image/png": "[encoded data removed]",
      "text/latex": [
       "$\\displaystyle x^{2}$"
      ],
      "text/plain": [
       " 2\n",
       "x "
      ]
     },
     "metadata": {},
     "output_type": "display_data"
    },
    {
     "data": {
      "image/png": "[encoded data removed]",
      "text/latex": [
       "$\\displaystyle x^{2}$"
      ],
      "text/plain": [
       " 2\n",
       "x "
      ]
     },
     "metadata": {},
     "output_type": "display_data"
    }
   ],
   "source": [
    "# part 1 of 2\n",
    "sym.init_printing()\n",
    "q = sym.sympify('x^2')\n",
    "r = x**2\n",
    "\n",
    "display(q)\n",
    "display(r)"
   ]
  },
  {
   "cell_type": "code",
   "execution_count": 14,
   "metadata": {},
   "outputs": [
    {
     "data": {
      "image/png": "[encoded data removed]",
      "text/latex": [
       "$\\displaystyle x^{2}$"
      ],
      "text/plain": [
       " 2\n",
       "x "
      ]
     },
     "metadata": {},
     "output_type": "display_data"
    },
    {
     "data": {
      "image/png": "[encoded data removed]",
      "text/latex": [
       "$\\displaystyle x^{2}$"
      ],
      "text/plain": [
       " 2\n",
       "x "
      ]
     },
     "metadata": {},
     "output_type": "display_data"
    },
    {
     "data": {
      "text/latex": [
       "$\\displaystyle \\text{True}$"
      ],
      "text/plain": [
       "True"
      ]
     },
     "execution_count": 14,
     "metadata": {},
     "output_type": "execute_result"
    }
   ],
   "source": [
    "# part 2 of 2\n",
    "\n",
    "q,r = sym.symbols('q,r')\n",
    "\n",
    "q = sym.sympify('x^2')\n",
    "r = sym.sympify('x**2')\n",
    "\n",
    "display(q)\n",
    "display(r)\n",
    "\n",
    "sym.Eq(q,r)"
   ]
  },
  {
   "cell_type": "code",
   "execution_count": 17,
   "metadata": {},
   "outputs": [
    {
     "data": {
      "image/png": "[encoded data removed]",
      "text/latex": [
       "$\\displaystyle \\left(4 x^{2} - 5 x + 10\\right)^{0.5}$"
      ],
      "text/plain": [
       "                 0.5\n",
       "⎛   2           ⎞   \n",
       "⎝4⋅x  - 5⋅x + 10⎠   "
      ]
     },
     "metadata": {},
     "output_type": "display_data"
    },
    {
     "data": {
      "image/png": "[encoded data removed]",
      "text/latex": [
       "$\\displaystyle 5.56776436283002$"
      ],
      "text/plain": [
       "5.56776436283002"
      ]
     },
     "execution_count": 17,
     "metadata": {},
     "output_type": "execute_result"
    }
   ],
   "source": [
    "x = sym.symbols('x')\n",
    "\n",
    "equation = (4*x**2 - 5*x + 10)**(1/2)\n",
    "display(equation)\n",
    "equation.subs(x, 3)"
   ]
  },
  {
   "cell_type": "code",
   "execution_count": 18,
   "metadata": {},
   "outputs": [
    {
     "data": {
      "image/png": "[encoded data removed]",
      "text/latex": [
       "$\\displaystyle 0.25 x y^{2} - x \\left(5 x + 10 y^{2}\\right)^{3}$"
      ],
      "text/plain": [
       "                           3\n",
       "        2     ⎛          2⎞ \n",
       "0.25⋅x⋅y  - x⋅⎝5⋅x + 10⋅y ⎠ "
      ]
     },
     "metadata": {},
     "output_type": "display_data"
    }
   ],
   "source": [
    "x,y = sym.symbols('x,y')\n",
    "\n",
    "equation = 1/4*x*y**2 - x*(5*x + 10*y**2)**(3)\n",
    "display(equation)"
   ]
  }
 ],
 "metadata": {
  "kernelspec": {
   "display_name": "env",
   "language": "python",
   "name": "python3"
  },
  "language_info": {
   "codemirror_mode": {
    "name": "ipython",
    "version": 3
   },
   "file_extension": ".py",
   "mimetype": "text/x-python",
   "name": "python",
   "nbconvert_exporter": "python",
   "pygments_lexer": "ipython3",
   "version": "3.11.1"
  },
  "vscode": {
   "interpreter": {
    "hash": "2a651e4ef1d612eb4226e3395ce5a6e47bf1a7ebb25c7e937bccdf31253ebbad"
   }
  }
 },
 "nbformat": 4,
 "nbformat_minor": 2
}
