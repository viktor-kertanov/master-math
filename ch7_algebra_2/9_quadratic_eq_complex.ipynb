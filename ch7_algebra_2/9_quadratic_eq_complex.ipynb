{
 "cells": [
  {
   "cell_type": "code",
   "execution_count": 6,
   "metadata": {},
   "outputs": [],
   "source": [
    "import numpy as np\n",
    "import sympy as sym\n",
    "import matplotlib.pyplot as plt\n",
    "from IPython.display import display, Math"
   ]
  },
  {
   "cell_type": "code",
   "execution_count": 7,
   "metadata": {},
   "outputs": [],
   "source": [
    "def quadratic_equation(a, b, c):\n",
    "    roots = np.zeros(2, dtype=\"complex\")\n",
    "\n",
    "    roots[0] = (-b + np.lib.scimath.sqrt(b**2 - 4*a*c)) / (2*a)\n",
    "    roots[1] = (-b - np.lib.scimath.sqrt(b**2 - 4*a*c)) / (2*a)\n",
    "\n",
    "    return roots"
   ]
  },
  {
   "cell_type": "code",
   "execution_count": 26,
   "metadata": {},
   "outputs": [
    {
     "data": {
      "text/latex": [
       "$\\displaystyle \\left[\\begin{array}{}0 & 0 & 0 & 0 & 0 & 0 & 0 & 0 & 0 & 0 & 0 & 0 & 0\\\\0 & 0 & 0 & 0 & 0 & 0 & 0 & 0 & 0 & 0 & 0 & 0 & 0\\\\0 & 0 & 0 & 0 & 0 & 0 & 0 & 0 & 0 & 0 & 0 & 0 & 0\\\\0 & 0 & 0 & 0 & 0 & 0 & 0 & 0 & 0 & 0 & 0 & 0 & 0\\\\0 & 0 & 0 & 0 & 0 & 0 & 0 & 0 & 0 & 0 & 0 & 0 & 0\\\\0 & 0 & 0 & 0 & 0 & 0 & 0 & 0 & 0 & 0 & 0 & 0 & 0\\\\0 & 0 & 0 & 0 & 0 & 0 & 0 & 0 & 0 & 0 & 0 & 0 & 0\\\\0 & 0 & 0 & 0 & 0 & 0 & 0 & 0 & 0 & 0 & 0 & 0 & 0\\\\0 & 0 & 0 & 0 & 0 & 0 & 0 & 0 & 0 & 0 & 0 & 0 & 0\\\\0 & 0 & 0 & 0 & 0 & 0 & 0 & 0 & 0 & 0 & 0 & 0 & 0\\\\0 & 0 & 0 & 0 & 0 & 0 & 0 & 0 & 0 & 0 & 0 & 0 & 0\\end{array}\\right]$"
      ],
      "text/plain": [
       "<IPython.core.display.Math object>"
      ]
     },
     "metadata": {},
     "output_type": "display_data"
    }
   ],
   "source": [
    "#Exercise\n",
    "a = 1\n",
    "b = range(-5,6)\n",
    "c = range(-2, 11)\n",
    "\n",
    "Q = np.zeros([len(b), len(c)], dtype=\"complex\")\n",
    "\n",
    "display(Math(sym.latex(sym.sympify(Q))))"
   ]
  },
  {
   "cell_type": "code",
   "execution_count": 47,
   "metadata": {},
   "outputs": [
    {
     "data": {
      "text/latex": [
       "$\\displaystyle \\left[\\begin{array}{}-0.372281323269014 & -0.192582403567252 & 0 & 0.20871215252208 & 0.43844718719117 & 0.697224362268005 & 1.0 & 1.38196601125011 & 2.0 & 2.5 - 0.866025403784439 i & 2.5 - 1.3228756555323 i & 2.5 - 1.6583123951777 i & 2.5 - 1.93649167310371 i\\\\-0.449489742783178 & -0.23606797749979 & 0 & 0.267949192431123 & 0.585786437626905 & 1.0 & 2.0 & 2.0 - 1.0 i & 2.0 - 1.4142135623731 i & 2.0 - 1.73205080756888 i & 2.0 - 2.0 i & 2.0 - 2.23606797749979 i & 2.0 - 2.44948974278318 i\\\\-0.56155281280883 & -0.302775637731995 & 0 & 0.381966011250105 & 1.0 & 1.5 - 0.866025403784439 i & 1.5 - 1.3228756555323 i & 1.5 - 1.6583123951777 i & 1.5 - 1.93649167310371 i & 1.5 - 2.17944947177034 i & 1.5 - 2.39791576165636 i & 1.5 - 2.59807621135332 i & 1.5 - 2.78388218141501 i\\\\-0.732050807568877 & -0.414213562373095 & 0 & 1.0 & 1.0 - 1.0 i & 1.0 - 1.4142135623731 i & 1.0 - 1.73205080756888 i & 1.0 - 2.0 i & 1.0 - 2.23606797749979 i & 1.0 - 2.44948974278318 i & 1.0 - 2.64575131106459 i & 1.0 - 2.82842712474619 i & 1.0 - 3.0 i\\\\-1.0 & -0.618033988749895 & 0 & 0.5 - 0.866025403784439 i & 0.5 - 1.3228756555323 i & 0.5 - 1.6583123951777 i & 0.5 - 1.93649167310371 i & 0.5 - 2.17944947177034 i & 0.5 - 2.39791576165636 i & 0.5 - 2.59807621135332 i & 0.5 - 2.78388218141501 i & 0.5 - 2.95803989154981 i & 0.5 - 3.1224989991992 i\\\\-1.4142135623731 & -1.0 & 0 & - 1.0 i & - 1.4142135623731 i & - 1.73205080756888 i & - 2.0 i & - 2.23606797749979 i & - 2.44948974278318 i & - 2.64575131106459 i & - 2.82842712474619 i & - 3.0 i & - 3.16227766016838 i\\\\-2.0 & -1.61803398874989 & -1.0 & -0.5 - 0.866025403784439 i & -0.5 - 1.3228756555323 i & -0.5 - 1.6583123951777 i & -0.5 - 1.93649167310371 i & -0.5 - 2.17944947177034 i & -0.5 - 2.39791576165636 i & -0.5 - 2.59807621135332 i & -0.5 - 2.78388218141501 i & -0.5 - 2.95803989154981 i & -0.5 - 3.1224989991992 i\\\\-2.73205080756888 & -2.41421356237309 & -2.0 & -1.0 & -1.0 - 1.0 i & -1.0 - 1.4142135623731 i & -1.0 - 1.73205080756888 i & -1.0 - 2.0 i & -1.0 - 2.23606797749979 i & -1.0 - 2.44948974278318 i & -1.0 - 2.64575131106459 i & -1.0 - 2.82842712474619 i & -1.0 - 3.0 i\\\\-3.56155281280883 & -3.30277563773199 & -3.0 & -2.61803398874989 & -2.0 & -1.5 - 0.866025403784439 i & -1.5 - 1.3228756555323 i & -1.5 - 1.6583123951777 i & -1.5 - 1.93649167310371 i & -1.5 - 2.17944947177034 i & -1.5 - 2.39791576165636 i & -1.5 - 2.59807621135332 i & -1.5 - 2.78388218141501 i\\\\-4.44948974278318 & -4.23606797749979 & -4.0 & -3.73205080756888 & -3.41421356237309 & -3.0 & -2.0 & -2.0 - 1.0 i & -2.0 - 1.4142135623731 i & -2.0 - 1.73205080756888 i & -2.0 - 2.0 i & -2.0 - 2.23606797749979 i & -2.0 - 2.44948974278318 i\\\\-5.37228132326901 & -5.19258240356725 & -5.0 & -4.79128784747792 & -4.56155281280883 & -4.30277563773199 & -4.0 & -3.61803398874989 & -3.0 & -2.5 - 0.866025403784439 i & -2.5 - 1.3228756555323 i & -2.5 - 1.6583123951777 i & -2.5 - 1.93649167310371 i\\end{array}\\right]$"
      ],
      "text/plain": [
       "<IPython.core.display.Math object>"
      ]
     },
     "metadata": {},
     "output_type": "display_data"
    }
   ],
   "source": [
    "for b_idx, b_i in enumerate(b):\n",
    "    for c_idx, c_i in enumerate(c):\n",
    "        sol = quadratic_equation(a, b_i, c_i)[1]\n",
    "        Q[b_idx,c_idx] = sol\n",
    "\n",
    "display(Math(sym.latex(sym.sympify(Q))))"
   ]
  },
  {
   "cell_type": "code",
   "execution_count": 51,
   "metadata": {},
   "outputs": [
    {
     "data": {
      "image/png": "[encoded data removed]",
      "text/plain": [
       "<Figure size 640x480 with 3 Axes>"
      ]
     },
     "metadata": {},
     "output_type": "display_data"
    }
   ],
   "source": [
    "plt.subplot(1, 3, 1)\n",
    "plt.imshow(np.real(Q), extent=[c[0], c[-1], b[0], b[-1]])\n",
    "\n",
    "plt.axis('on')\n",
    "plt.xlabel('c')\n",
    "plt.ylabel('b')\n",
    "plt.title(f'real part')\n",
    "\n",
    "plt.subplot(1, 3, 2)\n",
    "plt.imshow(np.imag(Q), extent=[c[0], c[-1], b[0], b[-1]])\n",
    "\n",
    "plt.axis('off')\n",
    "plt.title(f'imaginary part')\n",
    "\n",
    "plt.subplot(1, 3, 3)\n",
    "plt.imshow(np.absolute(Q), extent=[c[0], c[-1], b[0], b[-1]])\n",
    "\n",
    "plt.axis('off')\n",
    "plt.title(f'magnitude')\n",
    "plt.show()"
   ]
  }
 ],
 "metadata": {
  "kernelspec": {
   "display_name": "env",
   "language": "python",
   "name": "python3"
  },
  "language_info": {
   "codemirror_mode": {
    "name": "ipython",
    "version": 3
   },
   "file_extension": ".py",
   "mimetype": "text/x-python",
   "name": "python",
   "nbconvert_exporter": "python",
   "pygments_lexer": "ipython3",
   "version": "3.11.1 (v3.11.1:a7a450f84a, Dec  6 2022, 15:24:06) [Clang 13.0.0 (clang-1300.0.29.30)]"
  },
  "orig_nbformat": 4,
  "vscode": {
   "interpreter": {
    "hash": "2a651e4ef1d612eb4226e3395ce5a6e47bf1a7ebb25c7e937bccdf31253ebbad"
   }
  }
 },
 "nbformat": 4,
 "nbformat_minor": 2
}
