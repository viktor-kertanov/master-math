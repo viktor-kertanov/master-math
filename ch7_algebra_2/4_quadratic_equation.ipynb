{
 "cells": [
  {
   "cell_type": "code",
   "execution_count": 37,
   "metadata": {},
   "outputs": [],
   "source": [
    "import numpy as np\n",
    "import sympy as sym\n",
    "from numpy.lib.scimath import sqrt as npsqrt\n",
    "import scipy as sp\n",
    "import matplotlib.pyplot as plt\n",
    "from IPython.display import Math, display"
   ]
  },
  {
   "cell_type": "code",
   "execution_count": 11,
   "metadata": {},
   "outputs": [],
   "source": [
    "# 2*x^2 + 7x + 5 = 0\n",
    "a = 3\n",
    "b = 7\n",
    "c = 5"
   ]
  },
  {
   "cell_type": "code",
   "execution_count": 22,
   "metadata": {},
   "outputs": [
    {
     "name": "stdout",
     "output_type": "stream",
     "text": [
      "(-1.1666666666666665+0.5527707983925666j)\n",
      "(-1.1666666666666665-0.5527707983925666j)\n"
     ]
    }
   ],
   "source": [
    "quad_root_1 = (-b + npsqrt(b**2 - 4*a*c)) / (2*a)\n",
    "quad_root_2 = (-b - npsqrt(b**2 - 4*a*c)) / (2*a)\n",
    "\n",
    "print(quad_root_1)\n",
    "print(quad_root_2)"
   ]
  },
  {
   "cell_type": "code",
   "execution_count": 29,
   "metadata": {},
   "outputs": [],
   "source": [
    "def quadratic_equation(a, b, c):\n",
    "    roots = np.zeros(2, dtype=\"complex\")\n",
    "\n",
    "    roots[0] = (-b + npsqrt(b**2 - 4*a*c)) / (2*a)\n",
    "    roots[1] = (-b - npsqrt(b**2 - 4*a*c)) / (2*a)\n",
    "\n",
    "    return roots"
   ]
  },
  {
   "cell_type": "code",
   "execution_count": 32,
   "metadata": {},
   "outputs": [
    {
     "name": "stdout",
     "output_type": "stream",
     "text": [
      "(-1+0j)\n",
      "(-2.5+0j)\n"
     ]
    }
   ],
   "source": [
    "m = quadratic_equation(2,7,5)\n",
    "for el in m:\n",
    "    print(el)"
   ]
  },
  {
   "cell_type": "code",
   "execution_count": 75,
   "metadata": {},
   "outputs": [
    {
     "data": {
      "text/latex": [
       "$\\displaystyle \\left[\\begin{array}{}0.0 & 0.0 & 0.0 & 0.0 & 0.0 & 0.0 & 0.0 & 0.0 & 0.0 & 0.0 & 0.0 & 0.0 & 0.0\\\\0.0 & 0.0 & 0.0 & 0.0 & 0.0 & 0.0 & 0.0 & 0.0 & 0.0 & 0.0 & 0.0 & 0.0 & 0.0\\\\0.0 & 0.0 & 0.0 & 0.0 & 0.0 & 0.0 & 0.0 & 0.0 & 0.0 & 0.0 & 0.0 & 0.0 & 0.0\\\\0.0 & 0.0 & 0.0 & 0.0 & 0.0 & 0.0 & 0.0 & 0.0 & 0.0 & 0.0 & 0.0 & 0.0 & 0.0\\\\0.0 & 0.0 & 0.0 & 0.0 & 0.0 & 0.0 & 0.0 & 0.0 & 0.0 & 0.0 & 0.0 & 0.0 & 0.0\\\\0.0 & 0.0 & 0.0 & 0.0 & 0.0 & 0.0 & 0.0 & 0.0 & 0.0 & 0.0 & 0.0 & 0.0 & 0.0\\\\0.0 & 0.0 & 0.0 & 0.0 & 0.0 & 0.0 & 0.0 & 0.0 & 0.0 & 0.0 & 0.0 & 0.0 & 0.0\\\\0.0 & 0.0 & 0.0 & 0.0 & 0.0 & 0.0 & 0.0 & 0.0 & 0.0 & 0.0 & 0.0 & 0.0 & 0.0\\\\0.0 & 0.0 & 0.0 & 0.0 & 0.0 & 0.0 & 0.0 & 0.0 & 0.0 & 0.0 & 0.0 & 0.0 & 0.0\\\\0.0 & 0.0 & 0.0 & 0.0 & 0.0 & 0.0 & 0.0 & 0.0 & 0.0 & 0.0 & 0.0 & 0.0 & 0.0\\\\0.0 & 0.0 & 0.0 & 0.0 & 0.0 & 0.0 & 0.0 & 0.0 & 0.0 & 0.0 & 0.0 & 0.0 & 0.0\\end{array}\\right]$"
      ],
      "text/plain": [
       "<IPython.core.display.Math object>"
      ]
     },
     "metadata": {},
     "output_type": "display_data"
    }
   ],
   "source": [
    "#Exercise\n",
    "a = 1\n",
    "b = range(-5,6)\n",
    "c = range(-2, 11)\n",
    "\n",
    "Q = np.zeros([len(b), len(c)])\n",
    "\n",
    "display(Math(sym.latex(sym.sympify(Q))))"
   ]
  },
  {
   "cell_type": "code",
   "execution_count": 89,
   "metadata": {},
   "outputs": [
    {
     "name": "stderr",
     "output_type": "stream",
     "text": [
      "/var/folders/0r/r1g3n1k91rj2y9473jt0d9sh0000gn/T/ipykernel_8346/2929622955.py:9: ComplexWarning: Casting complex values to real discards the imaginary part\n",
      "  Q[b_idx,c_idx] = sol\n"
     ]
    }
   ],
   "source": [
    "for b_idx, b_i in enumerate(b):\n",
    "    for c_idx, c_i in enumerate(c):\n",
    "        sol = quadratic_equation(a, b_i, c_i)[0]\n",
    "        \n",
    "        # sol = np.roots([a, b_i, c_i])[0]\n",
    "        # print(sol)\n",
    "\n",
    "        # print(f'Solution for b: {b_i}, c: {c_i} is {sol}.')\n",
    "        Q[b_idx,c_idx] = sol\n",
    "\n",
    "# display(Math(sym.latex(sym.sympify(Q))))"
   ]
  },
  {
   "cell_type": "code",
   "execution_count": 90,
   "metadata": {},
   "outputs": [
    {
     "data": {
      "image/png": "[encoded data removed]",
      "text/plain": [
       "<Figure size 640x480 with 2 Axes>"
      ]
     },
     "metadata": {},
     "output_type": "display_data"
    }
   ],
   "source": [
    "plt.imshow(Q, extent=[c[0], c[-1], b[0], b[-1]])\n",
    "\n",
    "plt.xlabel('c')\n",
    "plt.ylabel('b')\n",
    "plt.title(f'a={a}')\n",
    "plt.colorbar()\n",
    "plt.show()"
   ]
  },
  {
   "cell_type": "code",
   "execution_count": null,
   "metadata": {},
   "outputs": [],
   "source": []
  }
 ],
 "metadata": {
  "kernelspec": {
   "display_name": "env",
   "language": "python",
   "name": "python3"
  },
  "language_info": {
   "codemirror_mode": {
    "name": "ipython",
    "version": 3
   },
   "file_extension": ".py",
   "mimetype": "text/x-python",
   "name": "python",
   "nbconvert_exporter": "python",
   "pygments_lexer": "ipython3",
   "version": "3.11.1 (v3.11.1:a7a450f84a, Dec  6 2022, 15:24:06) [Clang 13.0.0 (clang-1300.0.29.30)]"
  },
  "orig_nbformat": 4,
  "vscode": {
   "interpreter": {
    "hash": "2a651e4ef1d612eb4226e3395ce5a6e47bf1a7ebb25c7e937bccdf31253ebbad"
   }
  }
 },
 "nbformat": 4,
 "nbformat_minor": 2
}
