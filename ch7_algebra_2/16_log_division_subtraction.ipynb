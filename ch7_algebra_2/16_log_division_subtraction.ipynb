{
 "cells": [
  {
   "cell_type": "code",
   "execution_count": 1,
   "metadata": {},
   "outputs": [],
   "source": [
    "import numpy as np\n",
    "import sympy as sym\n",
    "from IPython.display import display, Math"
   ]
  },
  {
   "attachments": {},
   "cell_type": "markdown",
   "metadata": {},
   "source": [
    "Properties of a logarithm:\n",
    "\n",
    "1) $\\log(a \\times b) = \\log(a) + \\log(b)$\n",
    "\n",
    "2) $\\log \\left( \\frac{a}{b} \\right) = \\log(a) - \\log(b)$\n",
    "\n",
    "3) $\\log(a^b) = b \\times log(a)$"
   ]
  },
  {
   "cell_type": "code",
   "execution_count": 5,
   "metadata": {},
   "outputs": [
    {
     "data": {
      "text/plain": [
       "True"
      ]
     },
     "execution_count": 5,
     "metadata": {},
     "output_type": "execute_result"
    }
   ],
   "source": [
    "a = 3\n",
    "b = 4\n",
    "\n",
    "res1 = np.log(a*b)\n",
    "res2 = np.log(a) + np.log(b)\n",
    "res3 = np.log(a) * np.log(b)\n",
    "\n",
    "res1 == res2"
   ]
  },
  {
   "cell_type": "code",
   "execution_count": 9,
   "metadata": {},
   "outputs": [
    {
     "data": {
      "text/latex": [
       "$\\displaystyle \\log( 3 \\times 4 ) = 2.4849066497880004$"
      ],
      "text/plain": [
       "<IPython.core.display.Math object>"
      ]
     },
     "metadata": {},
     "output_type": "display_data"
    },
    {
     "data": {
      "text/latex": [
       "$\\displaystyle \\log( 3) \\times \\log(4) = 1.523000020837618$"
      ],
      "text/plain": [
       "<IPython.core.display.Math object>"
      ]
     },
     "metadata": {},
     "output_type": "display_data"
    },
    {
     "data": {
      "text/latex": [
       "$\\displaystyle \\log( 3) + \\log(4) = 2.4849066497880004$"
      ],
      "text/plain": [
       "<IPython.core.display.Math object>"
      ]
     },
     "metadata": {},
     "output_type": "display_data"
    },
    {
     "data": {
      "text/latex": [
       "$\\displaystyle \\log( 3 \\times 4 ) = \\log(3) + \\log(4)$"
      ],
      "text/plain": [
       "<IPython.core.display.Math object>"
      ]
     },
     "metadata": {},
     "output_type": "display_data"
    },
    {
     "data": {
      "text/latex": [
       "$\\displaystyle \\log( 3 \\times 4 ) \\neq \\log(3) * \\log(4)$"
      ],
      "text/plain": [
       "<IPython.core.display.Math object>"
      ]
     },
     "metadata": {},
     "output_type": "display_data"
    }
   ],
   "source": [
    "display(Math('\\log( %s \\\\times %s ) = %s' % (a, b, res1)))\n",
    "display(Math('\\log( %s) \\\\times \\log(%s) = %s' % (a, b, res3)))\n",
    "display(Math('\\log( %s) + \\log(%s) = %s' % (a, b, res2)))\n",
    "\n",
    "display(Math('\\log( %s \\\\times %s ) = \\log(%s) + \\log(%s)' % (a, b, a, b)))\n",
    "display(Math('\\log( %s \\\\times %s ) \\\\neq \\log(%s) * \\log(%s)' % (a, b, a, b)))\n"
   ]
  },
  {
   "cell_type": "code",
   "execution_count": 14,
   "metadata": {},
   "outputs": [
    {
     "data": {
      "text/plain": [
       "-0.2876820724517808"
      ]
     },
     "execution_count": 14,
     "metadata": {},
     "output_type": "execute_result"
    }
   ],
   "source": [
    "a = 3\n",
    "b = 4\n",
    "\n",
    "res1 = np.log(a/b)\n",
    "res2 = np.log(a) - np.log(b)\n",
    "res3 = np.log(a) / np.log(b)"
   ]
  },
  {
   "cell_type": "code",
   "execution_count": 22,
   "metadata": {},
   "outputs": [
    {
     "data": {
      "text/latex": [
       "$\\displaystyle \\log \\left( \\frac{3}{4} \\right) = -0.2876820724517809$"
      ],
      "text/plain": [
       "<IPython.core.display.Math object>"
      ]
     },
     "metadata": {},
     "output_type": "display_data"
    },
    {
     "data": {
      "text/latex": [
       "$\\displaystyle \\frac{\\log( 3)}{\\log(4)} = 0.7924812503605781$"
      ],
      "text/plain": [
       "<IPython.core.display.Math object>"
      ]
     },
     "metadata": {},
     "output_type": "display_data"
    },
    {
     "data": {
      "text/latex": [
       "$\\displaystyle \\log( 3) - \\log(4) = -0.2876820724517808$"
      ],
      "text/plain": [
       "<IPython.core.display.Math object>"
      ]
     },
     "metadata": {},
     "output_type": "display_data"
    },
    {
     "data": {
      "text/latex": [
       "$\\displaystyle \\log \\left( \\frac{3}{4} \\right) = \\log(3) - \\log(4)$"
      ],
      "text/plain": [
       "<IPython.core.display.Math object>"
      ]
     },
     "metadata": {},
     "output_type": "display_data"
    },
    {
     "data": {
      "text/latex": [
       "$\\displaystyle \\log\\left(\\frac{3}{4}\\right)  \\neq \\frac{\\log(3)}{\\log(4)}$"
      ],
      "text/plain": [
       "<IPython.core.display.Math object>"
      ]
     },
     "metadata": {},
     "output_type": "display_data"
    }
   ],
   "source": [
    "display(Math('\\log \\\\left( \\\\frac{%s}{%s} \\\\right) = %s' % (a, b, res1)))\n",
    "display(Math('\\\\frac{\\log( %s)}{\\log(%s)} = %s' % (a, b, res3)))\n",
    "display(Math('\\log( %s) - \\log(%s) = %s' % (a, b, res2)))\n",
    "\n",
    "display(Math('\\log \\\\left( \\\\frac{%s}{%s} \\\\right) = \\log(%s) - \\log(%s)' % (a, b, a, b)))\n",
    "display(Math('\\log\\\\left(\\\\frac{%s}{%s}\\\\right)  \\\\neq \\\\frac{\\log(%s)}{\\log(%s)}' % (a, b, a, b)))"
   ]
  },
  {
   "cell_type": "code",
   "execution_count": 25,
   "metadata": {},
   "outputs": [
    {
     "data": {
      "text/latex": [
       "$\\displaystyle \\log(11^{4}) = 9.591581091193483$"
      ],
      "text/plain": [
       "<IPython.core.display.Math object>"
      ]
     },
     "metadata": {},
     "output_type": "display_data"
    },
    {
     "data": {
      "text/latex": [
       "$\\displaystyle 4 \\times \\log(11) = 9.591581091193483$"
      ],
      "text/plain": [
       "<IPython.core.display.Math object>"
      ]
     },
     "metadata": {},
     "output_type": "display_data"
    }
   ],
   "source": [
    "# Exercise: prove that log(a^b) = b * log(a)\n",
    "\n",
    "a = 11\n",
    "b = 4\n",
    "\n",
    "res1 = np.log(a**b)\n",
    "res2 = b * np.log(a)\n",
    "\n",
    "display(Math('\\\\log(%s^{%s}) = %s' % (a, b, res1)))\n",
    "display(Math('%s \\\\times \\\\log(%s) = %s' % (b, a, res2)))"
   ]
  }
 ],
 "metadata": {
  "kernelspec": {
   "display_name": "env",
   "language": "python",
   "name": "python3"
  },
  "language_info": {
   "codemirror_mode": {
    "name": "ipython",
    "version": 3
   },
   "file_extension": ".py",
   "mimetype": "text/x-python",
   "name": "python",
   "nbconvert_exporter": "python",
   "pygments_lexer": "ipython3",
   "version": "3.11.1"
  },
  "orig_nbformat": 4,
  "vscode": {
   "interpreter": {
    "hash": "2a651e4ef1d612eb4226e3395ce5a6e47bf1a7ebb25c7e937bccdf31253ebbad"
   }
  }
 },
 "nbformat": 4,
 "nbformat_minor": 2
}
