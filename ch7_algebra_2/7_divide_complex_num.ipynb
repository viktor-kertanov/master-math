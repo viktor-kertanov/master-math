{
 "cells": [
  {
   "cell_type": "code",
   "execution_count": 5,
   "metadata": {},
   "outputs": [],
   "source": [
    "import numpy as np\n",
    "import sympy as sym\n",
    "from IPython.display import display, Math"
   ]
  },
  {
   "cell_type": "code",
   "execution_count": 6,
   "metadata": {},
   "outputs": [
    {
     "data": {
      "text/latex": [
       "$\\displaystyle \\frac{(4+2j)}{2} = (2+1j)$"
      ],
      "text/plain": [
       "<IPython.core.display.Math object>"
      ]
     },
     "metadata": {},
     "output_type": "display_data"
    }
   ],
   "source": [
    "z =  complex(4,2)\n",
    "\n",
    "display(Math('\\\\frac{%s}{2} = %s' % (z, z/2)))"
   ]
  },
  {
   "cell_type": "code",
   "execution_count": 15,
   "metadata": {},
   "outputs": [
    {
     "data": {
      "text/latex": [
       "$\\displaystyle \\frac{(4+2j)}{(2-3j)} = \\frac{(4+2j) \\times (2+3j)}{(2-3j) \\times (2+3j)} = (0.15384615384615383+1.2307692307692308j)$"
      ],
      "text/plain": [
       "<IPython.core.display.Math object>"
      ]
     },
     "metadata": {},
     "output_type": "display_data"
    }
   ],
   "source": [
    "z1, z2 = sym.symbols('z1, z2')\n",
    "z1 = complex(4, 2)\n",
    "z2 = complex(2, -3)\n",
    "z2_conj = sym.conjugate(z2)\n",
    "display(Math(\n",
    "    '\\\\frac{%s}{%s} = \\\\frac{%s \\\\times %s}{%s \\\\times %s} = %s'\n",
    "    % (\n",
    "        z1,\n",
    "        z2,\n",
    "        z1,\n",
    "        np.conj(z2),\n",
    "        z2,\n",
    "        np.conj(z2),\n",
    "        z1/z2)))"
   ]
  },
  {
   "cell_type": "code",
   "execution_count": 17,
   "metadata": {},
   "outputs": [],
   "source": [
    "#exercise\n",
    "\n",
    "z, w = sym.symbols('z, w', complex=True)"
   ]
  },
  {
   "cell_type": "code",
   "execution_count": 20,
   "metadata": {},
   "outputs": [
    {
     "data": {
      "text/latex": [
       "$\\displaystyle \\frac{\\left(z - 1\\right) \\left(w z + w\\right)}{w z - w}$"
      ],
      "text/plain": [
       "<IPython.core.display.Math object>"
      ]
     },
     "metadata": {},
     "output_type": "display_data"
    },
    {
     "data": {
      "text/latex": [
       "$\\displaystyle \\frac{\\left(1 - w\\right) \\left(w - 1\\right)}{- w^{2} z - w^{2} + 2 w z + 2 w - z - 1}$"
      ],
      "text/plain": [
       "<IPython.core.display.Math object>"
      ]
     },
     "metadata": {},
     "output_type": "display_data"
    }
   ],
   "source": [
    "expr_1 = ((z - 1) * (z*w + w)) / (w*z - w)\n",
    "expr_2 = ((w-1) * (1-w)) / (-z*w**2 - w**2 + 2*w*z + 2*w - z -1)\n",
    "display(Math(sym.latex(expr_1)))\n",
    "display(Math(sym.latex(expr_2)))"
   ]
  },
  {
   "cell_type": "code",
   "execution_count": 25,
   "metadata": {},
   "outputs": [
    {
     "data": {
      "text/latex": [
       "$\\displaystyle \\frac{\\left(1 - w\\right) \\left(w - 1\\right) \\left(z - 1\\right) \\left(w z + w\\right)}{\\left(w z - w\\right) \\left(- w^{2} z - w^{2} + 2 w z + 2 w - z - 1\\right)}$"
      ],
      "text/plain": [
       "<IPython.core.display.Math object>"
      ]
     },
     "metadata": {},
     "output_type": "display_data"
    },
    {
     "data": {
      "text/latex": [
       "$\\displaystyle 1.0$"
      ],
      "text/plain": [
       "<IPython.core.display.Math object>"
      ]
     },
     "metadata": {},
     "output_type": "display_data"
    },
    {
     "data": {
      "text/latex": [
       "$\\displaystyle 1$"
      ],
      "text/plain": [
       "<IPython.core.display.Math object>"
      ]
     },
     "metadata": {},
     "output_type": "display_data"
    }
   ],
   "source": [
    "expr = expr_1 * expr_2\n",
    "\n",
    "display(Math(sym.latex(expr)))\n",
    "display(Math(sym.latex(sym.simplify(expr.subs({z: complex(4, 2), w: complex(3, 5)})))))\n",
    "display(Math(sym.latex(sym.simplify(expr))))"
   ]
  }
 ],
 "metadata": {
  "kernelspec": {
   "display_name": "env",
   "language": "python",
   "name": "python3"
  },
  "language_info": {
   "codemirror_mode": {
    "name": "ipython",
    "version": 3
   },
   "file_extension": ".py",
   "mimetype": "text/x-python",
   "name": "python",
   "nbconvert_exporter": "python",
   "pygments_lexer": "ipython3",
   "version": "3.11.1 (v3.11.1:a7a450f84a, Dec  6 2022, 15:24:06) [Clang 13.0.0 (clang-1300.0.29.30)]"
  },
  "orig_nbformat": 4,
  "vscode": {
   "interpreter": {
    "hash": "2a651e4ef1d612eb4226e3395ce5a6e47bf1a7ebb25c7e937bccdf31253ebbad"
   }
  }
 },
 "nbformat": 4,
 "nbformat_minor": 2
}
