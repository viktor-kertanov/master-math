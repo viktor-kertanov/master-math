{
 "cells": [
  {
   "cell_type": "code",
   "execution_count": 6,
   "metadata": {},
   "outputs": [],
   "source": [
    "import numpy as np\n",
    "from IPython.display import Math, display\n",
    "import matplotlib.pyplot as plt\n",
    "import sympy as sym"
   ]
  },
  {
   "attachments": {},
   "cell_type": "markdown",
   "metadata": {},
   "source": [
    "Sequence is just an ordered list of numbers and there are tons of different sequences in math. \n",
    "Here are 2 examples.\n",
    "Arithmetic and geometric sequences:\n",
    "\n",
    "1) $a_{n} = a_{0} + d(n-1)$\n",
    "2) $g_{n} = g_{0} \\times r^{n-1}$"
   ]
  },
  {
   "cell_type": "code",
   "execution_count": 26,
   "metadata": {},
   "outputs": [
    {
     "data": {
      "text/plain": [
       "array([ 2,  5,  8, 11, 14, 17, 20, 23])"
      ]
     },
     "execution_count": 26,
     "metadata": {},
     "output_type": "execute_result"
    }
   ],
   "source": [
    "a = 2\n",
    "d = 3\n",
    "\n",
    "largest_n = 8\n",
    "\n",
    "artithm_seq = a + d * np.arange(largest_n)\n",
    "\n",
    "artithm_seq"
   ]
  },
  {
   "cell_type": "code",
   "execution_count": 27,
   "metadata": {},
   "outputs": [
    {
     "data": {
      "text/latex": [
       "$\\displaystyle \\left[\\begin{matrix}2 & 6 & 18 & 54 & 162 & 486 & 1458 & 4374\\end{matrix}\\right]$"
      ],
      "text/plain": [
       "<IPython.core.display.Math object>"
      ]
     },
     "metadata": {},
     "output_type": "display_data"
    }
   ],
   "source": [
    "# Geometric sequence\n",
    "a = 2\n",
    "r = 3\n",
    "\n",
    "largest_n = 8\n",
    "\n",
    "geom_seq = a * r**np.arange(largest_n)\n",
    "\n",
    "display(Math(sym.latex(sym.sympify(geom_seq))))"
   ]
  },
  {
   "cell_type": "code",
   "execution_count": 28,
   "metadata": {},
   "outputs": [
    {
     "data": {
      "image/png": "[encoded data removed]",
      "text/plain": [
       "<Figure size 640x480 with 1 Axes>"
      ]
     },
     "metadata": {},
     "output_type": "display_data"
    }
   ],
   "source": [
    "plt.plot(artithm_seq, 'ks', label='arithmetic seq')\n",
    "plt.plot(geom_seq, 'ro', label='geometric seq')\n",
    "\n",
    "plt.legend()\n",
    "plt.show()"
   ]
  },
  {
   "cell_type": "code",
   "execution_count": 29,
   "metadata": {},
   "outputs": [],
   "source": [
    "def get_nth_arithm(a_0, d, n):\n",
    "    return a_0 + d*(n-1)\n",
    "\n",
    "def get_nth_geom(g_0, r, n):\n",
    "    return g_0*r**(n-1)"
   ]
  },
  {
   "cell_type": "code",
   "execution_count": 35,
   "metadata": {},
   "outputs": [
    {
     "name": "stdout",
     "output_type": "stream",
     "text": [
      "Arithmetic seq:: By formula: 23. By index: 23\n",
      "Geometric seq:: By formula: 4374. By index: 4374\n"
     ]
    }
   ],
   "source": [
    "n = 8\n",
    "seventh_a = get_nth_arithm(2, 3, n)\n",
    "seventh_a_idx = artithm_seq[n-1]\n",
    "\n",
    "print(f'Arithmetic seq:: By formula: {seventh_a}. By index: {seventh_a_idx}')\n",
    "\n",
    "seventh_g = get_nth_geom(2, 3, n)\n",
    "seventh_g_idx = geom_seq[n-1]\n",
    "\n",
    "print(f'Geometric seq:: By formula: {seventh_g}. By index: {seventh_g_idx}')"
   ]
  }
 ],
 "metadata": {
  "kernelspec": {
   "display_name": "env",
   "language": "python",
   "name": "python3"
  },
  "language_info": {
   "codemirror_mode": {
    "name": "ipython",
    "version": 3
   },
   "file_extension": ".py",
   "mimetype": "text/x-python",
   "name": "python",
   "nbconvert_exporter": "python",
   "pygments_lexer": "ipython3",
   "version": "3.11.1 (v3.11.1:a7a450f84a, Dec  6 2022, 15:24:06) [Clang 13.0.0 (clang-1300.0.29.30)]"
  },
  "orig_nbformat": 4,
  "vscode": {
   "interpreter": {
    "hash": "2a651e4ef1d612eb4226e3395ce5a6e47bf1a7ebb25c7e937bccdf31253ebbad"
   }
  }
 },
 "nbformat": 4,
 "nbformat_minor": 2
}
