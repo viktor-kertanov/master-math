{
 "cells": [
  {
   "cell_type": "code",
   "execution_count": 31,
   "metadata": {},
   "outputs": [],
   "source": [
    "from IPython.display import Math, display"
   ]
  },
  {
   "attachments": {},
   "cell_type": "markdown",
   "metadata": {},
   "source": [
    "# Orders of magnitude and scientific notation"
   ]
  },
  {
   "attachments": {},
   "cell_type": "markdown",
   "metadata": {},
   "source": [
    "Orders of magnitued is just the closest to our number power of 10:\n",
    "\n",
    "1. $10^{-2}=0.01$\n",
    "2. $10^{-1} = 0.1$\n",
    "2. $10^0 = 0$\n",
    "3. $10^1 = 10$\n",
    "4. $10^2 = 100$\n",
    "5. $10^3 = 1000$\n",
    "6. $10^4 = 10000$"
   ]
  },
  {
   "attachments": {},
   "cell_type": "markdown",
   "metadata": {},
   "source": [
    "- **10239**: \"**4** orders of magnitude\" :: $1 \\times 10^4$ :: 1e+04\n",
    "- **0.3**: \"**-1** orders of magnitude\" :: $3 \\times 10^{-1}$ :: 3e-01\n",
    "- **2119**: \"**3** orders of magnitude\" :: $2 \\times 10^3$ :: 2e+03\n",
    "- **0.034**: \"**-2** orders of magnitude\" :: $3 \\times 10^{-2}$ :: 3e-02"
   ]
  },
  {
   "attachments": {},
   "cell_type": "markdown",
   "metadata": {},
   "source": [
    "So how we format in scientific/computer notation in Python:"
   ]
  },
  {
   "cell_type": "code",
   "execution_count": 16,
   "metadata": {},
   "outputs": [
    {
     "name": "stdout",
     "output_type": "stream",
     "text": [
      "3.987988e+09\n",
      "3,987,987,987\n",
      "3.987988e+09\n",
      "3.99e+09\n"
     ]
    }
   ],
   "source": [
    "x = 3987987987\n",
    "\n",
    "# Different ways to print out numbers in a more comfortable format\n",
    "print('{:,e}'.format(x)) #3.9*10^9\n",
    "print('{:,d}'.format(x))\n",
    "print('%e' % x )\n",
    "print('%.2e' % x) #precision change, formatted string"
   ]
  },
  {
   "cell_type": "code",
   "execution_count": 61,
   "metadata": {},
   "outputs": [],
   "source": [
    "def order_of_m(number: int) -> str:\n",
    "    num_str = '%.1e' % number\n",
    "    orders_of_magnitude_str = num_str.split('e')\n",
    "    sign = (lambda x: '' if x == '+' else x)(orders_of_magnitude_str[1][0])\n",
    "    magnitude = f\"{sign}{orders_of_magnitude_str[1][1:].replace('0', '')}\"\n",
    "    rough_num = orders_of_magnitude_str[0]\n",
    "    display(Math('%s \\\\text{ is } %s \\\\text{ orders of magnitude, } \\\\approx %s \\\\times 10^{%s}' % (number, magnitude, rough_num, magnitude)))"
   ]
  },
  {
   "cell_type": "code",
   "execution_count": 63,
   "metadata": {},
   "outputs": [
    {
     "data": {
      "text/latex": [
       "$\\displaystyle 2342 \\text{ is } 3 \\text{ orders of magnitude, } \\approx 2.3 \\times 10^{3}$"
      ],
      "text/plain": [
       "<IPython.core.display.Math object>"
      ]
     },
     "metadata": {},
     "output_type": "display_data"
    }
   ],
   "source": [
    "order_of_m(2342)"
   ]
  }
 ],
 "metadata": {
  "kernelspec": {
   "display_name": "env",
   "language": "python",
   "name": "python3"
  },
  "language_info": {
   "codemirror_mode": {
    "name": "ipython",
    "version": 3
   },
   "file_extension": ".py",
   "mimetype": "text/x-python",
   "name": "python",
   "nbconvert_exporter": "python",
   "pygments_lexer": "ipython3",
   "version": "3.11.1 (v3.11.1:a7a450f84a, Dec  6 2022, 15:24:06) [Clang 13.0.0 (clang-1300.0.29.30)]"
  },
  "orig_nbformat": 4,
  "vscode": {
   "interpreter": {
    "hash": "2a651e4ef1d612eb4226e3395ce5a6e47bf1a7ebb25c7e937bccdf31253ebbad"
   }
  }
 },
 "nbformat": 4,
 "nbformat_minor": 2
}
