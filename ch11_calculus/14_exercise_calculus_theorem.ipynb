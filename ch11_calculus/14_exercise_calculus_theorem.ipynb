{
 "cells": [
  {
   "cell_type": "code",
   "execution_count": 1,
   "metadata": {},
   "outputs": [],
   "source": [
    "import sympy as sym\n",
    "from IPython.display import display, Math "
   ]
  },
  {
   "attachments": {},
   "cell_type": "markdown",
   "metadata": {},
   "source": [
    "### The Exercise: The fundamental theorem of calculus\n",
    "\n",
    "We need to prove that: <br>\n",
    "\n",
    "$$\\int f(x)'dx = fx $$"
   ]
  },
  {
   "attachments": {},
   "cell_type": "markdown",
   "metadata": {},
   "source": [
    "The function that we'll use: <br>\n",
    "\n",
    "$$ f(x) = 2x^3 + sin(x) $$\n",
    "\n",
    "\n"
   ]
  },
  {
   "cell_type": "code",
   "execution_count": 9,
   "metadata": {},
   "outputs": [
    {
     "data": {
      "text/latex": [
       "$\\displaystyle f(x): 2 x^{3} + \\sin{\\left(x \\right)} \\newline f(x)' = 6 x^{2} + \\cos{\\left(x \\right)}\\newline \\int f(x)'dx =2 x^{3} + \\sin{\\left(x \\right)}$"
      ],
      "text/plain": [
       "<IPython.core.display.Math object>"
      ]
     },
     "metadata": {},
     "output_type": "display_data"
    }
   ],
   "source": [
    "x = sym.symbols('x')\n",
    "fx = 2*x**3 + sym.sin(x)\n",
    "diff_fx = sym.diff(fx)\n",
    "integral_fx = sym.integrate(diff_fx)\n",
    "\n",
    "display(Math('f(x): %s \\\\newline f(x)\\' = %s\\\\newline \\\\int f(x)\\'dx =%s' % (sym.latex(fx), sym.latex(diff_fx), sym.latex(integral_fx))))\n"
   ]
  }
 ],
 "metadata": {
  "kernelspec": {
   "display_name": "env",
   "language": "python",
   "name": "python3"
  },
  "language_info": {
   "codemirror_mode": {
    "name": "ipython",
    "version": 3
   },
   "file_extension": ".py",
   "mimetype": "text/x-python",
   "name": "python",
   "nbconvert_exporter": "python",
   "pygments_lexer": "ipython3",
   "version": "3.11.1"
  },
  "orig_nbformat": 4,
  "vscode": {
   "interpreter": {
    "hash": "2a651e4ef1d612eb4226e3395ce5a6e47bf1a7ebb25c7e937bccdf31253ebbad"
   }
  }
 },
 "nbformat": 4,
 "nbformat_minor": 2
}
