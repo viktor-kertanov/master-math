{
 "cells": [
  {
   "attachments": {},
   "cell_type": "markdown",
   "metadata": {},
   "source": [
    "### **Computing the area between two function**\n",
    "\n",
    "The area between two functions is given by the formula $A = \\int_{a}^{b}f(x)-g(x)dx\\newline$ <br>\n",
    "In our example, $f(x) = x^2$ and $g(x) = x \\newline$ <br>\n",
    "Therefore, $A = \\int_{a}^{b}(x^2-x)dx \\newline$ <br>\n",
    "We will compute the area between two crossing points, that is, where the two functions are equal. This is given by the two solutions to the equation: \n",
    "\n",
    "<br>\n",
    "\n",
    "$$ x^2 = x $$ \n",
    "\n",
    "<br>\n",
    "\n",
    "The two solutions are __x=0__ and __x=1__. This gives us the definite integral of \n",
    "\n",
    "<br>\n",
    "\n",
    "$$ A = \\int_{0}^{1} (x^2-x)dx $$\n",
    "\n",
    "<br>\n",
    "The final answer will be given in the code below.\n"
   ]
  },
  {
   "cell_type": "code",
   "execution_count": 1,
   "metadata": {},
   "outputs": [],
   "source": [
    "import sympy as sym\n",
    "import numpy as np\n",
    "import matplotlib.pyplot as plt\n",
    "from IPython.display import display, Math\n"
   ]
  },
  {
   "cell_type": "code",
   "execution_count": 12,
   "metadata": {},
   "outputs": [
    {
     "data": {
      "text/latex": [
       "$\\displaystyle \\text{The solutions to the equation } x^{2} - x \\text{= 0 are: } [0, 1]$"
      ],
      "text/plain": [
       "<IPython.core.display.Math object>"
      ]
     },
     "metadata": {},
     "output_type": "display_data"
    }
   ],
   "source": [
    "x = sym.symbols('x')\n",
    "\n",
    "f_sym = x**2\n",
    "g_sym = x\n",
    "\n",
    "solutions = sym.solve(f_sym - g_sym, x)\n",
    "\n",
    "display(Math('\\\\text{The solutions to the equation } %s - %s \\\\text{= 0 are: } %s' % (sym.latex(f_sym), sym.latex(g_sym), solutions)))"
   ]
  },
  {
   "cell_type": "code",
   "execution_count": 17,
   "metadata": {},
   "outputs": [],
   "source": [
    "A = sym.integrate(f_sym-g_sym, (x, solutions[0], solutions[1]))"
   ]
  },
  {
   "cell_type": "code",
   "execution_count": 21,
   "metadata": {},
   "outputs": [
    {
     "data": {
      "text/latex": [
       "$\\displaystyle \\text{The area between two functions is equal to: } - \\frac{1}{6}$"
      ],
      "text/plain": [
       "<IPython.core.display.Math object>"
      ]
     },
     "metadata": {},
     "output_type": "display_data"
    }
   ],
   "source": [
    "display(Math('\\\\text{The area between two functions is equal to: } %s' % sym.latex(A)))"
   ]
  },
  {
   "cell_type": "code",
   "execution_count": null,
   "metadata": {},
   "outputs": [],
   "source": []
  }
 ],
 "metadata": {
  "kernelspec": {
   "display_name": "env",
   "language": "python",
   "name": "python3"
  },
  "language_info": {
   "codemirror_mode": {
    "name": "ipython",
    "version": 3
   },
   "file_extension": ".py",
   "mimetype": "text/x-python",
   "name": "python",
   "nbconvert_exporter": "python",
   "pygments_lexer": "ipython3",
   "version": "3.11.1"
  },
  "orig_nbformat": 4,
  "vscode": {
   "interpreter": {
    "hash": "2a651e4ef1d612eb4226e3395ce5a6e47bf1a7ebb25c7e937bccdf31253ebbad"
   }
  }
 },
 "nbformat": 4,
 "nbformat_minor": 2
}
