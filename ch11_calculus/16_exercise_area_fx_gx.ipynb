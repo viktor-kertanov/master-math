{
 "cells": [
  {
   "attachments": {},
   "cell_type": "markdown",
   "metadata": {},
   "source": [
    "### **Computing the area between two function**\n",
    "\n",
    "The area between two functions is given by the formula $A = \\int_{a}^{b}f(x)-g(x)dx\\newline$ <br>\n",
    "In our example, $f(x) = x^2$ and $g(x) = x \\newline$ <br>\n",
    "Therefore, $A = \\int_{a}^{b}(x^2-x)dx \\newline$ <br>\n",
    "We will compute the area between two crossing points, that is, where the two functions are equal. This is given by the two solutions to the equation: <br>\n",
    "$$ x^2 = x $$ \n",
    "<br>\n",
    "The two solutions are $x=0$ and $x=1$. This gives us the definite integral of <br>\n",
    "\n",
    "$$ A = \\int_{0}^{1} (x^2-x)dx $$\n",
    "\n",
    "<br>\n",
    "The final answer will be given in the code below.\n"
   ]
  },
  {
   "attachments": {},
   "cell_type": "markdown",
   "metadata": {},
   "source": [
    "\n"
   ]
  }
 ],
 "metadata": {
  "language_info": {
   "name": "python"
  },
  "orig_nbformat": 4
 },
 "nbformat": 4,
 "nbformat_minor": 2
}
