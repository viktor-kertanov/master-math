{
 "cells": [
  {
   "cell_type": "code",
   "execution_count": 1,
   "metadata": {},
   "outputs": [],
   "source": [
    "import numpy as np\n",
    "import matplotlib.pyplot as plt"
   ]
  },
  {
   "cell_type": "code",
   "execution_count": 31,
   "metadata": {},
   "outputs": [
    {
     "name": "stdout",
     "output_type": "stream",
     "text": [
      "5.0\n"
     ]
    },
    {
     "data": {
      "image/png": "[encoded data removed]",
      "text/plain": [
       "<Figure size 640x480 with 1 Axes>"
      ]
     },
     "metadata": {},
     "output_type": "display_data"
    }
   ],
   "source": [
    "a = 3\n",
    "b = 4\n",
    "c = np.sqrt(a**2 + b**2)\n",
    "print(c)\n",
    "\n",
    "# draw the triangle from (0,0) point\n",
    "\n",
    "plt.plot([0, a], [0, 0], 'k')\n",
    "plt.plot([0, 0], [0, b], 'k')\n",
    "plt.plot([a, 0], [0, b], 'r')\n",
    "\n",
    "plt.plot([.3, .3], [0, .3], 'k', linewidth=0.5)\n",
    "plt.plot([.3, 0], [.3, .3], 'k', linewidth=0.5)\n",
    "\n",
    "#now we can create some text with the line lens: plt.text(x, y, string)\n",
    "text_margin = .3\n",
    "plt.text(a/3, -text_margin, f'a={a}', fontsize=13)\n",
    "plt.text(-.6, b/2, f'b={b}', fontsize=13)\n",
    "plt.text(a/2+.2, b/2+.2, f'c={c}', fontsize=13)\n",
    "\n",
    "plt.axis('square')\n",
    "margins = .5\n",
    "axlim = np.max([a, b]) + margins\n",
    "plt.axis([-margins, axlim, -margins, axlim])\n",
    "plt.axis('off')\n",
    "plt.gca().set_aspect('equal')\n",
    "plt.show()"
   ]
  },
  {
   "cell_type": "code",
   "execution_count": 47,
   "metadata": {},
   "outputs": [
    {
     "name": "stdout",
     "output_type": "stream",
     "text": [
      "Magnitude of z: 5.0\n",
      "Tangent of k-angle of z: 1.3333333333333333\n",
      "K angle in RAD: 0.9272952180016122. 0.9272952180016122. 0.9272952180016122\n",
      "K angle in DEG: 53.13010235415598\n"
     ]
    }
   ],
   "source": [
    "# Exercise: find the magnitude/absolute value of a complex number z = a + ib and the tangent of an angle k.\n",
    "real_part = 3\n",
    "imag_part = 4\n",
    "\n",
    "z = complex(real_part, imag_part)\n",
    "\n",
    "#magnitude of z\n",
    "z_magnitude = abs(z) #or\n",
    "z_magnitude = np.sqrt(z.imag**2 + z.real**2)\n",
    "\n",
    "print(f\"Magnitude of z: {z_magnitude}\")\n",
    "\n",
    "z_tangent = z.imag / z.real\n",
    "print(f\"Tangent of k-angle of z: {z_tangent}\")\n",
    "\n",
    "angle = np.arctan(z_tangent)\n",
    "angle2 = np.arctan2(z.imag, z.real)\n",
    "angle3 = np.angle(z)\n",
    "print(f\"K angle in RAD: {angle}. {angle2}. {angle3}\")\n",
    "print(f\"K angle in DEG: {np.rad2deg(angle)}\")\n"
   ]
  },
  {
   "cell_type": "code",
   "execution_count": 44,
   "metadata": {},
   "outputs": [
    {
     "name": "stdout",
     "output_type": "stream",
     "text": [
      "30.000000000000004\n"
     ]
    }
   ],
   "source": [
    "#checking for the triangle with a 30 degree angle.\n",
    "c = 8\n",
    "b = 4  \n",
    "a = np.sqrt(c**2 - b**2)\n",
    "\n",
    "z = complex(a, b)\n",
    "\n",
    "z_magnitude = np.sqrt(a**2 + b**2)\n",
    "z_tan = b/a\n",
    "angle = np.arctan(z_tan)\n",
    "\n",
    "print(np.rad2deg(angle))"
   ]
  }
 ],
 "metadata": {
  "kernelspec": {
   "display_name": "env",
   "language": "python",
   "name": "python3"
  },
  "language_info": {
   "codemirror_mode": {
    "name": "ipython",
    "version": 3
   },
   "file_extension": ".py",
   "mimetype": "text/x-python",
   "name": "python",
   "nbconvert_exporter": "python",
   "pygments_lexer": "ipython3",
   "version": "3.11.1 (v3.11.1:a7a450f84a, Dec  6 2022, 15:24:06) [Clang 13.0.0 (clang-1300.0.29.30)]"
  },
  "orig_nbformat": 4,
  "vscode": {
   "interpreter": {
    "hash": "2a651e4ef1d612eb4226e3395ce5a6e47bf1a7ebb25c7e937bccdf31253ebbad"
   }
  }
 },
 "nbformat": 4,
 "nbformat_minor": 2
}
