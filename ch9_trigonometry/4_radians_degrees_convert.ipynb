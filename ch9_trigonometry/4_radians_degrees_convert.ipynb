{
 "cells": [
  {
   "cell_type": "code",
   "execution_count": 1,
   "metadata": {},
   "outputs": [],
   "source": [
    "import numpy as np\n",
    "import matplotlib.pyplot as plt"
   ]
  },
  {
   "attachments": {},
   "cell_type": "markdown",
   "metadata": {},
   "source": [
    "Circle can be both measured in radians and degrees:\n",
    "a circle is $360^{\\circ}$ or $2\\pi$ radians"
   ]
  },
  {
   "cell_type": "code",
   "execution_count": 3,
   "metadata": {},
   "outputs": [
    {
     "name": "stdout",
     "output_type": "stream",
     "text": [
      "Radians in one degree: 0.017453292519943295. Degrees in radian: 57.29577951308232.\n"
     ]
    }
   ],
   "source": [
    "radians_in_one_degree = np.pi/180\n",
    "\n",
    "degrees_in_radian = 180/np.pi\n",
    "\n",
    "print(f'Radians in one degree: {radians_in_one_degree}. Degrees in radian: {degrees_in_radian}.')"
   ]
  },
  {
   "cell_type": "code",
   "execution_count": 29,
   "metadata": {},
   "outputs": [
    {
     "name": "stdout",
     "output_type": "stream",
     "text": [
      "360 degrees is 0.0 radians. Ans by numpy: 6.283185307179586\n"
     ]
    }
   ],
   "source": [
    "degrees = 360\n",
    "\n",
    "radians = degrees * np.pi/180\n",
    "radians_optimised = radians % (2*np.pi)\n",
    "\n",
    "#using built-in func\n",
    "radians_np = np.deg2rad(degrees)\n",
    "\n",
    "print(f'{degrees} degrees is {radians_optimised} radians. Ans by numpy: {radians_np}')"
   ]
  },
  {
   "cell_type": "code",
   "execution_count": 27,
   "metadata": {},
   "outputs": [
    {
     "name": "stdout",
     "output_type": "stream",
     "text": [
      "3.141592653589793 radians is 180.0 degrees. Ans by numpy: 180.0\n"
     ]
    }
   ],
   "source": [
    "radians = np.pi\n",
    "\n",
    "degrees = radians * 180/np.pi\n",
    "degrees_optimised = degrees % 360\n",
    "\n",
    "degrees_np = np.rad2deg(radians)\n",
    "\n",
    "print(f'{radians} radians is {degrees_optimised} degrees. Ans by numpy: {degrees_np}')"
   ]
  }
 ],
 "metadata": {
  "kernelspec": {
   "display_name": "env",
   "language": "python",
   "name": "python3"
  },
  "language_info": {
   "codemirror_mode": {
    "name": "ipython",
    "version": 3
   },
   "file_extension": ".py",
   "mimetype": "text/x-python",
   "name": "python",
   "nbconvert_exporter": "python",
   "pygments_lexer": "ipython3",
   "version": "3.11.1"
  },
  "orig_nbformat": 4,
  "vscode": {
   "interpreter": {
    "hash": "2a651e4ef1d612eb4226e3395ce5a6e47bf1a7ebb25c7e937bccdf31253ebbad"
   }
  }
 },
 "nbformat": 4,
 "nbformat_minor": 2
}
