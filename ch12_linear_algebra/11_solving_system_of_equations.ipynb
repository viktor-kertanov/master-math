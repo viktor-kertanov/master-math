{
 "cells": [
  {
   "attachments": {},
   "cell_type": "markdown",
   "metadata": {},
   "source": [
    "### __Solving a system of equations__\n",
    "\n",
    "A system of equations can look like this:\n",
    "\n",
    "\\begin{equation}\n",
    "    \\begin{cases}\n",
    "      2x + y - z = 1\\\\\n",
    "      3x + 4y + 2z = 13\\\\\n",
    "      x - 5y - 2z = 0\\\\\n",
    "    \\end{cases}\\,.\n",
    "\\end{equation}\n",
    "\n",
    "<br>\n",
    "\n",
    "And we convert this to a matrix multiplication problem. The first matrix is __3x3__, the second is __3x1__, the result is __3x1__ (inner-outer coefficients rule):\n",
    "\n",
    "\\begin{equation}\n",
    "\\begin{bmatrix}\n",
    "2 & 1 & -1\\\\\n",
    "3 & 4 & 2\\\\\n",
    "1 & -5 & -2\\\\\n",
    "\\end{bmatrix}\n",
    "\\begin{bmatrix}\n",
    "\\textbf{x}\\\\\n",
    "\\textbf{y}\\\\\n",
    "\\textbf{z}\\\\\n",
    "\\end{bmatrix}\n",
    "=\n",
    "\\begin{bmatrix}\n",
    "1\\\\\n",
    "13\\\\\n",
    "0\\\\\n",
    "\\end{bmatrix}\n",
    "\\end{equation}"
   ]
  }
 ],
 "metadata": {
  "language_info": {
   "name": "python"
  },
  "orig_nbformat": 4
 },
 "nbformat": 4,
 "nbformat_minor": 2
}
