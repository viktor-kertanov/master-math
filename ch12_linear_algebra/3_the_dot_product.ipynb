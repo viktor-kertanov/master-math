{
 "cells": [
  {
   "attachments": {},
   "cell_type": "markdown",
   "metadata": {},
   "source": [
    "### __The Dot Product__\n",
    "\n",
    "The dot product is the most important operation in all of linear algebra (and therefore also in statistics, machine learning, AI, Fourier transform, deep learning, signal processing, filtering, image analysis etc.)\n",
    "\n",
    "__NB: To calculate the dot product vectors must be of the same size__\n",
    "\n",
    "The dot product notation:\n",
    "\n",
    "$$ \\alpha = a \\cdot b = \\langle a, b \\rangle = a^Tb = \\sum_{i=1}^{n} a_i b_i $$ \n",
    "\n",
    "<br>\n",
    "\n",
    "__T__ means transpose operation of a vector.\n",
    "\n",
    "__NB__: dotproduct is always a scalar, it is always a number.\n",
    "\n"
   ]
  },
  {
   "cell_type": "code",
   "execution_count": 1,
   "metadata": {},
   "outputs": [],
   "source": [
    "import numpy as np\n",
    "from IPython.display import display, Math"
   ]
  },
  {
   "cell_type": "code",
   "execution_count": 13,
   "metadata": {},
   "outputs": [
    {
     "name": "stdout",
     "output_type": "stream",
     "text": [
      "v-vector: [10 13 16 19]\n",
      "w-vector: [ 5  8 11 14]\n"
     ]
    }
   ],
   "source": [
    "v = np.arange(10, 22, 3)\n",
    "w = np.arange(5, 15, 3)\n",
    "print(f'v-vector: {v}')\n",
    "print(f'w-vector: {w}')"
   ]
  },
  {
   "attachments": {},
   "cell_type": "markdown",
   "metadata": {},
   "source": [
    "#### __There are several ways to compute the dotproduct__"
   ]
  },
  {
   "attachments": {},
   "cell_type": "markdown",
   "metadata": {},
   "source": [
    "### The first way: direct"
   ]
  },
  {
   "cell_type": "code",
   "execution_count": 18,
   "metadata": {},
   "outputs": [
    {
     "name": "stdout",
     "output_type": "stream",
     "text": [
      "Step 0. v: 10, w: 5. Dot_product: 50\n",
      "Step 1. v: 13, w: 8. Dot_product: 154\n",
      "Step 2. v: 16, w: 11. Dot_product: 330\n",
      "Step 3. v: 19, w: 14. Dot_product: 596\n",
      "---------------\n",
      "Dot product: 596\n"
     ]
    }
   ],
   "source": [
    "dot_product = 0\n",
    "\n",
    "for i in range(len(v)):\n",
    "    dot_product += v[i]*w[i]\n",
    "    print(f'Step {i}. v: {v[i]}, w: {w[i]}. Dot_product: {dot_product}')\n",
    "\n",
    "print('-'*15)\n",
    "print(f'Dot product: {dot_product}')"
   ]
  },
  {
   "attachments": {},
   "cell_type": "markdown",
   "metadata": {},
   "source": [
    "### The second way"
   ]
  },
  {
   "cell_type": "code",
   "execution_count": 17,
   "metadata": {},
   "outputs": [
    {
     "name": "stdout",
     "output_type": "stream",
     "text": [
      "Dot product = 596\n"
     ]
    }
   ],
   "source": [
    "dot_product = np.sum(np.multiply(v, w))\n",
    "\n",
    "print(f'Dot product = {dot_product}')"
   ]
  },
  {
   "attachments": {},
   "cell_type": "markdown",
   "metadata": {},
   "source": [
    "### The third way: np.dot"
   ]
  },
  {
   "cell_type": "code",
   "execution_count": 19,
   "metadata": {},
   "outputs": [
    {
     "name": "stdout",
     "output_type": "stream",
     "text": [
      "Dot product = 596\n"
     ]
    }
   ],
   "source": [
    "dot_product = np.dot(v, w)\n",
    "print(f'Dot product = {dot_product}')"
   ]
  },
  {
   "cell_type": "code",
   "execution_count": 52,
   "metadata": {},
   "outputs": [],
   "source": [
    "# Exercise: writing a function that will calculate the dot product\n",
    "\n",
    "def dot_prod(v1, v2):\n",
    "    \n",
    "    v1 = np.squeeze(v1)\n",
    "    v2 = np.squeeze(v2)\n",
    "\n",
    "    if v1.shape != v2.shape:\n",
    "        raise ValueError(f'The vectors provided have different shape: v1 shape is {v1.shape}; v2 shape is  {v2.shape}.')\n",
    "    dot_product = np.dot(v1, v2)\n",
    "    display(Math('v_1^T v2 = %s' % dot_product))\n",
    "    return dot_product"
   ]
  },
  {
   "cell_type": "code",
   "execution_count": 55,
   "metadata": {},
   "outputs": [
    {
     "data": {
      "text/latex": [
       "$\\displaystyle v_1^T v2 = 596$"
      ],
      "text/plain": [
       "<IPython.core.display.Math object>"
      ]
     },
     "metadata": {},
     "output_type": "display_data"
    }
   ],
   "source": [
    "dp = dot_prod(v, w)"
   ]
  },
  {
   "cell_type": "code",
   "execution_count": 54,
   "metadata": {},
   "outputs": [
    {
     "data": {
      "text/latex": [
       "$\\displaystyle v_1^T v2 = 6$"
      ],
      "text/plain": [
       "<IPython.core.display.Math object>"
      ]
     },
     "metadata": {},
     "output_type": "display_data"
    }
   ],
   "source": [
    "v1 = np.array([2,1])\n",
    "v2 = np.array([1,4])\n",
    "\n",
    "dp = dot_prod(v1, v2)"
   ]
  },
  {
   "cell_type": "code",
   "execution_count": 53,
   "metadata": {},
   "outputs": [
    {
     "data": {
      "text/latex": [
       "$\\displaystyle v_1^T v2 = 1.5377925949885183$"
      ],
      "text/plain": [
       "<IPython.core.display.Math object>"
      ]
     },
     "metadata": {},
     "output_type": "display_data"
    }
   ],
   "source": [
    "v1 = np.random.randn(1, 10)\n",
    "v2 = np.random.randn(1, 10) \n",
    "\n",
    "v1_s = np.squeeze(v1) #unused dimensions are squeezed, i.e. deleted. In our case we have a matrix and not a vector\n",
    "v2_s = np.squeeze(v2)\n",
    "\n",
    "dp = dot_prod(v1_s, v2_s)"
   ]
  }
 ],
 "metadata": {
  "kernelspec": {
   "display_name": "env",
   "language": "python",
   "name": "python3"
  },
  "language_info": {
   "codemirror_mode": {
    "name": "ipython",
    "version": 3
   },
   "file_extension": ".py",
   "mimetype": "text/x-python",
   "name": "python",
   "nbconvert_exporter": "python",
   "pygments_lexer": "ipython3",
   "version": "3.11.1"
  },
  "orig_nbformat": 4,
  "vscode": {
   "interpreter": {
    "hash": "2a651e4ef1d612eb4226e3395ce5a6e47bf1a7ebb25c7e937bccdf31253ebbad"
   }
  }
 },
 "nbformat": 4,
 "nbformat_minor": 2
}
