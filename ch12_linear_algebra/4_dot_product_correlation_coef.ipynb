{
 "cells": [
  {
   "attachments": {},
   "cell_type": "markdown",
   "metadata": {},
   "source": [
    "### __Application of dot product in statistics__"
   ]
  },
  {
   "cell_type": "code",
   "execution_count": 1,
   "metadata": {},
   "outputs": [],
   "source": [
    "import numpy as np\n",
    "import matplotlib.pyplot as plt"
   ]
  },
  {
   "attachments": {},
   "cell_type": "markdown",
   "metadata": {},
   "source": [
    "#### Using the dot product concept we'll try to calculate the Pearson coefficient"
   ]
  },
  {
   "cell_type": "code",
   "execution_count": 5,
   "metadata": {},
   "outputs": [],
   "source": [
    "# data\n",
    "\n",
    "v1_raw = [4, 5, 8, 2, 9, 9, 1, 3, 7]\n",
    "v2_raw = [6, 7, 9, 3, 9, 3, 1, 6, 7]\n",
    "\n",
    "# mean-center the data: center the vectors, i.e. data around its mean\n",
    "\n",
    "v1 = v1_raw - np.mean(v1_raw)\n",
    "v2 = v2_raw - np.mean(v2_raw)"
   ]
  },
  {
   "cell_type": "code",
   "execution_count": 6,
   "metadata": {},
   "outputs": [
    {
     "data": {
      "text/plain": [
       "array([-1.33333333, -0.33333333,  2.66666667, -3.33333333,  3.66666667,\n",
       "        3.66666667, -4.33333333, -2.33333333,  1.66666667])"
      ]
     },
     "execution_count": 6,
     "metadata": {},
     "output_type": "execute_result"
    }
   ],
   "source": [
    "v1"
   ]
  },
  {
   "cell_type": "code",
   "execution_count": 16,
   "metadata": {},
   "outputs": [
    {
     "name": "stdout",
     "output_type": "stream",
     "text": [
      "Corellation coef with dot product: 0.6053020602414296. Numpy result: 0.6053020602414297\n"
     ]
    }
   ],
   "source": [
    "# now computing the correlation\n",
    "\n",
    "r_xy = np.dot(v1, v2) / (np.sqrt(np.dot(v1, v1)) * np.sqrt(np.dot(v2, v2)))\n",
    "\n",
    "r_xy_np = np.corrcoef(v1_raw, v2_raw) # correlation matrix. Ones on diagonal show the correlation with the vector itself (=1)\n",
    "\n",
    "print(f'Corellation coef with dot product: {r_xy}. Numpy result: {r_xy_np[1][0] }')"
   ]
  },
  {
   "cell_type": "code",
   "execution_count": 27,
   "metadata": {},
   "outputs": [
    {
     "data": {
      "image/png": "[encoded data removed]",
      "text/plain": [
       "<Figure size 640x480 with 1 Axes>"
      ]
     },
     "metadata": {},
     "output_type": "display_data"
    }
   ],
   "source": [
    "plt.plot(v1_raw, v2_raw, 'ms', label='r=%g' % np.round(r_xy, 2))\n",
    "\n",
    "plt.legend(loc='upper left')\n",
    "plt.axis([0, 10, 0, 10])\n",
    "plt.gca().set_aspect = 'equal'\n",
    "plt.xlabel('v1')\n",
    "plt.ylabel('v2')\n",
    "plt.title('Correlation coefficient between 2 vectors')\n",
    "plt.show()"
   ]
  },
  {
   "cell_type": "code",
   "execution_count": null,
   "metadata": {},
   "outputs": [],
   "source": []
  }
 ],
 "metadata": {
  "kernelspec": {
   "display_name": "env",
   "language": "python",
   "name": "python3"
  },
  "language_info": {
   "codemirror_mode": {
    "name": "ipython",
    "version": 3
   },
   "file_extension": ".py",
   "mimetype": "text/x-python",
   "name": "python",
   "nbconvert_exporter": "python",
   "pygments_lexer": "ipython3",
   "version": "3.11.1 (v3.11.1:a7a450f84a, Dec  6 2022, 15:24:06) [Clang 13.0.0 (clang-1300.0.29.30)]"
  },
  "orig_nbformat": 4,
  "vscode": {
   "interpreter": {
    "hash": "2a651e4ef1d612eb4226e3395ce5a6e47bf1a7ebb25c7e937bccdf31253ebbad"
   }
  }
 },
 "nbformat": 4,
 "nbformat_minor": 2
}
