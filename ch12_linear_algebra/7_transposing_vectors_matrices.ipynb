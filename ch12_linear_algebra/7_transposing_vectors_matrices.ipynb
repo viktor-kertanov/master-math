{
 "cells": [
  {
   "attachments": {},
   "cell_type": "markdown",
   "metadata": {},
   "source": [
    "### __Transposing vectors and matrices__"
   ]
  },
  {
   "attachments": {},
   "cell_type": "markdown",
   "metadata": {},
   "source": [
    "Transposing operation gives us an ability to create a __square-symmetric matrix__ (perhaps the most important matrix type in all of the applied linear algebra).\n",
    "\n",
    "Transposing a vector looks like this:\n",
    "\n",
    "\\begin{equation}\n",
    "\\begin{bmatrix}\n",
    "1 \\\\\n",
    "0 \\\\\n",
    "2 \\\\\n",
    "5 \\\\\n",
    "-3 \\\\\n",
    "\\end{bmatrix}^T\n",
    "=\n",
    "\\begin{bmatrix}\n",
    "1 & 0 & 2 & 5 & -3\n",
    "\\end{bmatrix}\n",
    "\\end{equation}\n",
    "\n",
    "<br>\n",
    "\n",
    "It is clear that:\n",
    "\n",
    "<newline>\n",
    "\n",
    "$$v^{TT}=v$$\n",
    "\n",
    "<br>\n",
    "\n",
    "For matrices it is the same: the first column becomes the first row, the first row becomes the first column. The second column becomes the second row:\n",
    "\n",
    "\\begin{equation}\n",
    "\\begin{bmatrix}\n",
    "1 & 4\\\\\n",
    "0 & 3\\\\\n",
    "2 & 5\\\\\n",
    "5 & 8\\\\\n",
    "-3 & 0\\\\\n",
    "\\end{bmatrix}^T\n",
    "=\n",
    "\\begin{bmatrix}\n",
    "1 & 0 & 2 & 5 & -3 \\\\\n",
    "4 & 3 & 5 & 8 & 0 \\\\\n",
    "\\end{bmatrix}\n",
    "\\end{equation}\n",
    "\n",
    "<newline>\n",
    "The same for matrices:\n",
    "\n",
    "$$A^{TT}=A$$\n",
    "\n",
    "<br>"
   ]
  },
  {
   "cell_type": "code",
   "execution_count": 18,
   "metadata": {},
   "outputs": [],
   "source": [
    "import numpy as np\n",
    "import matplotlib.pyplot as plt\n",
    "import sympy as sym\n",
    "from IPython.display import display, Math"
   ]
  },
  {
   "cell_type": "code",
   "execution_count": 6,
   "metadata": {},
   "outputs": [
    {
     "name": "stdout",
     "output_type": "stream",
     "text": [
      "(1, 10)\n",
      "(10, 1)\n",
      "(10, 1)\n"
     ]
    }
   ],
   "source": [
    "v = np.random.randn(1,10)\n",
    "\n",
    "v_trans_1 = np.transpose(v) # the first method\n",
    "v_trans_2 = v.T # the second method\n",
    "\n",
    "print(v.shape)\n",
    "print(v_trans_1.shape)\n",
    "print(v_trans_2.shape)\n"
   ]
  },
  {
   "cell_type": "code",
   "execution_count": 7,
   "metadata": {},
   "outputs": [
    {
     "name": "stdout",
     "output_type": "stream",
     "text": [
      "(8, 4)\n",
      "(4, 8)\n"
     ]
    }
   ],
   "source": [
    "v2 = np.random.randn(8, 4)\n",
    "v2_t = v2.T\n",
    "\n",
    "print(v2.shape)\n",
    "print(v2_t.shape)"
   ]
  },
  {
   "cell_type": "code",
   "execution_count": 14,
   "metadata": {},
   "outputs": [
    {
     "data": {
      "image/png": "[encoded data removed]",
      "text/plain": [
       "<Figure size 640x480 with 2 Axes>"
      ]
     },
     "metadata": {},
     "output_type": "display_data"
    }
   ],
   "source": [
    "fig, ax = plt.subplots(1, 2)\n",
    "\n",
    "ax[0].imshow(v2)\n",
    "ax[0].set_title('v2')\n",
    "\n",
    "ax[1].imshow(v2_t)\n",
    "ax[1].set_title('$v2^T$')\n",
    "\n",
    "for i in ax:\n",
    "    i.set_xticks([])\n",
    "    i.set_yticks([])\n",
    "\n",
    "plt.show()"
   ]
  },
  {
   "attachments": {},
   "cell_type": "markdown",
   "metadata": {},
   "source": [
    "### __Symmetric matrices__\n",
    "\n",
    "If <bold>$A=A^T$</bold> then the matrix is symmetric.\n",
    "Visually we can imagine that we fold the matrix along the major diagonal (top left-to-bottom right) and we have the mirrored values.\n",
    "\n",
    "Here's the example:\n",
    "\n",
    "\\begin{bmatrix}\n",
    "\\textbf{1} & 5 & -2 \\\\\n",
    "5 & \\textbf{0} & 10 \\\\\n",
    "-2 & 10 & \\textbf{3} \\\\\n",
    "\n",
    "\\end{bmatrix}"
   ]
  },
  {
   "attachments": {},
   "cell_type": "markdown",
   "metadata": {},
   "source": [
    "#### __Exercise__\n",
    "\n",
    "Show that a matrix multiplied by its transformed version is sqaure and symmetric.\n",
    "\n",
    "Some thoughts:\n",
    "Initial matrix __A__ with size __(m,k)__. $A^T$ is __(k, m)__. The output of the multiplication is of size: m x m (outer size). \n",
    "\n",
    "The symmetric \"effect\" is obtained like this: on the main diagonal we are having a vector squared (multiplied by itself but in a transposed version). And on then we have a*b or b*a version of vector multiplication which gives the symmetric effect. One is located r,c; the other c, r.\n",
    "\n",
    "\\begin{equation}\n",
    "\\begin{bmatrix}\n",
    "1 & 0 & 2 & 5 & -3 \\\\\n",
    "4 & 3 & 5 & 8 & 0 \\\\\n",
    "\\end{bmatrix}\n",
    "\\times\n",
    "\\begin{bmatrix}\n",
    "1 & 4\\\\\n",
    "0 & 3\\\\\n",
    "2 & 5\\\\\n",
    "5 & 8\\\\\n",
    "-3 & 0\\\\\n",
    "\\end{bmatrix}\n",
    "\n",
    "\n",
    "\\end{equation}\n"
   ]
  },
  {
   "cell_type": "code",
   "execution_count": 20,
   "metadata": {},
   "outputs": [
    {
     "data": {
      "text/latex": [
       "$\\displaystyle \\left[\\begin{matrix}0.0 & 0.0 & 0.0 & 0.0 & 0.0 & 0.0 & 0.0 & 0.0 & 0.0 & 0.0\\\\0.0 & 0.0 & 0.0 & 0.0 & 0.0 & 0.0 & 0.0 & 0.0 & 0.0 & 0.0\\\\0.0 & 0.0 & 0.0 & 0.0 & 0.0 & 0.0 & 0.0 & 0.0 & 0.0 & 0.0\\\\0.0 & 0.0 & 0.0 & 0.0 & 0.0 & 0.0 & 0.0 & 0.0 & 0.0 & 0.0\\\\0.0 & 0.0 & 0.0 & 0.0 & 0.0 & 0.0 & 0.0 & 0.0 & 0.0 & 0.0\\\\0.0 & 0.0 & 0.0 & 0.0 & 0.0 & 0.0 & 0.0 & 0.0 & 0.0 & 0.0\\\\0.0 & 0.0 & 0.0 & 0.0 & 0.0 & 0.0 & 0.0 & 0.0 & 0.0 & 0.0\\\\0.0 & 0.0 & 0.0 & 0.0 & 0.0 & 0.0 & 0.0 & 0.0 & 0.0 & 0.0\\\\0.0 & 0.0 & 0.0 & 0.0 & 0.0 & 0.0 & 0.0 & 0.0 & 0.0 & 0.0\\\\0.0 & 0.0 & 0.0 & 0.0 & 0.0 & 0.0 & 0.0 & 0.0 & 0.0 & 0.0\\end{matrix}\\right]$"
      ],
      "text/plain": [
       "<IPython.core.display.Math object>"
      ]
     },
     "metadata": {},
     "output_type": "display_data"
    }
   ],
   "source": [
    "A = np.random.randn(10, 8)\n",
    "A_t = A.T\n",
    "\n",
    "M = A@A_t\n",
    "\n",
    "# Here we'll show that M and M-transposed are equal which means they are symmetric.\n",
    "display(Math(sym.latex(sym.sympify(M - M.T))))"
   ]
  },
  {
   "cell_type": "code",
   "execution_count": null,
   "metadata": {},
   "outputs": [],
   "source": []
  }
 ],
 "metadata": {
  "kernelspec": {
   "display_name": "env",
   "language": "python",
   "name": "python3"
  },
  "language_info": {
   "codemirror_mode": {
    "name": "ipython",
    "version": 3
   },
   "file_extension": ".py",
   "mimetype": "text/x-python",
   "name": "python",
   "nbconvert_exporter": "python",
   "pygments_lexer": "ipython3",
   "version": "3.11.1 (v3.11.1:a7a450f84a, Dec  6 2022, 15:24:06) [Clang 13.0.0 (clang-1300.0.29.30)]"
  },
  "orig_nbformat": 4,
  "vscode": {
   "interpreter": {
    "hash": "2a651e4ef1d612eb4226e3395ce5a6e47bf1a7ebb25c7e937bccdf31253ebbad"
   }
  }
 },
 "nbformat": 4,
 "nbformat_minor": 2
}
