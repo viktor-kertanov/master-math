{
 "cells": [
  {
   "attachments": {},
   "cell_type": "markdown",
   "metadata": {},
   "source": [
    "### __Eigenvalues and eigenvectors__\n",
    "\n",
    "1. The algebraic and geometric interpretations of __eigenvalues__ and __eigenvectors__\n",
    "2. How to perform eigendecomposition in Python: only applicable for __square matrices (m x m)__ <br>\n",
    "   __NB__: singular value decomposition works for any matrix m x n size\n",
    "3. What __\"diagonalization\"__ means\n",
    "\n",
    "All this is super important concepts in linear algebra. <br>\n",
    "\n",
    "__The question is how to represent a matrix [m x m] size as a set of eigenvectors and for each eigenvector there's an eigen value__"
   ]
  },
  {
   "attachments": {},
   "cell_type": "markdown",
   "metadata": {},
   "source": [
    "Обычно, когда мы умножаем матрцу А на вектор v, мы получаеу другой вектор w. И, как правило, вектор изменяется в размерах (сжимается/удлиняется) и крутится относительно первоначального вектора.\n",
    "Но иногда для матрицы А существует такой вектор v (или несколько векторов), что в комбинации они дают вектор w, которые не крутит изначальный вектор - эта комбинация только удлиняет или уменьшает изначальный вектор, но не крутит его.\n",
    "Эффект получается такой, как будто бы мы вектор умножаем не на матрицу, а на скаляр:\n",
    "\n",
    "$$ A \\times v = w$$\n",
    "$$ \\lambda v = w$$\n",
    "\n",
    "<br>\n",
    "\n",
    "__Eigenvalue equation__:\n",
    "$$ Av = \\lambda v$$\n",
    "\n",
    "\n",
    "And in this case, __v__ is eigenvector and <b>$\\lambda$</b> is eigenvalue.\n",
    "\n",
    "<br>\n",
    "\n",
    "When we talk about __eigendecomposition__ we mean that in the end of this operation we get the whole set of eigenvalues and eigenvectors, not just one.\n",
    "\n",
    "__V__ is a matrix of eigen vectors (in most cases __full rank__ matrix, that means it is invertable) <br>\n",
    "\n",
    "<b>$\\Lambda$</b> is a diagonal matrix of eigenvalues (that's why we call it \"diagonalization\")\n",
    "\n",
    "$$AV=V\\Lambda $$\n",
    "$$A=V\\Lambda V^{-1} $$"
   ]
  },
  {
   "cell_type": "code",
   "execution_count": 2,
   "metadata": {},
   "outputs": [],
   "source": [
    "import numpy as np\n",
    "import matplotlib.pyplot as plt"
   ]
  },
  {
   "cell_type": "code",
   "execution_count": 3,
   "metadata": {},
   "outputs": [
    {
     "name": "stdout",
     "output_type": "stream",
     "text": [
      "[172.54794689  82.47910549   0.98951755  24.82644659  32.15698347]\n"
     ]
    },
    {
     "data": {
      "image/png": "[encoded data removed]",
      "text/plain": [
       "<Figure size 640x480 with 3 Axes>"
      ]
     },
     "metadata": {},
     "output_type": "display_data"
    }
   ],
   "source": [
    "m = 5\n",
    "\n",
    "M = np.random.randint(-5, 6, [m,m])\n",
    "# for this example we want to guarantee that we'll get real value eigen decomposition (not complex). out of scope of course\n",
    "M = M @ M.T \n",
    " \n",
    "eig_values, eig_vectors = np.linalg.eig(M)\n",
    "\n",
    "fig, ax = plt.subplots(1, 3)\n",
    "\n",
    "ax[0].imshow(M)\n",
    "ax[0].set_title('The matrix')\n",
    "\n",
    "\n",
    "print(eig_values)\n",
    "#we need to convert a vector of values into a diagonal matrix\n",
    "ax[1].imshow(np.diag(eig_values))\n",
    "ax[1].set_title('Eigenvalues')\n",
    "\n",
    "ax[2].imshow(eig_vectors)\n",
    "ax[2].set_title('Eigenvectors')\n",
    "\n",
    "plt.show()"
   ]
  },
  {
   "cell_type": "code",
   "execution_count": 4,
   "metadata": {},
   "outputs": [
    {
     "name": "stdout",
     "output_type": "stream",
     "text": [
      "[-109.3486135    79.95188358    7.63071276   32.67004625 -101.4781322 ]\n",
      "[-109.3486135    79.95188358    7.63071276   32.67004625 -101.4781322 ]\n"
     ]
    }
   ],
   "source": [
    "# Algebraic interpretation:\n",
    "# That's amazing that multiplying a matrix by a vector gives the same result as multiplying \n",
    "# one number by the same vector!\n",
    "\n",
    "Mv = M @ eig_vectors[:, 0] #first column\n",
    "lv = eig_values[0] * eig_vectors[:, 0]\n",
    "\n",
    "print(Mv)\n",
    "print(lv)"
   ]
  }
 ],
 "metadata": {
  "kernelspec": {
   "display_name": "env",
   "language": "python",
   "name": "python3"
  },
  "language_info": {
   "codemirror_mode": {
    "name": "ipython",
    "version": 3
   },
   "file_extension": ".py",
   "mimetype": "text/x-python",
   "name": "python",
   "nbconvert_exporter": "python",
   "pygments_lexer": "ipython3",
   "version": "3.11.1 (v3.11.1:a7a450f84a, Dec  6 2022, 15:24:06) [Clang 13.0.0 (clang-1300.0.29.30)]"
  },
  "orig_nbformat": 4,
  "vscode": {
   "interpreter": {
    "hash": "2a651e4ef1d612eb4226e3395ce5a6e47bf1a7ebb25c7e937bccdf31253ebbad"
   }
  }
 },
 "nbformat": 4,
 "nbformat_minor": 2
}
