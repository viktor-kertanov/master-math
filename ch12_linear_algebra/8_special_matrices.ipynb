{
 "cells": [
  {
   "attachments": {},
   "cell_type": "markdown",
   "metadata": {},
   "source": [
    "### __Special matrices__\n",
    "\n",
    "1. __Identity__ matrix, __1__ on main diagonal always a square a matrix (__I__):\n",
    "\n",
    "\\begin{bmatrix}\n",
    "1 & 0 & \\dots & 0\\\\\n",
    "0 & 1 & \\dots & 0\\\\\n",
    "\\vdots & & \\ddots & \\vdots\\\\\n",
    "0 & 0 & \\dots & 1\\\\\n",
    "\\end{bmatrix}\n",
    "\n",
    "\\begin{equation}\n",
    "\\begin{bmatrix}\n",
    "2 & 0 & 0\\\\\n",
    "0 & 2 & 0\\\\\n",
    "0 & 0 & 2\\\\\n",
    "\\end{bmatrix}\n",
    "=\n",
    "\\lambda I\n",
    "=\n",
    "2 I\n",
    "\\end{equation}\n",
    "\n",
    "2. __Zero__ matrix:\n",
    "\n",
    "\\begin{bmatrix}\n",
    "0 & 0 & \\dots & 0\\\\\n",
    "0 & 0 & \\dots & 0\\\\\n",
    "\\vdots & & \\ddots & \\vdots\\\\\n",
    "0 & 0 & \\dots & 0\\\\\n",
    "\\end{bmatrix}\n",
    "\n",
    "3. __Diagonal__ matrix, non-zero on diagonal, it can be a non-square matrix:\n",
    "\n",
    "\\begin{bmatrix}\n",
    "1 & 0 & \\dots & 0\\\\\n",
    "0 & -2 & \\dots & 0\\\\\n",
    "\\vdots & & \\ddots & \\vdots\\\\\n",
    "0 & 0 & \\dots & 5\\\\\n",
    "\\end{bmatrix}\n",
    "\n",
    "\\begin{bmatrix}\n",
    "1 & 0 & 0 & 0\\\\\n",
    "0 & \\pi & 0 & 0\\\\\n",
    "0 & 0 & 5 & 0\\\\\n",
    "\\end{bmatrix}\n",
    "\n",
    "4. __Triangular matrices__: upper triangular & lower triangular:\n",
    "\n",
    "<br>\n",
    "\n",
    "__Upper triangular__\n",
    "\n",
    "\\begin{bmatrix}\n",
    "\\textbf{1} & 7 & 9\\\\\n",
    "0 & \\textbf{-2} & -10\\\\\n",
    "0 & 0 & \\textbf{5}\\\\\n",
    "\\end{bmatrix}\n",
    "\n",
    "<br>\n",
    "\n",
    "__Lower triangular__\n",
    "\n",
    "\\begin{bmatrix}\n",
    "\\textbf{1} & 0 & 0 & 0\\\\\n",
    "7 & \\textbf{-2} & 0 & 0\\\\\n",
    "6 & 0 & \\textbf{5} & 0\\\\\n",
    "\\pi & 3 & 8 & \\textbf{4}\\\\\n",
    "\\end{bmatrix}"
   ]
  },
  {
   "cell_type": "code",
   "execution_count": 3,
   "metadata": {},
   "outputs": [],
   "source": [
    "import numpy as np\n",
    "import matplotlib.pyplot as plt\n",
    "import sympy as sym\n",
    "from IPython.display import display, Math"
   ]
  },
  {
   "cell_type": "code",
   "execution_count": 4,
   "metadata": {},
   "outputs": [
    {
     "data": {
      "text/latex": [
       "$\\displaystyle \\left[\\begin{matrix}1.0 & 0.0 & 0.0 & 0.0 & 0.0 & 0.0 & 0.0\\\\0.0 & 1.0 & 0.0 & 0.0 & 0.0 & 0.0 & 0.0\\\\0.0 & 0.0 & 1.0 & 0.0 & 0.0 & 0.0 & 0.0\\\\0.0 & 0.0 & 0.0 & 1.0 & 0.0 & 0.0 & 0.0\\\\0.0 & 0.0 & 0.0 & 0.0 & 1.0 & 0.0 & 0.0\\\\0.0 & 0.0 & 0.0 & 0.0 & 0.0 & 1.0 & 0.0\\\\0.0 & 0.0 & 0.0 & 0.0 & 0.0 & 0.0 & 1.0\\end{matrix}\\right]$"
      ],
      "text/plain": [
       "<IPython.core.display.Math object>"
      ]
     },
     "metadata": {},
     "output_type": "display_data"
    }
   ],
   "source": [
    "I = np.eye(7)\n",
    "display(Math(sym.latex(sym.sympify(I))))"
   ]
  },
  {
   "cell_type": "code",
   "execution_count": 5,
   "metadata": {},
   "outputs": [
    {
     "data": {
      "text/latex": [
       "$\\displaystyle \\left[\\begin{matrix}0.0 & 0.0 & 0.0 & 0.0 & 0.0 & 0.0 & 0.0 & 0.0 & 0.0 & 0.0\\\\0.0 & 0.0 & 0.0 & 0.0 & 0.0 & 0.0 & 0.0 & 0.0 & 0.0 & 0.0\\\\0.0 & 0.0 & 0.0 & 0.0 & 0.0 & 0.0 & 0.0 & 0.0 & 0.0 & 0.0\\\\0.0 & 0.0 & 0.0 & 0.0 & 0.0 & 0.0 & 0.0 & 0.0 & 0.0 & 0.0\\end{matrix}\\right]$"
      ],
      "text/plain": [
       "<IPython.core.display.Math object>"
      ]
     },
     "metadata": {},
     "output_type": "display_data"
    }
   ],
   "source": [
    "Z = np.zeros([4,10])\n",
    "display(Math(sym.latex(sym.sympify(Z))))"
   ]
  },
  {
   "cell_type": "code",
   "execution_count": 6,
   "metadata": {},
   "outputs": [
    {
     "data": {
      "text/latex": [
       "$\\displaystyle \\left[\\begin{matrix}1 & 0 & 0 & 0 & 0\\\\0 & 4 & 0 & 0 & 0\\\\0 & 0 & 6 & 0 & 0\\\\0 & 0 & 0 & 3 & 0\\\\0 & 0 & 0 & 0 & 0\\end{matrix}\\right]$"
      ],
      "text/plain": [
       "<IPython.core.display.Math object>"
      ]
     },
     "metadata": {},
     "output_type": "display_data"
    }
   ],
   "source": [
    "D = np.diag([1, 4, 6, 3, 0])\n",
    "display(Math(sym.latex(sym.sympify(D))))"
   ]
  },
  {
   "cell_type": "code",
   "execution_count": 7,
   "metadata": {},
   "outputs": [
    {
     "data": {
      "text/latex": [
       "$\\displaystyle \\left[\\begin{matrix}1 & 4 & 6 & 3 & 0\\end{matrix}\\right]$"
      ],
      "text/plain": [
       "<IPython.core.display.Math object>"
      ]
     },
     "metadata": {},
     "output_type": "display_data"
    }
   ],
   "source": [
    "# the opposite thing: get a diagonal values from a matrix\n",
    "\n",
    "diagonal_values = np.diagonal(D)\n",
    "display(Math(sym.latex(sym.sympify(diagonal_values))))"
   ]
  },
  {
   "cell_type": "code",
   "execution_count": 15,
   "metadata": {},
   "outputs": [
    {
     "data": {
      "text/latex": [
       "$\\displaystyle \\left[\\begin{matrix}0.487196891059424 & 1.21577378258067 & 0.635690528188888 & 1.53532120061859 & 2.01723489989259 & 0.926184481341457\\\\-0.894220440362163 & -0.0142204025747049 & 0.570386073721256 & 0.781720243867146 & -1.50965777617487 & 0.243460439773343\\\\-0.853199893419587 & 0.460637070387558 & 1.15373091859609 & -0.164341409081224 & -0.243400464912057 & -1.69408795604512\\\\-0.635298004499338 & -0.318987768696916 & -0.0935327131987656 & 0.665638861412336 & -0.858213510222835 & -0.688837457872849\\\\-0.810569694737651 & -0.153946794800217 & -1.07601711682871 & 0.267394115917935 & 1.784156587688 & 3.32759659503465\\\\0.0933112214917692 & 0.195689988239071 & 0.840405893089282 & 0.386576264836836 & -2.0743905558698 & -0.107901845921147\\end{matrix}\\right]$"
      ],
      "text/plain": [
       "<IPython.core.display.Math object>"
      ]
     },
     "metadata": {},
     "output_type": "display_data"
    },
    {
     "data": {
      "text/latex": [
       "$\\displaystyle \\left[\\begin{matrix}0.487196891059424 & 1.21577378258067 & 0.635690528188888 & 1.53532120061859 & 2.01723489989259 & 0.926184481341457\\\\0.0 & -0.0142204025747049 & 0.570386073721256 & 0.781720243867146 & -1.50965777617487 & 0.243460439773343\\\\0.0 & 0.0 & 1.15373091859609 & -0.164341409081224 & -0.243400464912057 & -1.69408795604512\\\\0.0 & 0.0 & 0.0 & 0.665638861412336 & -0.858213510222835 & -0.688837457872849\\\\0.0 & 0.0 & 0.0 & 0.0 & 1.784156587688 & 3.32759659503465\\\\0.0 & 0.0 & 0.0 & 0.0 & 0.0 & -0.107901845921147\\end{matrix}\\right]$"
      ],
      "text/plain": [
       "<IPython.core.display.Math object>"
      ]
     },
     "metadata": {},
     "output_type": "display_data"
    },
    {
     "data": {
      "text/latex": [
       "$\\displaystyle \\left[\\begin{matrix}0.487196891059424 & 0.0 & 0.0 & 0.0 & 0.0 & 0.0\\\\-0.894220440362163 & -0.0142204025747049 & 0.0 & 0.0 & 0.0 & 0.0\\\\-0.853199893419587 & 0.460637070387558 & 1.15373091859609 & 0.0 & 0.0 & 0.0\\\\-0.635298004499338 & -0.318987768696916 & -0.0935327131987656 & 0.665638861412336 & 0.0 & 0.0\\\\-0.810569694737651 & -0.153946794800217 & -1.07601711682871 & 0.267394115917935 & 1.784156587688 & 0.0\\\\0.0933112214917692 & 0.195689988239071 & 0.840405893089282 & 0.386576264836836 & -2.0743905558698 & -0.107901845921147\\end{matrix}\\right]$"
      ],
      "text/plain": [
       "<IPython.core.display.Math object>"
      ]
     },
     "metadata": {},
     "output_type": "display_data"
    }
   ],
   "source": [
    "# Initial matrix\n",
    "T = np.random.randn(6, 6)\n",
    "display(Math(sym.latex(sym.sympify(T))))\n",
    "\n",
    "# Upper triangular\n",
    "T_triangular_upper = np.triu(T)\n",
    "display(Math(sym.latex(sym.sympify(T_triangular_upper))))\n",
    "\n",
    "# Lower triangular\n",
    "T_triangular_lower = np.tril(T)\n",
    "display(Math(sym.latex(sym.sympify(T_triangular_lower))))"
   ]
  },
  {
   "cell_type": "code",
   "execution_count": 16,
   "metadata": {},
   "outputs": [
    {
     "data": {
      "image/png": "[encoded data removed]",
      "text/plain": [
       "<Figure size 640x480 with 3 Axes>"
      ]
     },
     "metadata": {},
     "output_type": "display_data"
    }
   ],
   "source": [
    "plt.subplot(131)\n",
    "plt.imshow(T)\n",
    "\n",
    "plt.subplot(132)\n",
    "plt.imshow(T_triangular_upper)\n",
    "\n",
    "plt.subplot(133)\n",
    "plt.imshow(T_triangular_lower)\n",
    "\n",
    "plt.show()"
   ]
  },
  {
   "cell_type": "code",
   "execution_count": null,
   "metadata": {},
   "outputs": [],
   "source": []
  }
 ],
 "metadata": {
  "kernelspec": {
   "display_name": "env",
   "language": "python",
   "name": "python3"
  },
  "language_info": {
   "codemirror_mode": {
    "name": "ipython",
    "version": 3
   },
   "file_extension": ".py",
   "mimetype": "text/x-python",
   "name": "python",
   "nbconvert_exporter": "python",
   "pygments_lexer": "ipython3",
   "version": "3.11.1"
  },
  "orig_nbformat": 4,
  "vscode": {
   "interpreter": {
    "hash": "2a651e4ef1d612eb4226e3395ce5a6e47bf1a7ebb25c7e937bccdf31253ebbad"
   }
  }
 },
 "nbformat": 4,
 "nbformat_minor": 2
}
