{
 "cells": [
  {
   "cell_type": "markdown",
   "metadata": {},
   "source": [
    "# COURSE: Master math by coding in Python\n",
    "## SECTION: Linear algebra\n",
    "\n",
    "#### www.udemy.com/master-math-with-python\n",
    "#### INSTRUCTOR: sincxpress.com\n",
    "\n",
    "Note about this code: Each video in this section of the course corresponds to a section of code below. Please note that this code roughly matches the code shown in the live recording, but is not exactly the same -- the variable names, order of lines, and parameters may be slightly different. "
   ]
  },
  {
   "cell_type": "code",
   "execution_count": 1,
   "metadata": {},
   "outputs": [],
   "source": [
    "import numpy as np\n",
    "import sympy as sym\n",
    "import matplotlib.pyplot as plt\n",
    "from IPython.display import display, Math"
   ]
  },
  {
   "cell_type": "markdown",
   "metadata": {},
   "source": [
    "# Linear algebra BUG HUNT!!"
   ]
  },
  {
   "cell_type": "code",
   "execution_count": 51,
   "metadata": {},
   "outputs": [
    {
     "data": {
      "text/latex": [
       "$\\displaystyle \\left[\\begin{matrix}-2\\\\3\\end{matrix}\\right]$"
      ],
      "text/plain": [
       "<IPython.core.display.Math object>"
      ]
     },
     "metadata": {},
     "output_type": "display_data"
    },
    {
     "data": {
      "text/latex": [
       "$\\displaystyle \\left[\\begin{matrix}-2\\\\3\\end{matrix}\\right]$"
      ],
      "text/plain": [
       "<IPython.core.display.Math object>"
      ]
     },
     "metadata": {},
     "output_type": "display_data"
    }
   ],
   "source": [
    "# create a column vector\n",
    "cv = np.array([ [-2, 3] ]).T\n",
    "cv_1 = np.array([ [-2], [3] ]) # another solution\n",
    "\n",
    "display(Math(sym.latex(sym.sympify(cv))))\n",
    "display(Math(sym.latex(sym.sympify(cv_1))))"
   ]
  },
  {
   "cell_type": "code",
   "execution_count": 6,
   "metadata": {},
   "outputs": [
    {
     "data": {
      "image/png": "[encoded data removed]",
      "text/plain": [
       "<Figure size 640x480 with 1 Axes>"
      ]
     },
     "metadata": {},
     "output_type": "display_data"
    }
   ],
   "source": [
    "# visualize scalar-vector multiplication\n",
    "\n",
    "v = np.array([-2,2])\n",
    "s = .7\n",
    "\n",
    "sv = np.array([s, s]).T @ v\n",
    "sv = s * v\n",
    "plt.plot([0, v[0]], [0, v[1]], 'ro-', linewidth=3, label='v')\n",
    "plt.plot([0, sv[0]], [0, sv[1]], 'o--', linewidth=3, label='sv')\n",
    "    \n",
    "plt.axis('square')\n",
    "plt.axis([-3, 3, -3, 3])\n",
    "plt.legend()\n",
    "\n",
    "plt.grid()\n",
    "plt.show()"
   ]
  },
  {
   "cell_type": "code",
   "execution_count": 14,
   "metadata": {},
   "outputs": [
    {
     "name": "stdout",
     "output_type": "stream",
     "text": [
      "3.77 - 3.77 = -0.0\n"
     ]
    }
   ],
   "source": [
    "# algorithm to compute the dot product\n",
    "num=22\n",
    "\n",
    "v = np.random.randn(num)\n",
    "w = np.random.randn(num)\n",
    "\n",
    "dp1 = 0\n",
    "for i in range(len(v)):\n",
    "    dp1 += v[i]*w[i]\n",
    "\n",
    "dp2 = np.dot(v,w)\n",
    "\n",
    "print(f'{np.round(dp1,2)} - {np.round(dp2,2)} = {np.round(dp1-dp2, 5)}')"
   ]
  },
  {
   "cell_type": "code",
   "execution_count": 55,
   "metadata": {},
   "outputs": [
    {
     "name": "stdout",
     "output_type": "stream",
     "text": [
      "0.9462829340892335\n",
      "0.9462829340892335\n"
     ]
    }
   ],
   "source": [
    "# number of data points\n",
    "n = 10\n",
    "\n",
    "# data\n",
    "data1 = np.arange(0, n) + np.random.randn(n)\n",
    "data2 = np.arange(0, n) + np.random.randn(n)\n",
    "\n",
    "data1_mc =  data1 - np.mean(data1)\n",
    "data2_mc = data2 - np.mean(data2)\n",
    "\n",
    "# compute correlation\n",
    "numer = np.dot(data1_mc, data2_mc)\n",
    "denom = np.sqrt(np.dot(data1_mc, data1_mc)) * np.sqrt(np.dot(data2_mc, data2_mc))\n",
    "r1 = numer / denom\n",
    "\n",
    "# confirm with numpy function\n",
    "r2 = np.corrcoef(data1,data2)[1][0]\n",
    "\n",
    "print(r1)\n",
    "print(r2)"
   ]
  },
  {
   "cell_type": "code",
   "execution_count": 30,
   "metadata": {},
   "outputs": [
    {
     "data": {
      "text/latex": [
       "$\\displaystyle \\left[\\begin{matrix}45.0 & 40.0 & 40.0 & 35.0\\\\0.0 & 0.0 & 0.0 & 0.0\\\\81.0 & 72.0 & 72.0 & 63.0\\\\18.0 & 16.0 & 16.0 & 14.0\\\\72.0 & 64.0 & 64.0 & 56.0\\\\0.0 & 0.0 & 0.0 & 0.0\\\\72.0 & 64.0 & 64.0 & 56.0\\end{matrix}\\right]$"
      ],
      "text/plain": [
       "<IPython.core.display.Math object>"
      ]
     },
     "metadata": {},
     "output_type": "display_data"
    },
    {
     "data": {
      "text/latex": [
       "$\\displaystyle \\left[\\begin{matrix}45 & 40 & 40 & 35\\\\0 & 0 & 0 & 0\\\\81 & 72 & 72 & 63\\\\18 & 16 & 16 & 14\\\\72 & 64 & 64 & 56\\\\0 & 0 & 0 & 0\\\\72 & 64 & 64 & 56\\end{matrix}\\right]$"
      ],
      "text/plain": [
       "<IPython.core.display.Math object>"
      ]
     },
     "metadata": {},
     "output_type": "display_data"
    },
    {
     "data": {
      "text/latex": [
       "$\\displaystyle \\left[\\begin{matrix}0.0 & 0.0 & 0.0 & 0.0\\\\0.0 & 0.0 & 0.0 & 0.0\\\\0.0 & 0.0 & 0.0 & 0.0\\\\0.0 & 0.0 & 0.0 & 0.0\\\\0.0 & 0.0 & 0.0 & 0.0\\\\0.0 & 0.0 & 0.0 & 0.0\\\\0.0 & 0.0 & 0.0 & 0.0\\end{matrix}\\right]$"
      ],
      "text/plain": [
       "<IPython.core.display.Math object>"
      ]
     },
     "metadata": {},
     "output_type": "display_data"
    }
   ],
   "source": [
    "# outer product computation\n",
    "o1 = np.random.randint(0, 10, 7)\n",
    "o2 = np.random.randint(0, 10, 4)\n",
    "\n",
    "outermat = np.zeros((len(o1), len(o2)))\n",
    "\n",
    "for r in range(len(o1)):\n",
    "    for c in range(len(o2)):\n",
    "        outermat[r, c] = o1[r]*o2[c]\n",
    "    \n",
    "display(Math(sym.latex(sym.sympify(outermat))))\n",
    "display(Math(sym.latex(sym.sympify(np.outer(o1, o2)))))\n",
    "display(Math(sym.latex(sym.sympify(np.outer(o1, o2) - outermat))))\n"
   ]
  },
  {
   "cell_type": "code",
   "execution_count": 59,
   "metadata": {},
   "outputs": [
    {
     "data": {
      "text/latex": [
       "$\\displaystyle \\left[\\begin{matrix}28.0 & 21.0 & 14.0 & 14.0\\\\28.0 & 21.0 & 14.0 & 14.0\\\\0.0 & 0.0 & 0.0 & 0.0\\\\32.0 & 24.0 & 16.0 & 16.0\\\\24.0 & 18.0 & 12.0 & 12.0\\\\12.0 & 9.0 & 6.0 & 6.0\\\\36.0 & 27.0 & 18.0 & 18.0\\end{matrix}\\right]$"
      ],
      "text/plain": [
       "<IPython.core.display.Math object>"
      ]
     },
     "metadata": {},
     "output_type": "display_data"
    },
    {
     "data": {
      "text/latex": [
       "$\\displaystyle \\left[\\begin{matrix}0.0 & 0.0 & 0.0 & 0.0\\\\0.0 & 0.0 & 0.0 & 0.0\\\\0.0 & 0.0 & 0.0 & 0.0\\\\0.0 & 0.0 & 0.0 & 0.0\\\\0.0 & 0.0 & 0.0 & 0.0\\\\0.0 & 0.0 & 0.0 & 0.0\\\\0.0 & 0.0 & 0.0 & 0.0\\end{matrix}\\right]$"
      ],
      "text/plain": [
       "<IPython.core.display.Math object>"
      ]
     },
     "metadata": {},
     "output_type": "display_data"
    }
   ],
   "source": [
    "# outer product computation\n",
    "o1 = np.random.randint(0, 10, 7)\n",
    "o2 = np.random.randint(0, 10, 4)\n",
    "\n",
    "outermat = np.zeros((len(o1), len(o2))) \n",
    "\n",
    "for i in range(len(o1)):\n",
    "    outermat[i, :] = o1[i] * o2 \n",
    "    \n",
    "display(Math(sym.latex(sym.sympify(outermat))))\n",
    "display(Math(sym.latex(sym.sympify(np.outer(o1, o2) - outermat))))"
   ]
  },
  {
   "cell_type": "code",
   "execution_count": 37,
   "metadata": {},
   "outputs": [
    {
     "data": {
      "text/latex": [
       "$\\displaystyle \\left[\\begin{matrix}-0.31 & 0.27 & 0.94 & -0.78 & 0.09\\\\1.06 & -0.91 & 0.25 & 0.87 & 0.17\\\\0.51 & 0.72 & 0.1 & -0.6 & 0.08\\\\1.13 & -0.31 & -0.93 & 0.13 & -1.77\\\\0.46 & -1.15 & 1.9 & 1.63 & 1.22\\end{matrix}\\right]$"
      ],
      "text/plain": [
       "<IPython.core.display.Math object>"
      ]
     },
     "metadata": {},
     "output_type": "display_data"
    },
    {
     "data": {
      "text/latex": [
       "$\\displaystyle \\left[\\begin{matrix}-0.31 & 0.27 & 0.94 & -0.78 & 0.09\\\\1.06 & -0.91 & 0.25 & 0.87 & 0.17\\\\0.51 & 0.72 & 0.1 & -0.6 & 0.08\\\\1.13 & -0.31 & -0.93 & 0.13 & -1.77\\\\0.46 & -1.15 & 1.9 & 1.63 & 1.22\\end{matrix}\\right]$"
      ],
      "text/plain": [
       "<IPython.core.display.Math object>"
      ]
     },
     "metadata": {},
     "output_type": "display_data"
    },
    {
     "data": {
      "text/latex": [
       "$\\displaystyle \\left[\\begin{matrix}0.0 & 0.0 & 0.0 & 0.0 & 0.0\\\\0.0 & 0.0 & 0.0 & 0.0 & 0.0\\\\0.0 & 0.0 & 0.0 & 0.0 & 0.0\\\\0.0 & 0.0 & 0.0 & 0.0 & 0.0\\\\0.0 & 0.0 & 0.0 & 0.0 & 0.0\\end{matrix}\\right]$"
      ],
      "text/plain": [
       "<IPython.core.display.Math object>"
      ]
     },
     "metadata": {},
     "output_type": "display_data"
    }
   ],
   "source": [
    "# matrix multiplication\n",
    "A = np.random.randn(5,5)\n",
    "I = np.eye(5)\n",
    "\n",
    "display(Math(sym.latex(sym.sympify(np.round(A, 2)))))\n",
    "display(Math(sym.latex(sym.sympify(np.round(A @ I, 2)))))\n",
    "display(Math(sym.latex(sym.sympify(A @ I - A)))) # A@I is equarl to A"
   ]
  },
  {
   "cell_type": "code",
   "execution_count": 38,
   "metadata": {},
   "outputs": [
    {
     "name": "stdout",
     "output_type": "stream",
     "text": [
      "[[-1.46834467 -0.12372763 -0.20465703  0.01842004 -0.21853062]\n",
      " [-0.20746663  0.71396928  1.04354305  0.42780374 -1.27427738]\n",
      " [ 1.28083195 -0.9544282  -0.10999392  0.71200877 -1.29341774]\n",
      " [ 0.91118636 -1.00503646 -1.67446806 -0.23114671  0.40032259]\n",
      " [ 1.63343109 -0.71270332 -1.18932738  1.13124619  2.82603416]\n",
      " [ 1.18225406 -0.57454801  0.16313832  0.27272902  1.15489393]\n",
      " [ 1.63786556 -0.13632983  0.49904351  0.2388039   0.71043403]\n",
      " [ 1.61962207 -0.86786133 -0.39596104 -0.18380341 -0.37855353]]\n",
      " \n",
      "[[-1.46834467 -0.12372763 -0.20465703  0.01842004 -0.21853062]\n",
      " [-0.20746663  0.71396928  1.04354305  0.42780374 -1.27427738]\n",
      " [ 1.28083195 -0.9544282  -0.10999392  0.71200877 -1.29341774]\n",
      " [ 0.91118636 -1.00503646 -1.67446806 -0.23114671  0.40032259]\n",
      " [ 1.63343109 -0.71270332 -1.18932738  1.13124619  2.82603416]\n",
      " [ 1.18225406 -0.57454801  0.16313832  0.27272902  1.15489393]\n",
      " [ 1.63786556 -0.13632983  0.49904351  0.2388039   0.71043403]\n",
      " [ 1.61962207 -0.86786133 -0.39596104 -0.18380341 -0.37855353]]\n"
     ]
    }
   ],
   "source": [
    "# matrix multiplication\n",
    "A = np.random.randn(8, 5)\n",
    "I = np.eye(5)\n",
    "\n",
    "print(A)\n",
    "print(' ')\n",
    "print(A@I)"
   ]
  },
  {
   "cell_type": "code",
   "execution_count": 41,
   "metadata": {},
   "outputs": [
    {
     "data": {
      "text/latex": [
       "$\\displaystyle \\left[\\begin{matrix}1.0 & 0.0 & 0.0 & 0.0 & 0.0\\\\0.0 & 1.0 & 0.0 & 0.0 & 0.0\\\\0.0 & 0.0 & 1.0 & 0.0 & 0.0\\\\0.0 & 0.0 & 0.0 & 1.0 & 0.0\\\\0.0 & 0.0 & 0.0 & 0.0 & 1.0\\end{matrix}\\right]$"
      ],
      "text/plain": [
       "<IPython.core.display.Math object>"
      ]
     },
     "metadata": {},
     "output_type": "display_data"
    }
   ],
   "source": [
    "# random matrices are invertible\n",
    "A = np.random.randint(-5,6,(5,5))\n",
    "Ainv = np.linalg.inv(A)\n",
    "\n",
    "display(Math(sym.latex(sym.sympify(np.round(A @ Ainv, 4)))))"
   ]
  },
  {
   "cell_type": "code",
   "execution_count": 63,
   "metadata": {},
   "outputs": [
    {
     "data": {
      "image/png": "[encoded data removed]",
      "text/plain": [
       "<Figure size 640x480 with 1 Axes>"
      ]
     },
     "metadata": {},
     "output_type": "display_data"
    }
   ],
   "source": [
    "# plot the eigenspectrum\n",
    "# the matrix\n",
    "M = np.random.randint(-5, 5, (5, 5))\n",
    "M = M @ M.T\n",
    "\n",
    "# its eigendecomposition\n",
    "eigvals, eigvecs = np.linalg.eig(M)\n",
    "\n",
    "plt.plot(np.matrix.flatten(eigvals),'s-')\n",
    "plt.xlabel('Components')\n",
    "plt.ylabel('Eigenvalues')\n",
    "\n",
    "plt.show()"
   ]
  },
  {
   "cell_type": "code",
   "execution_count": 66,
   "metadata": {},
   "outputs": [
    {
     "data": {
      "image/png": "[encoded data removed]",
      "text/plain": [
       "<Figure size 1200x700 with 3 Axes>"
      ]
     },
     "metadata": {},
     "output_type": "display_data"
    },
    {
     "data": {
      "text/latex": [
       "$\\displaystyle \\left[\\begin{array}{}0.0 & 0.0 & 0.0 & 0.0 & 0.0 & 0.0 & 0.0 & 0.0 & 0.0 & 0.0 & 0.0 & 0.0 & 0.0 & 0.0 & 0.0 & 0.0 & 0.0 & 0.0 & 0.0 & 0.0\\\\0.0 & 0.0 & 0.0 & 0.0 & 0.0 & 0.0 & 0.0 & 0.0 & 0.0 & 0.0 & 0.0 & 0.0 & 0.0 & 0.0 & 0.0 & 0.0 & 0.0 & 0.0 & 0.0 & 0.0\\\\0.0 & 0.0 & 0.0 & 0.0 & 0.0 & 0.0 & 0.0 & 0.0 & 0.0 & 0.0 & 0.0 & 0.0 & 0.0 & 0.0 & 0.0 & 0.0 & 0.0 & 0.0 & 0.0 & 0.0\\\\0.0 & 0.0 & 0.0 & 0.0 & 0.0 & 0.0 & 0.0 & 0.0 & 0.0 & 0.0 & 0.0 & 0.0 & 0.0 & 0.0 & 0.0 & 0.0 & 0.0 & 0.0 & 0.0 & 0.0\\\\0.0 & 0.0 & 0.0 & 0.0 & 0.0 & 0.0 & 0.0 & 0.0 & 0.0 & 0.0 & 0.0 & 0.0 & 0.0 & 0.0 & 0.0 & 0.0 & 0.0 & 0.0 & 0.0 & 0.0\\\\0.0 & 0.0 & 0.0 & 0.0 & 0.0 & 0.0 & 0.0 & 0.0 & 0.0 & 0.0 & 0.0 & 0.0 & 0.0 & 0.0 & 0.0 & 0.0 & 0.0 & 0.0 & 0.0 & 0.0\\\\0.0 & 0.0 & 0.0 & 0.0 & 0.0 & 0.0 & 0.0 & 0.0 & 0.0 & 0.0 & 0.0 & 0.0 & 0.0 & 0.0 & 0.0 & 0.0 & 0.0 & 0.0 & 0.0 & 0.0\\\\0.0 & 0.0 & 0.0 & 0.0 & 0.0 & 0.0 & 0.0 & 0.0 & 0.0 & 0.0 & 0.0 & 0.0 & 0.0 & 0.0 & 0.0 & 0.0 & 0.0 & 0.0 & 0.0 & 0.0\\\\0.0 & 0.0 & 0.0 & 0.0 & 0.0 & 0.0 & 0.0 & 0.0 & 0.0 & 0.0 & 0.0 & 0.0 & 0.0 & 0.0 & 0.0 & 0.0 & 0.0 & 0.0 & 0.0 & 0.0\\\\0.0 & 0.0 & 0.0 & 0.0 & 0.0 & 0.0 & 0.0 & 0.0 & 0.0 & 0.0 & 0.0 & 0.0 & 0.0 & 0.0 & 0.0 & 0.0 & 0.0 & 0.0 & 0.0 & 0.0\\end{array}\\right]$"
      ],
      "text/plain": [
       "<IPython.core.display.Math object>"
      ]
     },
     "metadata": {},
     "output_type": "display_data"
    }
   ],
   "source": [
    "# Reconstruct a matrix based on its SVD\n",
    "A = np.random.randint(-10, 11, (10, 20))\n",
    "\n",
    "U, s, V = np.linalg.svd(A)\n",
    "\n",
    "# reconstruct S\n",
    "S = np.diag(s)\n",
    "singular_vals = np.zeros(np.shape(A))\n",
    "\n",
    "for idx in range(len(s)):\n",
    "    singular_vals[idx, idx] = s[idx]\n",
    "\n",
    "A_recon = U @ singular_vals @ V\n",
    "\n",
    "fig, ax = plt.subplots(1,3)\n",
    "\n",
    "ax[0].imshow(A, vmin=-10, vmax=10)\n",
    "ax[0].set_title('A')\n",
    "\n",
    "ax[1].imshow(A_recon, vmin=-10, vmax=10)\n",
    "ax[1].set_title('Arecon')\n",
    "\n",
    "ax[2].imshow(A-A_recon, vmin=-10, vmax=10)\n",
    "ax[2].set_title('A - Arecon')\n",
    "\n",
    "plt.gcf().set_size_inches(12,7)\n",
    "plt.show()\n",
    "\n",
    "display(Math(sym.latex(sym.sympify(np.round(A - A_recon, 7)))))"
   ]
  }
 ],
 "metadata": {
  "kernelspec": {
   "display_name": "env",
   "language": "python",
   "name": "python3"
  },
  "language_info": {
   "codemirror_mode": {
    "name": "ipython",
    "version": 3
   },
   "file_extension": ".py",
   "mimetype": "text/x-python",
   "name": "python",
   "nbconvert_exporter": "python",
   "pygments_lexer": "ipython3",
   "version": "3.11.1"
  },
  "vscode": {
   "interpreter": {
    "hash": "2a651e4ef1d612eb4226e3395ce5a6e47bf1a7ebb25c7e937bccdf31253ebbad"
   }
  }
 },
 "nbformat": 4,
 "nbformat_minor": 2
}
