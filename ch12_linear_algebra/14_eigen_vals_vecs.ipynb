{
 "cells": [
  {
   "cell_type": "code",
   "execution_count": 1,
   "metadata": {},
   "outputs": [],
   "source": [
    "import numpy as np\n",
    "import sympy as sym\n",
    "import matplotlib.pyplot as plt\n",
    "from IPython.display import display, Math"
   ]
  },
  {
   "cell_type": "code",
   "execution_count": 22,
   "metadata": {},
   "outputs": [
    {
     "data": {
      "text/latex": [
       "$\\displaystyle \\text{Checking that }M = V \\times \\Lambda \\times V^{-1}$"
      ],
      "text/plain": [
       "<IPython.core.display.Math object>"
      ]
     },
     "metadata": {},
     "output_type": "display_data"
    },
    {
     "data": {
      "text/latex": [
       "$\\displaystyle \\left[\\begin{matrix}1.0 & 2.0\\\\2.0 & 1.0\\end{matrix}\\right]$"
      ],
      "text/plain": [
       "<IPython.core.display.Math object>"
      ]
     },
     "metadata": {},
     "output_type": "display_data"
    },
    {
     "data": {
      "image/png": "[encoded data removed]",
      "text/plain": [
       "<Figure size 640x480 with 2 Axes>"
      ]
     },
     "metadata": {},
     "output_type": "display_data"
    }
   ],
   "source": [
    "M = np.array([\n",
    "    [1, 2],\n",
    "    [2, 1]\n",
    "])\n",
    "\n",
    "eig_vals, eig_vecs = np.linalg.eig(M)\n",
    "\n",
    "Mv = M @ eig_vecs\n",
    "# display(Math(sym.latex(sym.sympify(Mv))))\n",
    "\n",
    "lambda_v = eig_vecs @ np.diag(eig_vals)\n",
    "# display(Math(sym.latex(sym.sympify(lambda_v))))\n",
    "display(Math('\\\\text{Checking that }M = V \\\\times \\\\Lambda \\\\times V^{-1}'))\n",
    "display(Math(sym.latex(sym.sympify(eig_vecs @ np.diag(eig_vals) @ eig_vecs.T))))\n",
    "\n",
    "fig, ax = plt.subplots(1, 2)\n",
    "\n",
    "ax[0].imshow(Mv)\n",
    "ax[0].set_title('$M \\\\times V$')\n",
    "\n",
    "ax[1].imshow(lambda_v)\n",
    "ax[1].set_title('$V \\\\times \\Lambda$')\n",
    "\n",
    "plt.show()\n",
    "\n",
    "\n"
   ]
  },
  {
   "cell_type": "code",
   "execution_count": 60,
   "metadata": {},
   "outputs": [
    {
     "data": {
      "image/png": "[encoded data removed]",
      "text/plain": [
       "<Figure size 640x480 with 1 Axes>"
      ]
     },
     "metadata": {},
     "output_type": "display_data"
    }
   ],
   "source": [
    "M = np.array([\n",
    "    [1, 2],\n",
    "    [2, 1]\n",
    "])\n",
    "\n",
    "eig_vals, eig_vecs = np.linalg.eig(M)\n",
    "\n",
    "Mv_1 = M @ eig_vecs[:, 0]\n",
    "lambda_v_1 = eig_vals[0] * eig_vecs[:, 0]\n",
    "\n",
    "Mv_2 = M @ eig_vecs[:, 1]\n",
    "lambda_v_2 = eig_vals[1] * eig_vecs[:, 1]\n",
    "# display(Math(sym.latex(sym.sympify(Mv))))\n",
    "# display(Math(sym.latex(sym.sympify(lambda_v))))\n",
    "\n",
    "plt.plot([0, Mv_1[0]], [0, Mv_1[1]], 'b', label='Mv 1')\n",
    "plt.plot([0, lambda_v_1[0]], [0, lambda_v_1[1]], 'r--', label='$\\lambda v 1$')\n",
    "\n",
    "plt.plot([0, Mv_2[0]], [0, Mv_2[1]], 'g', label='Mv 2')\n",
    "plt.plot([0, lambda_v_2[0]], [0, lambda_v_2[1]], 'k:', label='$\\lambda v 2$')\n",
    "\n",
    "plt.axis('square')\n",
    "plt.axis([-3, 3, -3, 3])\n",
    "plt.grid()\n",
    "plt.legend()\n",
    "plt.show()\n",
    "\n",
    "\n",
    "\n",
    "\n"
   ]
  },
  {
   "cell_type": "code",
   "execution_count": 62,
   "metadata": {},
   "outputs": [
    {
     "data": {
      "text/latex": [
       "$\\displaystyle \\left[\\begin{matrix}10.3 & 1.8 & -0.4 & 3.4 & -1.8 & 2.4\\\\1.8 & 5.0 & 2.1 & 2.2 & -0.4 & 3.4\\\\-0.4 & 2.1 & 4.1 & -1.3 & 0.1 & -0.3\\\\3.4 & 2.2 & -1.3 & 3.7 & -2.1 & 1.6\\\\-1.8 & -0.4 & 0.1 & -2.1 & 3.4 & 1.5\\\\2.4 & 3.4 & -0.3 & 1.6 & 1.5 & 6.4\\end{matrix}\\right]$"
      ],
      "text/plain": [
       "<IPython.core.display.Math object>"
      ]
     },
     "metadata": {},
     "output_type": "display_data"
    }
   ],
   "source": [
    "# Let's create a symmetric 6x6 matrix\n",
    "m = 6\n",
    "A = np.random.randn(m, m)\n",
    "A = A @ A.T\n",
    "display(Math(sym.latex(sym.sympify(np.round(A,1)))))"
   ]
  },
  {
   "cell_type": "code",
   "execution_count": 63,
   "metadata": {},
   "outputs": [
    {
     "data": {
      "text/latex": [
       "$\\displaystyle \\left[\\begin{matrix}-0.7 & -0.4 & -0.1 & -0.1 & 0.5 & 0.0\\\\-0.4 & 0.5 & -0.5 & -0.4 & -0.3 & -0.4\\\\0.0 & 0.3 & 0.5 & 0.2 & 0.4 & -0.7\\\\-0.4 & -0.1 & 0.7 & -0.3 & -0.5 & 0.0\\\\0.1 & 0.4 & 0.2 & -0.7 & 0.4 & 0.4\\\\-0.4 & 0.6 & 0.1 & 0.5 & 0.0 & 0.4\\end{matrix}\\right]$"
      ],
      "text/plain": [
       "<IPython.core.display.Math object>"
      ]
     },
     "metadata": {},
     "output_type": "display_data"
    }
   ],
   "source": [
    "eig_vals, eig_vecs = np.linalg.eig(A)\n",
    "display(Math(sym.latex(sym.sympify(np.round(eig_vecs, 1)))))"
   ]
  },
  {
   "cell_type": "code",
   "execution_count": 64,
   "metadata": {},
   "outputs": [
    {
     "data": {
      "text/latex": [
       "$\\displaystyle \\left[\\begin{matrix}1.0 & 0.0 & 0.0 & 0.0 & 0.0 & 0.0\\\\0.0 & 1.0 & 0.0 & 0.0 & 0.0 & 0.0\\\\0.0 & 0.0 & 1.0 & 0.0 & 0.0 & 0.0\\\\0.0 & 0.0 & 0.0 & 1.0 & 0.0 & 0.0\\\\0.0 & 0.0 & 0.0 & 0.0 & 1.0 & 0.0\\\\0.0 & 0.0 & 0.0 & 0.0 & 0.0 & 1.0\\end{matrix}\\right]$"
      ],
      "text/plain": [
       "<IPython.core.display.Math object>"
      ]
     },
     "metadata": {},
     "output_type": "display_data"
    }
   ],
   "source": [
    "# now we should compute all dot-products between all pairs of eigenvectors and show as a matrix\n",
    "D = np.zeros([m, m])\n",
    "for idx_1 in range(m):\n",
    "    for idx_2 in range(m):\n",
    "        D[idx_1, idx_2] = np.dot(eig_vecs[:, idx_1], eig_vecs[:, idx_2])\n",
    "\n",
    "display(Math(sym.latex(sym.sympify(np.round(D, 3)))))"
   ]
  },
  {
   "cell_type": "code",
   "execution_count": 50,
   "metadata": {},
   "outputs": [
    {
     "name": "stdout",
     "output_type": "stream",
     "text": [
      "0.9500000000000001\n",
      "0.009999999999999926\n"
     ]
    }
   ],
   "source": [
    "a = 0.3*0.3+0.3*0.3+(-.6)**2+(-.4)**2+(-.5)**2\n",
    "b = 0.3*0.3 + 0.3*0.1 -0.6*(-0.1)-0.4*0.8-0.5*-.3\n",
    "print(a)\n",
    "print(b) "
   ]
  }
 ],
 "metadata": {
  "kernelspec": {
   "display_name": "env",
   "language": "python",
   "name": "python3"
  },
  "language_info": {
   "codemirror_mode": {
    "name": "ipython",
    "version": 3
   },
   "file_extension": ".py",
   "mimetype": "text/x-python",
   "name": "python",
   "nbconvert_exporter": "python",
   "pygments_lexer": "ipython3",
   "version": "3.11.1 (v3.11.1:a7a450f84a, Dec  6 2022, 15:24:06) [Clang 13.0.0 (clang-1300.0.29.30)]"
  },
  "orig_nbformat": 4,
  "vscode": {
   "interpreter": {
    "hash": "2a651e4ef1d612eb4226e3395ce5a6e47bf1a7ebb25c7e937bccdf31253ebbad"
   }
  }
 },
 "nbformat": 4,
 "nbformat_minor": 2
}
