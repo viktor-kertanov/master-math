{
 "cells": [
  {
   "attachments": {},
   "cell_type": "markdown",
   "metadata": {},
   "source": [
    "### __Matrix multiplication__\n",
    "\n",
    "Matrix multiplication is not always a valid procedure.\n",
    "If a first matrix is M rows and N columns and the second matrix is N rows and K columns, we can make the multiplication, the operation **is valid**.\n",
    "\n",
    "<newline>\n",
    "\n",
    "This is the \"inner\" rule. The result will conform to \"outer\" rule, i.e. the output matrix will be M rows and K columns\n",
    "\n",
    "$$ M \\times N * N \\times K = M \\times K $$\n",
    "\n",
    "__Example__:\n",
    "\n",
    "\\begin{equation}\n",
    "\\begin{bmatrix}\n",
    "1 & 2 & 3 \\\\\n",
    "2 & 4 & 6 \\\\\n",
    "\\end{bmatrix}\n",
    "\\times\n",
    "\\begin{bmatrix}\n",
    "1 & 2 \\\\\n",
    "3 & 4 \\\\\n",
    "5 & 6 \\\\\n",
    "\\end{bmatrix}\n",
    "=\n",
    "\\begin{bmatrix}\n",
    "1*1 + 2*3 + 3*5 & 1*2 + 2*4 + 3*6\\\\\n",
    "2*1 + 4*3 + 6*5 & 2*2 + 4*4 + 6*6 \\\\\n",
    "\\end{bmatrix}\n",
    "=\n",
    "\\begin{bmatrix}\n",
    "22 & 28\\\\\n",
    "44 & 56\\\\\n",
    "\\end{bmatrix}\n",
    "\n",
    "\\end{equation}\n",
    "\n"
   ]
  },
  {
   "cell_type": "code",
   "execution_count": 2,
   "metadata": {},
   "outputs": [],
   "source": [
    "import numpy as np\n",
    "import matplotlib.pyplot as plt\n",
    "import sympy as sym\n",
    "from IPython.display import display, Math"
   ]
  },
  {
   "cell_type": "code",
   "execution_count": 16,
   "metadata": {},
   "outputs": [
    {
     "data": {
      "text/latex": [
       "$\\displaystyle \\left[\\begin{matrix}22 & 28\\\\44 & 56\\end{matrix}\\right]$"
      ],
      "text/plain": [
       "<IPython.core.display.Math object>"
      ]
     },
     "metadata": {},
     "output_type": "display_data"
    }
   ],
   "source": [
    "# Checking the examples\n",
    "A = np.array([[1,2,3], [2,4,6]])\n",
    "B = np.array([[1,2], [3,4], [5,6]])\n",
    "C = np.matmul(A, B)\n",
    "\n",
    "display(Math(sym.latex(sym.sympify(C))))"
   ]
  },
  {
   "cell_type": "code",
   "execution_count": 20,
   "metadata": {},
   "outputs": [
    {
     "data": {
      "text/plain": [
       "(14, 14)"
      ]
     },
     "execution_count": 20,
     "metadata": {},
     "output_type": "execute_result"
    }
   ],
   "source": [
    "A = np.random.randn(14, 10)\n",
    "B = np.random.randn(14, 10)\n",
    "C = np.random.randn(10, 14)\n",
    "\n",
    "np.shape(B@C)"
   ]
  },
  {
   "attachments": {},
   "cell_type": "markdown",
   "metadata": {},
   "source": [
    "### __Exercise__:\n",
    "Write a function that takes 2 matrices as input, checks wether the multiplication is valid and returns their product or an error message. <br>\n",
    "__Note:__ function should not use @ operator or matmul to calculate the result"
   ]
  },
  {
   "cell_type": "code",
   "execution_count": 44,
   "metadata": {},
   "outputs": [],
   "source": [
    "def matrix_multiplication(a, b):\n",
    "    if type(a) != np.ndarray or type(b) != np.ndarray:\n",
    "        raise ValueError(\"You should provide numpy arrays as input\")\n",
    "    shape_a = np.shape(a)\n",
    "    shape_b = np.shape(b)\n",
    "    if shape_a[1] != shape_b[0]:\n",
    "        raise ValueError(f\"Matrix 'a' has {shape_a[1]} columns, matrix 'b' has {shape_b[0]} rows. These should match and be the same.\")\n",
    "    print(f\"The output matrix will be of size {shape_a[0]} rows x {shape_b[1]} cols.\")\n",
    "    \n",
    "    output_matrix = np.zeros([shape_a[0], shape_b[1]])\n",
    "    for r_idx, row in enumerate(a):\n",
    "        for c_idx, col in enumerate(b.T):\n",
    "            cur_dot_product = np.dot(row, col)\n",
    "            output_matrix[r_idx, c_idx] = np.dot(row, col)\n",
    "    \n",
    "    display(Math(sym.latex(sym.sympify(output_matrix))))\n",
    "    \n",
    "    return output_matrix"
   ]
  },
  {
   "cell_type": "code",
   "execution_count": 46,
   "metadata": {},
   "outputs": [
    {
     "name": "stdout",
     "output_type": "stream",
     "text": [
      "The output matrix will be of size 2 rows x 2 cols.\n"
     ]
    },
    {
     "data": {
      "text/latex": [
       "$\\displaystyle \\left[\\begin{matrix}9.0 & 3.0\\\\18.0 & 6.0\\end{matrix}\\right]$"
      ],
      "text/plain": [
       "<IPython.core.display.Math object>"
      ]
     },
     "metadata": {},
     "output_type": "display_data"
    },
    {
     "name": "stdout",
     "output_type": "stream",
     "text": [
      "The output matrix will be of size 2 rows x 2 cols.\n"
     ]
    },
    {
     "data": {
      "text/latex": [
       "$\\displaystyle \\left[\\begin{matrix}22.0 & 28.0\\\\44.0 & 56.0\\end{matrix}\\right]$"
      ],
      "text/plain": [
       "<IPython.core.display.Math object>"
      ]
     },
     "metadata": {},
     "output_type": "display_data"
    }
   ],
   "source": [
    "A = np.array([[1,1,1], [2,2,2]])\n",
    "B = np.array([[2,1], [3,1], [4,1]])\n",
    "\n",
    "res = matrix_multiplication(A, B)\n",
    "\n",
    "C = np.array([[1,2,3], [2,4,6]])\n",
    "D = np.array([[1,2], [3,4], [5,6]])\n",
    "\n",
    "res_2 = matrix_multiplication(C, D)"
   ]
  },
  {
   "cell_type": "code",
   "execution_count": 47,
   "metadata": {},
   "outputs": [],
   "source": [
    "# slightly different approach for making the function: instead of transforming the matrix\n",
    "def matrix_multiplication(a, b):\n",
    "    if type(a) != np.ndarray or type(b) != np.ndarray:\n",
    "        raise ValueError(\"You should provide numpy arrays as input\")\n",
    "    shape_a = np.shape(a)\n",
    "    shape_b = np.shape(b)\n",
    "    if shape_a[1] != shape_b[0]:\n",
    "        raise ValueError(f\"Matrix 'a' has {shape_a[1]} columns, matrix 'b' has {shape_b[0]} rows. These should match and be the same.\")\n",
    "    print(f\"The output matrix will be of size {shape_a[0]} rows x {shape_b[1]} cols.\")\n",
    "    \n",
    "    output_matrix = np.zeros([shape_a[0], shape_b[1]])\n",
    "    for r_idx in range(shape_a[0]):\n",
    "        for c_idx in range(shape_b[1]):\n",
    "            output_matrix[r_idx, c_idx] = np.dot(a[r_idx, :], b[:,c_idx])\n",
    "    \n",
    "    display(Math(sym.latex(sym.sympify(output_matrix))))\n",
    "    \n",
    "    return output_matrix"
   ]
  },
  {
   "cell_type": "code",
   "execution_count": 55,
   "metadata": {},
   "outputs": [
    {
     "name": "stdout",
     "output_type": "stream",
     "text": [
      "The output matrix will be of size 2 rows x 2 cols.\n"
     ]
    },
    {
     "data": {
      "text/latex": [
       "$\\displaystyle \\left[\\begin{matrix}9.0 & 3.0\\\\18.0 & 6.0\\end{matrix}\\right]$"
      ],
      "text/plain": [
       "<IPython.core.display.Math object>"
      ]
     },
     "metadata": {},
     "output_type": "display_data"
    },
    {
     "data": {
      "text/latex": [
       "$\\displaystyle \\left[\\begin{matrix}0.0 & 0.0\\\\0.0 & 0.0\\end{matrix}\\right]$"
      ],
      "text/plain": [
       "<IPython.core.display.Math object>"
      ]
     },
     "metadata": {},
     "output_type": "display_data"
    },
    {
     "name": "stdout",
     "output_type": "stream",
     "text": [
      "The output matrix will be of size 2 rows x 2 cols.\n"
     ]
    },
    {
     "data": {
      "text/latex": [
       "$\\displaystyle \\left[\\begin{matrix}22.0 & 28.0\\\\44.0 & 56.0\\end{matrix}\\right]$"
      ],
      "text/plain": [
       "<IPython.core.display.Math object>"
      ]
     },
     "metadata": {},
     "output_type": "display_data"
    },
    {
     "data": {
      "text/latex": [
       "$\\displaystyle \\left[\\begin{matrix}0.0 & 0.0\\\\0.0 & 0.0\\end{matrix}\\right]$"
      ],
      "text/plain": [
       "<IPython.core.display.Math object>"
      ]
     },
     "metadata": {},
     "output_type": "display_data"
    }
   ],
   "source": [
    "A = np.array([[1,1,1], [2,2,2]])\n",
    "B = np.array([[2,1], [3,1], [4,1]])\n",
    "\n",
    "res = matrix_multiplication(A, B)\n",
    "res_np = A@B\n",
    "display(Math(sym.latex(sym.sympify(res_np-res))))\n",
    "\n",
    "C = np.array([[1,2,3], [2,4,6]])\n",
    "D = np.array([[1,2], [3,4], [5,6]])\n",
    "\n",
    "res_2 = matrix_multiplication(C, D)\n",
    "res_np_2 = C@D\n",
    "\n",
    "display(Math(sym.latex(sym.sympify(res_np_2-res_2))))\n"
   ]
  },
  {
   "cell_type": "code",
   "execution_count": null,
   "metadata": {},
   "outputs": [],
   "source": []
  }
 ],
 "metadata": {
  "kernelspec": {
   "display_name": "env",
   "language": "python",
   "name": "python3"
  },
  "language_info": {
   "codemirror_mode": {
    "name": "ipython",
    "version": 3
   },
   "file_extension": ".py",
   "mimetype": "text/x-python",
   "name": "python",
   "nbconvert_exporter": "python",
   "pygments_lexer": "ipython3",
   "version": "3.11.1"
  },
  "orig_nbformat": 4,
  "vscode": {
   "interpreter": {
    "hash": "2a651e4ef1d612eb4226e3395ce5a6e47bf1a7ebb25c7e937bccdf31253ebbad"
   }
  }
 },
 "nbformat": 4,
 "nbformat_minor": 2
}
