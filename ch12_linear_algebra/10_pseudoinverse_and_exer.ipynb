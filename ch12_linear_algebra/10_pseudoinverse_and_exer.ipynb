{
 "cells": [
  {
   "attachments": {},
   "cell_type": "markdown",
   "metadata": {},
   "source": [
    "### __Pseudoinverse matrix__\n",
    "If a matrix is not invertible than we should use the pseudoinverse.\n",
    "Pseudoinverse gets us as close as possible to the full inverse. In some cases pseudoinverse acts as a full inverse and in other cases it works as a best approximation of the full inverse matrix.\n",
    "\n",
    "Pseudoinverse is often indicated as asterisk: $$A^*$$"
   ]
  },
  {
   "cell_type": "code",
   "execution_count": 2,
   "metadata": {},
   "outputs": [],
   "source": [
    "import numpy as np\n",
    "import sympy as sym\n",
    "import matplotlib.pyplot as plt\n",
    "from IPython.display import display, Math"
   ]
  },
  {
   "cell_type": "code",
   "execution_count": 31,
   "metadata": {},
   "outputs": [
    {
     "data": {
      "text/latex": [
       "$\\displaystyle \\left[\\begin{matrix}-1 & -1 & -2 & -2 & 1\\\\-2 & -2 & -5 & -4 & -5\\\\5 & 5 & -3 & -1 & 0\\\\5 & 5 & 5 & 3 & 4\\\\-3 & -3 & 2 & 4 & 5\\end{matrix}\\right]$"
      ],
      "text/plain": [
       "<IPython.core.display.Math object>"
      ]
     },
     "metadata": {},
     "output_type": "display_data"
    },
    {
     "data": {
      "text/latex": [
       "$\\displaystyle \\left[\\begin{matrix}1.0 & 0.0 & 0.0 & 0.0 & 0.0\\\\0.0 & 0.4 & 0.1 & -0.4 & -0.2\\\\0.0 & 0.1 & 1.0 & 0.1 & 0.0\\\\0.0 & -0.4 & 0.1 & 0.7 & -0.2\\\\0.0 & -0.2 & 0.0 & -0.2 & 0.9\\end{matrix}\\right]$"
      ],
      "text/plain": [
       "<IPython.core.display.Math object>"
      ]
     },
     "metadata": {},
     "output_type": "display_data"
    },
    {
     "data": {
      "image/png": "[encoded data removed]",
      "text/plain": [
       "<Figure size 640x480 with 3 Axes>"
      ]
     },
     "metadata": {},
     "output_type": "display_data"
    }
   ],
   "source": [
    "m=5\n",
    "\n",
    "A = np.random.randint(-5, 6, (m,m))\n",
    "A[:, 0] = A[:, 1]\n",
    "display(Math(sym.latex(sym.sympify(A))))\n",
    "\n",
    "A_pseudo_inv = np.linalg.pinv(A)\n",
    "# display(Math(sym.latex(sym.sympify(A_pseudo_inv))))\n",
    "\n",
    "display(Math(sym.latex(sym.sympify(np.round(A @ A_pseudo_inv, 1)))))\n",
    "\n",
    "fig, ax = plt.subplots(1, 3)\n",
    "ax[0].imshow(A)\n",
    "ax[0].set_title('A')\n",
    "\n",
    "ax[1].imshow(A_pseudo_inv)\n",
    "ax[1].set_title('$A^*$')\n",
    "\n",
    "ax[2].imshow(A @ A_pseudo_inv)\n",
    "ax[2].set_title('$A \\\\times A^*$')\n",
    "\n",
    "for i in ax:\n",
    "    i.axis('off')\n",
    "\n",
    "plt.show()"
   ]
  },
  {
   "cell_type": "code",
   "execution_count": 32,
   "metadata": {},
   "outputs": [
    {
     "data": {
      "image/png": "[encoded data removed]",
      "text/plain": [
       "<Figure size 640x480 with 3 Axes>"
      ]
     },
     "metadata": {},
     "output_type": "display_data"
    }
   ],
   "source": [
    "# Exercise 2, Gaussian normally distributed numbers 5x7\n",
    "\n",
    "A = np.random.randn(5, 7)\n",
    "# display(Math(sym.latex(sym.sympify(A))))\n",
    "\n",
    "A_pseudo_inv = np.linalg.pinv(A)\n",
    "# display(Math(sym.latex(sym.sympify(A_pseudo_inv))))\n",
    "\n",
    "fig, ax = plt.subplots(1, 3)\n",
    "ax[0].imshow(A)\n",
    "ax[0].set_title('A')\n",
    "\n",
    "ax[1].imshow(A_pseudo_inv)\n",
    "ax[1].set_title('$A^*$')\n",
    "\n",
    "ax[2].imshow(A @ A_pseudo_inv)\n",
    "ax[2].set_title('$A \\\\times A^*$')\n",
    "\n",
    "for i in ax:\n",
    "    i.axis('off')\n",
    "\n",
    "plt.show()"
   ]
  }
 ],
 "metadata": {
  "kernelspec": {
   "display_name": "env",
   "language": "python",
   "name": "python3"
  },
  "language_info": {
   "codemirror_mode": {
    "name": "ipython",
    "version": 3
   },
   "file_extension": ".py",
   "mimetype": "text/x-python",
   "name": "python",
   "nbconvert_exporter": "python",
   "pygments_lexer": "ipython3",
   "version": "3.11.1 (v3.11.1:a7a450f84a, Dec  6 2022, 15:24:06) [Clang 13.0.0 (clang-1300.0.29.30)]"
  },
  "orig_nbformat": 4,
  "vscode": {
   "interpreter": {
    "hash": "2a651e4ef1d612eb4226e3395ce5a6e47bf1a7ebb25c7e937bccdf31253ebbad"
   }
  }
 },
 "nbformat": 4,
 "nbformat_minor": 2
}
