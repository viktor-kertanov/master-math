{
 "cells": [
  {
   "attachments": {},
   "cell_type": "markdown",
   "metadata": {},
   "source": [
    "### __Matrix inverse__\n",
    "\n",
    "If we take just an algebra-1 easy problem\n",
    "$$3x=1$$\n",
    "We can solve this by multiplying each side by\n",
    "$$3^{-1}$$\n",
    "$$3^{-1} \\times 3x=3^{-1} \\times 1$$\n",
    "\n",
    "<br>\n",
    "\n",
    "In this case $3^{-1}$ is the inverse of __3__ and we use this inverse to get:\n",
    "\n",
    "$$1x=1/3$$\n",
    "\n",
    "The same problem we may encounter  in linear algebra:\n",
    "\n",
    "$$ Ax=b $$\n",
    "\n",
    "<br>\n",
    "\n",
    "And we have to solve this for x, which is an unknown vector. And __A__ is a known matrix and b is a vector of known values. And we need to get rid of A matrix. We need to find some inverse matrix $A^{-1}$ so in the end we have:\n",
    "\n",
    "$$ Ix=A^{-1}b $$\n",
    "$$ x=A^{-1}b $$\n",
    "\n",
    "<br>\n",
    "\n",
    "__A matrix is invertible if it is:__\n",
    "1. Square\n",
    "2. Full rank (it is not possible to create a column of the matrix by some combination of other columns; \"ранг матрицы\")\n",
    "\n",
    "Example of a non-full-rank matrices; the second column can be obtained by multiplying the first column by 3 or by zero in the second matrix:\n",
    "\n",
    "<br>\n",
    "\n",
    "\\begin{bmatrix}\n",
    "2 & 6\\\\\n",
    "8 & 24 \\\\\n",
    "\\end{bmatrix}\n",
    "\n",
    "\\begin{bmatrix}\n",
    "9 & 0\\\\\n",
    "7 & 0 \\\\\n",
    "\\end{bmatrix}\n",
    "\n",
    "<br>\n",
    "\n",
    "__NB__: if we have a square matrix of random numbers it is very often going to be invertble.\n",
    "\n",
    "\n"
   ]
  },
  {
   "cell_type": "code",
   "execution_count": 2,
   "metadata": {},
   "outputs": [],
   "source": [
    "import numpy as np\n",
    "import matplotlib.pyplot as plt\n",
    "from IPython.display import display, Math\n",
    "import sympy as sym"
   ]
  },
  {
   "cell_type": "code",
   "execution_count": 6,
   "metadata": {},
   "outputs": [
    {
     "data": {
      "text/latex": [
       "$\\displaystyle \\left[\\begin{matrix}-1 & 5 & 4 & -3 & -2\\\\0 & -4 & 4 & -3 & -1\\\\-1 & -4 & -5 & -5 & 1\\\\-4 & 5 & -3 & -1 & -3\\\\1 & 0 & 2 & 1 & 4\\end{matrix}\\right]$"
      ],
      "text/plain": [
       "<IPython.core.display.Math object>"
      ]
     },
     "metadata": {},
     "output_type": "display_data"
    },
    {
     "data": {
      "text/latex": [
       "$\\displaystyle \\left[\\begin{matrix}0.2 & -0.3 & 0.1 & -0.4 & -0.3\\\\0.1 & -0.1 & 0.0 & 0.0 & 0.0\\\\0.0 & 0.1 & -0.1 & 0.0 & 0.1\\\\-0.2 & 0.0 & -0.1 & 0.1 & 0.0\\\\0.0 & 0.0 & 0.1 & 0.1 & 0.3\\end{matrix}\\right]$"
      ],
      "text/plain": [
       "<IPython.core.display.Math object>"
      ]
     },
     "metadata": {},
     "output_type": "display_data"
    },
    {
     "data": {
      "text/latex": [
       "$\\displaystyle \\left[\\begin{matrix}1.0 & 0.0 & 0.0 & 0.0 & 0.0\\\\0.0 & 1.0 & 0.0 & 0.0 & 0.0\\\\0.0 & 0.0 & 1.0 & 0.0 & 0.0\\\\0.0 & 0.0 & 0.0 & 1.0 & 0.0\\\\0.0 & 0.0 & 0.0 & 0.0 & 1.0\\end{matrix}\\right]$"
      ],
      "text/plain": [
       "<IPython.core.display.Math object>"
      ]
     },
     "metadata": {},
     "output_type": "display_data"
    },
    {
     "data": {
      "image/png": "[encoded data removed]",
      "text/plain": [
       "<Figure size 640x480 with 3 Axes>"
      ]
     },
     "metadata": {},
     "output_type": "display_data"
    }
   ],
   "source": [
    "m=5\n",
    "\n",
    "A = np.random.randint(-5, 6, (m,m))\n",
    "display(Math(sym.latex(sym.sympify(A))))\n",
    "\n",
    "A_inverse = np.linalg.inv(A)\n",
    "display(Math(sym.latex(sym.sympify(np.round(A_inverse, 1)))))\n",
    "display(Math(sym.latex(sym.sympify(np.round(A @ A_inverse, 1)))))\n",
    "\n",
    "fig, ax = plt.subplots(1, 3)\n",
    "\n",
    "ax[0].imshow(A)\n",
    "ax[0].set_title('A')\n",
    "\n",
    "ax[1].imshow(A_inverse)\n",
    "ax[1].set_title('$A^{-1}$')\n",
    "\n",
    "ax[2].imshow(A@A_inverse)\n",
    "ax[2].set_title('$A \\\\times A^{-1}$')\n",
    "\n",
    "plt.show(  )\n"
   ]
  },
  {
   "cell_type": "code",
   "execution_count": 13,
   "metadata": {},
   "outputs": [
    {
     "data": {
      "text/latex": [
       "$\\displaystyle \\left[\\begin{matrix}-2 & -2 & 2 & -3 & 5\\\\0 & 0 & -2 & 4 & -4\\\\3 & 3 & 4 & 1 & 4\\\\-4 & -4 & 0 & -5 & -5\\\\-3 & -3 & 1 & -1 & -2\\end{matrix}\\right]$"
      ],
      "text/plain": [
       "<IPython.core.display.Math object>"
      ]
     },
     "metadata": {},
     "output_type": "display_data"
    },
    {
     "ename": "LinAlgError",
     "evalue": "Singular matrix",
     "output_type": "error",
     "traceback": [
      "\u001b[0;31m---------------------------------------------------------------------------\u001b[0m",
      "\u001b[0;31mLinAlgError\u001b[0m                               Traceback (most recent call last)",
      "Cell \u001b[0;32mIn[13], line 7\u001b[0m\n\u001b[1;32m      4\u001b[0m A[:,\u001b[39m0\u001b[39m] \u001b[39m=\u001b[39m A[:,\u001b[39m1\u001b[39m] \u001b[39m#zeroeth column is a repeat of the first column\u001b[39;00m\n\u001b[1;32m      5\u001b[0m display(Math(sym\u001b[39m.\u001b[39mlatex(sym\u001b[39m.\u001b[39msympify(A))))\n\u001b[0;32m----> 7\u001b[0m A_inverse \u001b[39m=\u001b[39m np\u001b[39m.\u001b[39;49mlinalg\u001b[39m.\u001b[39;49minv(A)\n\u001b[1;32m      8\u001b[0m display(Math(sym\u001b[39m.\u001b[39mlatex(sym\u001b[39m.\u001b[39msympify(A_inverse))))\n\u001b[1;32m     10\u001b[0m fig, ax \u001b[39m=\u001b[39m plt\u001b[39m.\u001b[39msubplots(\u001b[39m1\u001b[39m, \u001b[39m3\u001b[39m)\n",
      "File \u001b[0;32m<__array_function__ internals>:200\u001b[0m, in \u001b[0;36minv\u001b[0;34m(*args, **kwargs)\u001b[0m\n",
      "File \u001b[0;32m~/projects/master_math/env/lib/python3.11/site-packages/numpy/linalg/linalg.py:538\u001b[0m, in \u001b[0;36minv\u001b[0;34m(a)\u001b[0m\n\u001b[1;32m    536\u001b[0m signature \u001b[39m=\u001b[39m \u001b[39m'\u001b[39m\u001b[39mD->D\u001b[39m\u001b[39m'\u001b[39m \u001b[39mif\u001b[39;00m isComplexType(t) \u001b[39melse\u001b[39;00m \u001b[39m'\u001b[39m\u001b[39md->d\u001b[39m\u001b[39m'\u001b[39m\n\u001b[1;32m    537\u001b[0m extobj \u001b[39m=\u001b[39m get_linalg_error_extobj(_raise_linalgerror_singular)\n\u001b[0;32m--> 538\u001b[0m ainv \u001b[39m=\u001b[39m _umath_linalg\u001b[39m.\u001b[39;49minv(a, signature\u001b[39m=\u001b[39;49msignature, extobj\u001b[39m=\u001b[39;49mextobj)\n\u001b[1;32m    539\u001b[0m \u001b[39mreturn\u001b[39;00m wrap(ainv\u001b[39m.\u001b[39mastype(result_t, copy\u001b[39m=\u001b[39m\u001b[39mFalse\u001b[39;00m))\n",
      "File \u001b[0;32m~/projects/master_math/env/lib/python3.11/site-packages/numpy/linalg/linalg.py:89\u001b[0m, in \u001b[0;36m_raise_linalgerror_singular\u001b[0;34m(err, flag)\u001b[0m\n\u001b[1;32m     88\u001b[0m \u001b[39mdef\u001b[39;00m \u001b[39m_raise_linalgerror_singular\u001b[39m(err, flag):\n\u001b[0;32m---> 89\u001b[0m     \u001b[39mraise\u001b[39;00m LinAlgError(\u001b[39m\"\u001b[39m\u001b[39mSingular matrix\u001b[39m\u001b[39m\"\u001b[39m)\n",
      "\u001b[0;31mLinAlgError\u001b[0m: Singular matrix"
     ]
    }
   ],
   "source": [
    "m=5\n",
    "\n",
    "A = np.random.randint(-5, 6, (m,m))\n",
    "A[:,0] = A[:,1] #zeroeth column is a repeat of the first column, so there's error with invertibility\n",
    "display(Math(sym.latex(sym.sympify(A))))\n",
    "\n",
    "A_inverse = np.linalg.inv(A)\n",
    "display(Math(sym.latex(sym.sympify(A_inverse))))\n",
    "\n",
    "fig, ax = plt.subplots(1, 3)\n",
    "\n",
    "ax[0].imshow(A)\n",
    "ax[0].set_title('A')\n",
    "\n",
    "ax[1].imshow(A_inverse)\n",
    "ax[1].set_title('$A^{-1}$')\n",
    "\n",
    "ax[2].imshow(A@A_inverse)\n",
    "ax[2].set_title('$A \\\\times A^{-1}$')\n",
    "\n",
    "plt.show(  )"
   ]
  }
 ],
 "metadata": {
  "kernelspec": {
   "display_name": "env",
   "language": "python",
   "name": "python3"
  },
  "language_info": {
   "codemirror_mode": {
    "name": "ipython",
    "version": 3
   },
   "file_extension": ".py",
   "mimetype": "text/x-python",
   "name": "python",
   "nbconvert_exporter": "python",
   "pygments_lexer": "ipython3",
   "version": "3.11.1 (v3.11.1:a7a450f84a, Dec  6 2022, 15:24:06) [Clang 13.0.0 (clang-1300.0.29.30)]"
  },
  "orig_nbformat": 4,
  "vscode": {
   "interpreter": {
    "hash": "2a651e4ef1d612eb4226e3395ce5a6e47bf1a7ebb25c7e937bccdf31253ebbad"
   }
  }
 },
 "nbformat": 4,
 "nbformat_minor": 2
}
